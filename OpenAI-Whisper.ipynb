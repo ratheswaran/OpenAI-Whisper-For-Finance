{
  "cells": [
    {
      "cell_type": "markdown",
      "metadata": {
        "id": "8EgSHt2_Sbch"
      },
      "source": [
        "## OpenAI Whisper\n",
        "\n",
        "To get started, we'll first install the OpenAI Whisper Python package using pip."
      ]
    },
    {
      "cell_type": "code",
      "execution_count": 1,
      "metadata": {
        "colab": {
          "base_uri": "https://localhost:8080/"
        },
        "id": "FfWRmb8dwup-",
        "outputId": "28789f01-5149-42d9-9b4c-6570c5b34b00"
      },
      "outputs": [],
      "source": [
        "!pip install git+https://github.com/openai/whisper.git -q\n"
      ]
    },
    {
      "cell_type": "markdown",
      "metadata": {
        "id": "YSqFgn59wxkO"
      },
      "source": [
        "We'll also make sure we have a GPU available in Google Colab. If you don't have a GPU, go to Runtime -> Change Runtime Type -> Hardware Accelator and select GPU. I have Colab Pro so I get access to Premium GPU's. Run the command below to show which GPU is being used in the current runtime:"
      ]
    },
    {
      "cell_type": "code",
      "execution_count": 2,
      "metadata": {
        "colab": {
          "base_uri": "https://localhost:8080/"
        },
        "id": "eW3KG76YTbj5",
        "outputId": "49c3dcfe-9903-4285-f3e5-e724fc86545d"
      },
      "outputs": [
        {
          "name": "stdout",
          "output_type": "stream",
          "text": [
            "GPU 0: NVIDIA GeForce RTX 3080 Ti (UUID: GPU-97b54dd6-b655-fa12-c9fc-237a3e7c8f1d)\n"
          ]
        }
      ],
      "source": [
        "!nvidia-smi -L"
      ]
    },
    {
      "cell_type": "markdown",
      "metadata": {
        "id": "HB-rNLbcw6IF"
      },
      "source": [
        "Whisper transcribes audio speech to text. To see this in action, we'll need some audio to operate on. We'll extract some audio from a YouTube video using the pytube Python package. let's install it with pip."
      ]
    },
    {
      "cell_type": "code",
      "execution_count": 3,
      "metadata": {
        "colab": {
          "base_uri": "https://localhost:8080/"
        },
        "id": "wDkfUY_PJxip",
        "outputId": "c05bd992-c89b-4c98-c7ed-f3b13cda43d6"
      },
      "outputs": [
        {
          "name": "stdout",
          "output_type": "stream",
          "text": [
            "Note: you may need to restart the kernel to use updated packages.\n"
          ]
        }
      ],
      "source": [
        "%pip install pytube -q"
      ]
    },
    {
      "cell_type": "markdown",
      "metadata": {
        "id": "kUWylTgUxSu2"
      },
      "source": [
        "Now that we have installed the dependencies, let's import whisper and the YouTube class from pytube."
      ]
    },
    {
      "cell_type": "code",
      "execution_count": 4,
      "metadata": {},
      "outputs": [
        {
          "name": "stdout",
          "output_type": "stream",
          "text": [
            "Requirement already satisfied: openai-whisper in c:\\users\\rathe\\appdata\\local\\programs\\python\\python310\\lib\\site-packages (20230307)\n",
            "Requirement already satisfied: numpy in c:\\users\\rathe\\appdata\\local\\programs\\python\\python310\\lib\\site-packages (from openai-whisper) (1.23.5)\n",
            "Requirement already satisfied: transformers>=4.19.0 in c:\\users\\rathe\\appdata\\local\\programs\\python\\python310\\lib\\site-packages (from openai-whisper) (4.26.1)\n",
            "Requirement already satisfied: tqdm in c:\\users\\rathe\\appdata\\local\\programs\\python\\python310\\lib\\site-packages (from openai-whisper) (4.62.3)\n",
            "Requirement already satisfied: ffmpeg-python==0.2.0 in c:\\users\\rathe\\appdata\\local\\programs\\python\\python310\\lib\\site-packages (from openai-whisper) (0.2.0)\n",
            "Requirement already satisfied: torch in c:\\users\\rathe\\appdata\\local\\programs\\python\\python310\\lib\\site-packages (from openai-whisper) (1.13.1)\n",
            "Requirement already satisfied: numba in c:\\users\\rathe\\appdata\\local\\programs\\python\\python310\\lib\\site-packages (from openai-whisper) (0.56.4)\n",
            "Requirement already satisfied: more-itertools in c:\\users\\rathe\\appdata\\local\\programs\\python\\python310\\lib\\site-packages (from openai-whisper) (9.1.0)\n",
            "Requirement already satisfied: future in c:\\users\\rathe\\appdata\\local\\programs\\python\\python310\\lib\\site-packages (from ffmpeg-python==0.2.0->openai-whisper) (0.18.3)\n",
            "Requirement already satisfied: packaging>=20.0 in c:\\users\\rathe\\appdata\\local\\programs\\python\\python310\\lib\\site-packages (from transformers>=4.19.0->openai-whisper) (21.2)\n",
            "Requirement already satisfied: filelock in c:\\users\\rathe\\appdata\\local\\programs\\python\\python310\\lib\\site-packages (from transformers>=4.19.0->openai-whisper) (3.9.0)\n",
            "Requirement already satisfied: regex!=2019.12.17 in c:\\users\\rathe\\appdata\\local\\programs\\python\\python310\\lib\\site-packages (from transformers>=4.19.0->openai-whisper) (2022.10.31)\n",
            "Requirement already satisfied: tokenizers!=0.11.3,<0.14,>=0.11.1 in c:\\users\\rathe\\appdata\\local\\programs\\python\\python310\\lib\\site-packages (from transformers>=4.19.0->openai-whisper) (0.13.2)\n",
            "Requirement already satisfied: huggingface-hub<1.0,>=0.11.0 in c:\\users\\rathe\\appdata\\local\\programs\\python\\python310\\lib\\site-packages (from transformers>=4.19.0->openai-whisper) (0.12.1)\n",
            "Requirement already satisfied: pyyaml>=5.1 in c:\\users\\rathe\\appdata\\local\\programs\\python\\python310\\lib\\site-packages (from transformers>=4.19.0->openai-whisper) (6.0)\n",
            "Requirement already satisfied: requests in c:\\users\\rathe\\appdata\\local\\programs\\python\\python310\\lib\\site-packages (from transformers>=4.19.0->openai-whisper) (2.26.0)\n",
            "Requirement already satisfied: colorama in c:\\users\\rathe\\appdata\\local\\programs\\python\\python310\\lib\\site-packages (from tqdm->openai-whisper) (0.4.4)\n",
            "Requirement already satisfied: setuptools in c:\\users\\rathe\\appdata\\local\\programs\\python\\python310\\lib\\site-packages (from numba->openai-whisper) (57.4.0)\n",
            "Requirement already satisfied: llvmlite<0.40,>=0.39.0dev0 in c:\\users\\rathe\\appdata\\local\\programs\\python\\python310\\lib\\site-packages (from numba->openai-whisper) (0.39.1)\n",
            "Requirement already satisfied: typing-extensions in c:\\users\\rathe\\appdata\\local\\programs\\python\\python310\\lib\\site-packages (from torch->openai-whisper) (4.4.0)\n",
            "Requirement already satisfied: pyparsing<3,>=2.0.2 in c:\\users\\rathe\\appdata\\local\\programs\\python\\python310\\lib\\site-packages (from packaging>=20.0->transformers>=4.19.0->openai-whisper) (2.4.7)\n",
            "Requirement already satisfied: charset-normalizer~=2.0.0 in c:\\users\\rathe\\appdata\\local\\programs\\python\\python310\\lib\\site-packages (from requests->transformers>=4.19.0->openai-whisper) (2.0.7)\n",
            "Requirement already satisfied: idna<4,>=2.5 in c:\\users\\rathe\\appdata\\local\\programs\\python\\python310\\lib\\site-packages (from requests->transformers>=4.19.0->openai-whisper) (3.3)\n",
            "Requirement already satisfied: urllib3<1.27,>=1.21.1 in c:\\users\\rathe\\appdata\\local\\programs\\python\\python310\\lib\\site-packages (from requests->transformers>=4.19.0->openai-whisper) (1.26.7)\n",
            "Requirement already satisfied: certifi>=2017.4.17 in c:\\users\\rathe\\appdata\\local\\programs\\python\\python310\\lib\\site-packages (from requests->transformers>=4.19.0->openai-whisper) (2021.10.8)\n",
            "Note: you may need to restart the kernel to use updated packages.\n"
          ]
        }
      ],
      "source": [
        "%pip install -U openai-whisper"
      ]
    },
    {
      "cell_type": "code",
      "execution_count": 5,
      "metadata": {
        "id": "7tMC7-hcJ-5Q"
      },
      "outputs": [],
      "source": [
        "import whisper\n",
        "import numpy as np\n",
        "from pytube import YouTube"
      ]
    },
    {
      "cell_type": "markdown",
      "metadata": {
        "id": "sX47Qx0CxdIs"
      },
      "source": [
        "Whisper has a variety of models of varying sizes. The large model will be more accurate but will also be more resource intensive."
      ]
    },
    {
      "cell_type": "markdown",
      "metadata": {
        "id": "e4sRzHB3S1-I"
      },
      "source": [
        "![Screen Shot 2022-11-18 at 4.27.50 PM.png](data:image/png;base64,iVBORw0KGgoAAAANSUhEUgAAAikAAADuCAYAAAD84Zc7AAABRmlDQ1BJQ0MgUHJvZmlsZQAAKJFjYGASSSwoyGFhYGDIzSspCnJ3UoiIjFJgf8bAzSDEIMDAyyCcmFxc4BgQ4ANUwgCjUcG3awyMIPqyLsisJ/fb9l7nObxGKfffq4A7reKY6lEAV0pqcTKQ/gPEackFRSUMDIwpQLZyeUkBiN0BZIsUAR0FZM8BsdMh7A0gdhKEfQSsJiTIGci+AWQLJGckAs1gfAFk6yQhiacjsaH2ggCPi6uPj0KokbmhuQsB55IOSlIrSkC0c35BZVFmekaJgiMwlFIVPPOS9XQUjAyMjBgYQGEOUf35BjgsGcU4EGIFYgwMlkCHMS9GiCVJMTBsB7pfkhMhprKcgYE/goFhW0NBYlEi3AGM31iK04yNIGzu7QwMrNP+//8czsDArsnA8Pf6//+/t////3cZ0PxbDAwHvgEAc3tf37qYaAUAAABWZVhJZk1NACoAAAAIAAGHaQAEAAAAAQAAABoAAAAAAAOShgAHAAAAEgAAAESgAgAEAAAAAQAAAimgAwAEAAAAAQAAAO4AAAAAQVNDSUkAAABTY3JlZW5zaG908/YVQgAAAdZpVFh0WE1MOmNvbS5hZG9iZS54bXAAAAAAADx4OnhtcG1ldGEgeG1sbnM6eD0iYWRvYmU6bnM6bWV0YS8iIHg6eG1wdGs9IlhNUCBDb3JlIDYuMC4wIj4KICAgPHJkZjpSREYgeG1sbnM6cmRmPSJodHRwOi8vd3d3LnczLm9yZy8xOTk5LzAyLzIyLXJkZi1zeW50YXgtbnMjIj4KICAgICAgPHJkZjpEZXNjcmlwdGlvbiByZGY6YWJvdXQ9IiIKICAgICAgICAgICAgeG1sbnM6ZXhpZj0iaHR0cDovL25zLmFkb2JlLmNvbS9leGlmLzEuMC8iPgogICAgICAgICA8ZXhpZjpQaXhlbFlEaW1lbnNpb24+MjM4PC9leGlmOlBpeGVsWURpbWVuc2lvbj4KICAgICAgICAgPGV4aWY6UGl4ZWxYRGltZW5zaW9uPjU1MzwvZXhpZjpQaXhlbFhEaW1lbnNpb24+CiAgICAgICAgIDxleGlmOlVzZXJDb21tZW50PlNjcmVlbnNob3Q8L2V4aWY6VXNlckNvbW1lbnQ+CiAgICAgIDwvcmRmOkRlc2NyaXB0aW9uPgogICA8L3JkZjpSREY+CjwveDp4bXBtZXRhPgpRPCiRAABAAElEQVR4Ae2dBZxVxRfHz9JhkIKAgqQC0t2ChCAIS4c0SHd3LQ0S0t3d0h0CioiSCioh/pXukvrPb5a5vvc23iK7++p3Pvveu3dm7tyZ78y998yZM3f9nisRCgmQAAmQAAmQAAm4GYEoblYeFocESIAESIAESIAENAEqKewIJEACJEACJEACbkmASopbNgsLRQIkQAIkQAIkQCWFfYAESIAESIAESMAtCVBJcctmYaFIgARIgARIgASopLAPkAAJkAAJkAAJuCUBKilu2SwsFAmQAAmQAAmQQLTQEBw6ejq0aMaRAAmQAAmQAAmQwH8mkDtL+lCPDVVJwZHOMgg1d0YGIQDFj0yDYPG4ALajxzWZTxeY/dWnm99tKx8WQwine9y2+VgwEiABEiABEvBtAlRSfLv9WXsSIAESIAEScFsCVFLctmlYMBIgARIgARLwbQJUUny7/Vl7EiABEiABEnBbAlRS3LZpWDASIAESIAES8G0CVFJ8u/1ZexIgARIgARJwWwJUUty2aVgwEiABEiABEvBtAlRSfLv9WXsSIAESIAEScFsCVFLctmlYMBIgARIgARLwbQJUUny7/Vl7EiABEiABEnBbAh6ppFy9ek3Wrd8gd+/edVuwLBgJuBOBx48fCz5Gzpz5VbZt3ylPnz4zQaH+Pnv2TB//9OnTUNNFViTKjfqEtfyRVa6wnMexLcJyDLjjuOfPn4cluUelCSuPb/YfkCM//mTVzZHJy/ZpK6NI3ghrfSOzWIbly1xPkXVPcPq/eyITFM714OFD2bhps5w8+bP8femSZEifXvLkzil58+S2itK77wDZvHWbNG3cULp16WiFe/vGrj17Zeq0GfLWW29JzuzZdXXffjupZMuaRRIlSujt1fea+qEd/7hwMdj6vPVWYild6uNg4/5r4K3btyV7rvz68BNHD0v0aNHEv1otuXfvnkyfMlGKf1TUada7VZkbNW0h2bNllRVLFzpNH9EJRo4eI1PUtdC6ZTNp37Z1RJ8u3PK/fv265MpXWOf3y4kfJXr06GHKu1KVGnL8xEmZN3u6FCwQ2JZhOjAcEv38y2nZv/+gLqt/pQoSN27cILn+cfGi7Nq1VytS5cqVkSTqHhUWceybsWPFCvawEydPyef1G+u47w/ulQQJEogtEzwfXrZPB3uiCA4Ma30juBhBsh8yfKTMnDVX2rVpJW1aNQ8SH1xAZN0T3EpJ+d///pLGX7QQXBRGNmzcrDebNW0knTu2Fz8/P8mdK6fsU1p1lg8zm2Q+8bt8xSo5+O0hXde169bb1blr5w7yRZNGdmGeutOxS3fBqKh7186SP18eT61GiOVGO5p+7ZgoX97c4a6kOJ4jmlJSCqkH3fc//CCpUqV0jA52390G8N5gUXiZOjx58iTYdomMwO+/PyyDhgzTp4oVK6ZUreIf5LR4wM2Zt0CHZ8mSOcxKSpCMVMC8+Ytk2YqVUqF8OWncsL5Okjx5Mnn3nRQSL148efPNN3WYLZP/0qd1Jvz6zwQi657gVkrKhElTtIIC5QMP3UQJE8qhwz9Irz79ZfLUGVKieHHJmSObNGxQVxrU/1wrLP+ZsAcfmC5tGunYoa3cvnVbMCrHA2/YiNHynnrglCoZvqNwV2D67bff9ajxzp3brjh9pJ2z7Cel5ePiH9mdL6Hq85EhkyaM1VMHUPopJBBWAgsWLQmipMD6bRSUsOYTWrq/Lv2tr/88uXNZyeIpxWTntk2h3vPZpy1cXrXhVkrKlm3bNdwWzZuqEXRevZ0uXVqJESOG/PTTUblx44YOgzKzecs2qV+vjvhX/Ew6d+0hv5w+E2zDfDXuS62BY9SyYOFi2bZjpxz+4Udttv64xEfyee2aoXb8YDN1cWBl/4pS6uMSuhRVKleSurebyL5v9suu3Xu1koIRxvQZs2XTlq1y9NhxgVIDnl06tZc4ceLo4xo0bibXrl1TpvJWsnDxUm2hGT92lBQrUli2qKm02XPny7HjJ+X111/T00ldO3WQlCnftTu2e9dOMnvOfNl/8Ft5J0Vy6d+3l+AhO2DQYM0YSlOTxg2kfLmyFrHffj+rbmjzZc+effKPmmMv8VExqfd5bUmrynj5yhVprKYUYNaG9Bs4WL6aOEWmTZmgR2ahHYv0O3buljHjvpI8eXJJsqRvC26oCRLEl2WL58v3StmdMGmq/sVoMEe2bNJZ8UibJjUOdYlAGa/4Wflgz21bl/fVlOfc+Qvl7LnzWknv06uHpH4vlXUc2m/9hk26rWEhad6siVbskWDV8iVWOtuNJs1ayqVLl2XE0ADJkCG9PHz4SMZ9NUH3IVgyUbZPypRSI9kGEjWqvevaxk1b9FQL2gMPkh7dOkua1O/ZZh/i9v379/Wx+745IKeVtQzHf1SsiNSpVcM6xvTNHt26yPyFi2S36isJVTvWrFFNT/E6Klb//POPVKv5uWCOvG/vnpoRMsN1UL1WXT0FMSRggGTK+IF1DmzYMk6bJo3Mmj1X/vfX31KpYnnp0bWLYr5AXwd37tyVYkULy6ABfeXNN96w8kD/Qh7fHfpe0qv7FKZhYPE11xgSLlqyTL5ev9Fqm6ZNGlrH227s3bdfYGHbsWu3HmwUKlRAmjdtoq8/23Su3sb9BP3jfdVnjGxR9+LgZNDgYZoN7jEfFQucUjx/4Q9p3baDqtfrsmDuzCCHoV8aa/GSZSus4zNnyqSmG5tLlChRZPWKsPXpsPaj8+cvyPRZc2S7ejbEjhVbGqjnyj3VT3FNoV9Wq1pZVq9ZJzNV/yip7ruYYjRS6/P6yjfynkwY/6W6B6bQz6jRY8bL/gPfquv1nH7OlPukTJgH1XBxaNqslcSMGVMP1EeMGiMnT/0suXLmkMED+8kvZ87IcDUg/ePin/oa7dWjq3zwfgZTHEE/WrFqtcB/543X35DCqh/VVfdX2/tFcPW1MrDZgM/n1OmzZM/efYJrHdcAnj14RkSmuJWSkiplSvXgvC5TlNUkebJk1k2ligKDjxFMC+FBBgdaCDrJVfXANYKbCubbIWagiIfdl2PH6zBcYHio4wPFp23rljrcU7+yZ8ui63Lu/Hldhf7q4Y4bKAQKyplff9MfxM+eMVWHHz9xQrNu076zxQo3ezgkt1VhkPdSpdIX2qa/t+rOf2DvDnnttdcU+8BjmzZvbR2LG1fDJs31w+TCHxdfnOOkzitd2rT6poYLsEbtuvq8CRMm0HPcKCeUqTUrlkrUaFGDtCMyev7sufZPCu3YZMneluuqLdEv8DA37R9N5Yn5bDzEIEUKF5TLl6/I1u079OfQgb1KsUqg49zpK7i6oHx79n4jw4aPkimTAvsyTON9Bwyyig5fLUyFmvorelac7QaY/P33Jbn/4IEObt+xi/bzAosSxYvpBwWsc5hD76KmWY1AsWjZ5t/9neqheurnn2XPji0Ck3togv7VonU7XQekS5o0ieB4fHDdt23dQh9u+hceWKYe+EV5ChUsYN0XzLkwiIEPBNp0+44dlpLyoxrYwNESPhQZ0qczya1fR8ZIh/PMX7BYjh49rhULE4YHFgY6X40drY8fO36ijB0/QW+jHjgPPkePHZOpk77SA6tly1dKz979rPOhbTDF5ij7DxyUeg2b6ODAa+687sfH1SBhulLQUT93EHMvWb5ylfTq3tUqEpRkiLlfmAhch7gebymLr5FHyuqCsOD8WpDm9u07dm2O+7pxNMVxoYljnw5LP0L/Bntzz0L+ffoP0uVDX8DACYJy4PwZHRRdDOSQ7pFS8uF0WqV6HX3PRP0wPWX6xeMnj8M0HY98TD2hZEGQf6D/R3OtIJo+eUANDnFf+/H7A2ogEVXfo00/Qppr187psqzfuEnfX3GPRF64T0OBMoL6Ot4DoeC3Usok7jcQtD2uAXzmzJymlR9zfET/2g+RIvpsTvLHqBuChi1fsYrkzl9YP+QwssdILySBmW//nh36s3v7ZkvLh8YL7Raao1FQNqxT/gDqs23zet0RcbOB0uOpAi5r1n6ti59dWQcwmnyobgSwXqCOmzeslfVrV+p4dDgocLYCC8iWjevkzKlj2qoBFjgWD8HtW9YLHC3RgdG5j/x41PZQrVmfOXVU9u3aZl3UuBBOHv1Bjv94SN+0cADmtCGjvxynH0ZQOL/bv0e3V53aNXQYrGN40KAdja/RqOGD9T4eAs6O1Sd48YWy9uvTU5cBdd++Y5eOqVGtilbS0P5wtkQ5zqm+4SqBtapqjTp2HyiJtoK6wFny15+PydjRI3QUHsawSOBGYhQUjODhiHlE3bBsR7m2eYW0DXM9HqCQ1cryMm3yBFmurE/g8+SxvS8EyjNBWSd/++W4zJo+RR8DZQdTdM5k7dcb9E0PN9A9O7fotoXjLgQPfFyntoLRI/oSHCVz5gh0FDdtaZsO259V+FQHbd4SaI3Fzs5de3RY5UqfhapAoU4YnR878p3lAwGLwczpk3XYsMEDdT6w6EBRQTmNgjJj6kRdD9RH10tdY6gnrsOuPXrr42rXrK6vI/T5t5Mm1WG2X207BA4KhiurFq657w7skcyZMuqBByzG7iIflyiuFcslS1dY9+Pfz56TQ+r6hmIbVv+m0OqzZOFcafZFY52kYf26mu2rTmGH1o8WK0sXFBS0He6X6Nfo3+gTLysXlfMw2q1m9aq6DXepZ1H/Pr10NrA+vqxgcIA+CaUXgoFg8y+ayNEfvpWtmwLv+SgnBqGQDp0DFUfw++nwQX3t4LrBAAAWZshSpTgbBWXtyqXqvn9U0O+QxlZWq2cKnhdQTn46/K1+jowbM1In6dojsE626SNyO/ShT0SeOZi8MYWxYO4smascsHDTBDjctPHBjXf+nBnaqzuYQ62gwUNHqKmGI3rE1aZV4MgMGraRv/76S/CBmI54/ORJwcPVU2SoGklDw4clydaBFuZ5mENHDBusb6YXLvyhFT6MToxgigdTOEbaKVOs7ZSHcb69dPmyHkneuXPH6sCXlCXEVmrVqK41eLD7MHNGPfrG9BumUyAFCuTTF8T1Gzf1/s7dgQ+NFEpx3PVi29y0jYlXJwzm62WOxYVVt04tKxczSli3fqO6ySbVzrhNGjWwymkljOQNPNzxsZXSpT623dU3PbOaAz4sPdTIHP321M+n5fXX4lppoXRhpcib6oMVb1B+wiox1UgdN2nk271XX6mqphCzqhVjuHk5ChRG9DNI0SKF9EMLdYD5GdNGsHag79gKrusypUvKT0eP6eDGDetJiuTJ9TZWFuFGimsW16mZUkRkvbq1dRuhP6HuSINpu+CkmJoyguAGDCUC+WzavFWHlStbRv+G9IXzG8UYD9vpM2drxdyYtQsr6xsEfDCqP6YsiRAcZ6YxUJ9Gyldu3FeTtDUFzv1GuqvpMKxawQdTpLXrNjRRmpV5QCSIH19blRAJB1HIT8eOSflPy+ptV3/BKgmFa5QabGzdvl0PZlasXK2LVaNaVT1t7OoyBnf+0PqRsVq0UFOkZkoE/RsWO1jaX0bQ58Z+OUL3kbNKebut7p23bt/SWfz5v/+9TFY6bZUqlfQvplmM4NrEdCemV2GpgYJ1Q91fYaU2/ah1y8BpMVw37dq01KuiMCUJOaWmjiAYwGfOnElvYzCyZOlyfX3pAPUFiyAE/fD7w4GDzLgvXAVwvWOVWmSJWykpqDRWc+CDG8LRYydk1eo1slxdCNAiMW9oa3p2hIR5Qzhw4aH05chh+gGKNKfVPJ4RLKN0FD0KfOHj4RjnrvvwpjeCzoo5d2jxkHVqJGceZiZNSL/J3rZXznDRduzczdLOQzoO4bbKTrRo0XXSWLH/XUIYM+a/ZmqM1s1FZLR627zxcIG51NH/AWnCeqzJD9OGtuKvRtKYo8VDC+ceMy4wFkvYO3dsZ/UT22MiY7uTcn6GsmQrUaJEtd21G3nDpPtW4sRyVl0bz58/k79eKDjo77ZLWZMkecsuD2c7UGzhj9S6bUd9YzY3Z/Sngf37SNYsH1pZGKXSBGBaFjet5y+mlbZs3W6N1EyalO++q5WUn3/+RQe9+847Jkr/wncJCsiZX39V+6WtODjOGzFLWkN6T0uc2LG15Qf3CowAiyk/GvQpsMnxYrm+ycvxF8qBEdOPzQ0Z4TGU4mcrv74YuaZ28MOB8g05deoXwQABAqUOZTPi2DdNXojHykZHOX0aTNxHKn1WQSspi9QUT5lSJbWvFBhDYTXTPu5T2sCShNaP/lAPeUjSJEkCE7/4/i+DVlg2R6ubCxZ5hIeY5di47o3Y319jmmDLkom2MMch0gwGoMzgPgrfEgim5mwFRgBcg0bQhyGwkuHjKJjKiyxxGyUFc+PHj5/QDwyMUDCyMwoLGgbzxJijDUlOqRtgB/VwhcA8hsYyghspBCNsmPKMPFEvSIqmOoBtWhPnzr9FleOSWcuOi8ncwFFmTNcY83GHdq21YyKc/T4pH6iVO6tX0+at9EOnUsUKUuHTcvr9K23adQry4HGWj2M8LhwzWp88cZyktrlI8OCJGi1asAoK8nmVY83xE8ePUaP9i/KtWsIN50QoLFOnz5R3331HaimHTFcIfDhslYuXLYOxgEH5u3LlqiROnEhnceLEv5bDsOYJq8EP332jHRVhrYDTIhTWOvUaadNxWPMZPnSQmop6YJccSjQErHEjvKR8gmzlb+XAC0n+wrpiG/cy2+VVf4WSsn3nTu3fhGOr+FcKsV+9TN62ac2N39GyeEVZNyGp1Ij6baWcQKDA6f794kHjaGV622aQsGXDWn0Mvsy9KbaNgmNFunAD9xtYj+BHNGPmHD2YbFDv81Cn02ynmPGgdCfJ+MH72mJ8TD17cM+DYLB05MiPwRbztvJhMYIpPQymjWBKBwoKnicd2rXR1n8oq+07dTVJIuzXPONwL7Dtb8ZX0ygv6LtwpzDXnCnQxT/tLT3mWsVK2hpVq5hkVr9MniK5HFDOwZEhUSLjJGE5x9MnT5VTZT1tpt6lltUagXb6559/6d3MmT4wwXa/N2/d0p7fCMQcIF44ZSvG2QmOclhjj5Uk+BxV5uf1avkuHCk9SaC8oY742CooqAM8wSEYwbVs/oVWUu7cvavDnH3duKnMhi9G5x3U9AFGR3g/gXEec3a8s3isPIH88ssZqw2iq6mGTWreHZYOI2bkYHvhhPVYk4ftL6YLoZBcv35DsBoKCgtMnBDMI3uq4IGBdobAye3Awe/0qrdeffu/VJWg2IIPVqLky5tHO5Ivmjdb54GbcFj7Dw7AAAMrCmw/ZgonW5YsOk84lJqHFd6HY2u50Qn+4xeuCyjCsKTA1wCCaaLwlkwvLJY4j7GEYJC1fEXg1EeWDz+088+Yr1YVQuDPgqkkW4FCgzJDrikTurk3wZyOexMsyO4m1av66yINHxU44IPPT3CS9IVFb8++fdpHB2mM71Nw6U1YdKW8Q85fuGCCIuzXLHOGfxic0LHys0+/AUEsyeY+i9Uzpu/u2RfoVGoKBz8mSIniH2m/FNyf/8s0j8nvZX6hVJh+tErNKBgx14GZfjQrgbByDU7DEChocMy1FWM9hSXvvfdS6X4JSyFWQMER96l6LkeWuI0lBVMHWOq1VI3gGiqvZswJJlFv3/zhyE/WKB7Lv4ITvEfFPFy/+/57wccI5urfz5BB36zwPpHPKlfTS6jOnT+vfSjQsLbLH81xnvqLkQEEPOo1bCp4Iy0eCmGR+Gr+EQ89HNuwSTOt4GzfuctutBCWfEJKg+WXuEnBiRkrL3ATg5MhHoS2K6xgKYK2jyWMWP42ctgQCeuxwZ0bD2H4SqCt4TwLJQgjbkjhQoWCOyRSwsZPmKyXuNqeLHfOnHpe2zYspG3MTcNqWKFSVW2SrV23gU6KF8KZqbWQjrUNjxc/nqAsaAc4auJhDydRCG5utstubY972e1yZUvLjFmz9fVcolRZyaoe5liJBIEygVVgryKwTFVX9xAsFYUVCBYcMwX6Kvk6Hps+XTrrflKpak39Yjz4juC6gRkd9URZWjRrKhMnTxWstluoVrFB2TP3KZMnptow7Yc0NevU1y8wQ5zxNYMfnrsJLCm4ltBf0NeMEupYTrwJG4rv9h27pHjJT5SlL7HdlIJjerOfP18+3R9xXGX1ZuROHdpJSvUQjgiBwzUGxeBtnNBxHigYuAcZMYop6pwnfxG9JNjxwW78mvAMw0q2B8qiGBalzJzjVX7RjzB13W9AgHTp1lMte98gN2/e0lYi5GumlVHfCapPoh8WKvqxXjpvW09Thk/LllFvoJ2jBxB4sy981PDWYUyh4p5ge782x0TUr9tYUlDBAPUeArMGHaOrFavWaCi48JctXmBZSNAgEPO+BIzGjJhlUuYXTkXwcxg1fIjWbuH4tlg5CcFRE6M+vEPD06Z7TL1NnW1/MbpGXXETAUMoKLAuYR/ieKzjPlZ24OYOj3EsDy5cqKCUVF79Lw4O/H3xbXtslCh+OjSKX8hdChc+lq/hF+Zi3MBw0UORbNWimZU3rBzmPTkYrT589FAf4+zYqC/6hZXRiw2sEjD9aoa68GA1gDIGJzc8kF0lqDtuFrafK1cDrXoh1cWU1bDHQ/ib3dtl+JBB2vMfS2SDc3g1x5lf42eBfOAzsXjBHO08imWNeM8DpmWgOEyeMFYfopJpMdeeycfs+8mLBCYimF+8yhyO8XjIoc64gcO5D86Yo0cMDTItY+qIrMy2sbKZ/mbCzenKqZurEf9KFa3jTJjtrzPGJq3jOcz9BOVG+VEP1Af1mjtrmuXcj/eD4B1AuPbMCgzb6WaTL9JgSS/uc3hY4oP+CYtfgfz5dDGg9LhMXjS+KS+mKD9Xq/IgeHeNo5h04I+BJwQ+ERgYDujbyzF5kH08BI2lEw9QTKuZPG0TOzKx7dO26WyPNdumH2F/pFposFBZDvFKePg8YlWOGeyZ/p36vVQSMLCfpZxBQUFdzH1VFVBfL7jXQOAfCcUVqwxfRvxCuIeZPEz5zT5+TRgWC+C9KehHuG/CsoN7LVYH4heCQevsGVP0Pu4/4Is2sl1ogHS4Vuer99igT0PhxzvGoKBgSgzT9ZCQ7gk6Mhy//JQJMvgXKaiTHDp6WnJnSR+OpwtbVpgTvPjnn2p9/S2tpYfXSA5nR3UxL/yG8tOwdWgLW8lePVVkMUU9MZqOr0bJ5oJ8mdJjCg0vFLJ1wnqZ452lxQVyV30SJ0qkVyQFlx79AO/5cCx/WI4NLj8wwYqoGMqh91X7VGS1Y3D1MGGYE8dKLyjemMYyLyuDEoZwjOxCevGVycPxF0va8e4g/A8hR+6OaV9lH/PmmC83ZvRXycv2WPga4V0skN07NutXENjGR8Q27idwzgyJF/rxrVs31bUY33qghFQO/cJKdfeHVTM8xZX99dEj9Kmb2pISnGN8SPXE9Yp+4qiMhJT+v4TjHTVbt+3Q/lzNmjbW9yLcX/IV+kgPoLAM3azyQv645vASRLwkEvfH4AQuCng3DNIYBSK4dBEZhql7lC+0ZxxWfUaPEd3pPR71MT5v4d0WYemXLlTPQ24idORA8174m/jQaRw9uUMuiefGoJ6v8k8H8RrqiBSMQKxRSAgnCumGFpZjg8sSTIxzaXDxnhaGUR7MyngbLVa1YYr0T+UAhxEP5L9MY8IygNFWRAse6OGpoGDZMcz1GEFCYOXAO5IiQ5zVA/0YI9OwCBQZbxM8LI3v1MvUDddreD8UHc+PlWfmlf4rVq6Rd95JbvUhWCRs/7EtjsU15+z6QJldbZ0Pi5L7xhuvO+IIdh/1cVbnYA8Mp0C3VFLCqW7MhgS8nkDvnt3UjTWFXnaO6T3cHDE9V7NmoO+V1wN4UUE4AUJBwVRlWTXl016Z7ikk4IwAFgZgVdXosYF+cuhDsEAG+l20cGplcJY/41+dAJWUV2fIHEjAZQRgkWjUoJ7+uKwQbnBiPFh+Px34kjU3KA6L4EEEsKIK/j8U9yQQspeje5aXpSIBEiABEiABEvARAlRSfKShWU0SIAESIAES8DQCVFI8rcVYXhIgARIgARLwEQJUUnykoVlNEiABEiABEvA0AlRSPK3FWF4SIAESIAES8BECVFJ8pKFZTRIgARIgARLwNAJUUjytxVheEiABEiABEvARAlRSfKShWU0SIAESIAES8DQCTv93j6dViOUlARIgARIgARLwDALO/j+g0zfOOsvAMzC4TynD8g+V3Ke0LElIBNiOIZFhuDsSYH91x1ZhmdAvnQmne5wRYjwJkAAJkAAJkIBLCFBJcQl2npQESIAESIAESMAZASopzggxngRIgARIgARIwCUEqKS4BDtPSgIkQAIkQAIk4IwAlRRnhBhPAiRAAiRAAiTgEgJUUlyCnSclARIgARIgARJwRoBKijNCjCcBEiABEiABEnAJASopLsHOk5IACZAACZAACTgjQCXFGSHGkwAJkAAJkAAJuIQAlRSXYOdJSYAESIAESIAEnBHwKCXl6LHjMmfeAnn69KmzejE+HAhcu3Zd7j94EGpODx4+lF9/+13u378fajpGkgAJkAAJkMDLEnBbJeX3s+dk567dSiF5ZtVpwsQp0n/gYPn997NWGDfCl8Dz589l6vSZkjt/Yf3JnDWXlChVTg7/8KPdia5evSa16zaUTFlySqlPykvmbLmlS7eecufOXbt0jjup02cSfC5dvuwYZe33GxCg06xbv8EK44ZvEkB/RD+4dfu2bwJgrd2ewO3bd2Td1xsEfZUS/gTcVklZu+5radS0hfzz+B+r1v369JRZ06dIunRprTBuhC+BufMXytDho6RwoYIyZ+Y0+WrsaHnw8IFUrVFbLl+5ok8G60r1WnXlwMFvpWf3LrJs8Xxp16aVLF+5Wnr3GxCmAq1Z+3Ww6ZA3ygB5ZqOgBpuYgV5P4Ov1G6Vt+85y6NBhr68rK+iZBIaNGCVtO3SWm7dueWYF3LzUTv8LsjuV/+23kwo+IQk0WT8/v5CiGR4GAmvXrZcsH2aWUcOHWCzjxI0jDRs3k8OHj8gnZUrJMTXtdvbcOencsZ00alBP55ozR3a5rUa7M2fPlXatW0qqVCmDPVvChAkE00hQhJo0amCdwyTesmWb2eSvjxO4d++eDAgYIu+lSiVFChf0cRqsvjsSOHb8hCxaskyqVvGX+PHiuWMRPb5MbmlJaaAeiDNmzdVwP61QWeo3aqq3581fJKXLVrCgt2rbQU//zF+4WE9JpMmQWU9BnD9/QacZMGiIVK5WK4gPS49efXU6KyNuWASqVK4kvXt2s1MeEiVMqOPvvfA7+enoMb1fruwn1nHYKP9pWb2/Q03ThSZx48bV0Ye+Dzo6XrBoSWiHMs6HCEycPE0rtAP69ZIYMWL4UM1ZVU8g8OzZM8HUNO5nXTq294Qie2QZ3VJJKVWyhGT84H0N9LMKn0rJj0vo7WvXr8mZX3+zQF+48IeeYpg4eaqUK1tGShQvpqcgRn45VqeBReDIjz/pjzkI84eLly6XTBk/MEH8tSFQs3pVgVXEyOPHj2XKtBl6t0C+vPrXTMM4Gq2ePAl0aP7jj4vm8GB/qypFKGnSJLJ8xSq7+N9+P6t8X45I184d7MK543sEzp07L5OmTJOyn5SWggXy+x4A1tjtCcDqjOcL7lewEFMihoBbKil4UObPl0fXuEnjBlK7ZvUQaw+T8NJF86RDu9YybfIEqVa1sqzfsEn5UTyUj0t8pI/bbDOFsGffPh1W4cWoP8SMfTxi2IjRyg+ljmTIlE1Onz6j/E4WSLJkb2sqOXMGKjFLlq6wKGGqbeWq1Xr/ghMlJUrUKFK3di2tYNo6RK5Qx2NUUqZ0KStfbngvgUePHll+To61HDh4mA7q2a2LYxT3SSDSCNy4eVPwjHEULBAIGDpc3s+QXvC8okQcAbdUUl6mutmzZZUUyZNbhxQskE9vnznzq7z22mtSoXw5Wb12ncA0B9m0eatgjjtz5kx6n1/BE0icKJGkSvmutnjAerV+w0ZrmTGYFy1SWGDBatG6nUyeOkMaNP5Cz80itxjRowefqU1oxYrl9R4USggsNpjOq66UzDixY+swfnk3gQULl0i+gsXk+ImTdhXFqj58unXpGKoPmt1B3CGBCCCAFYvlKvgHWbU4acpUPRUZMLCfRI0aNQLOzCwNAY9XUoy/hKlQvDcDnZeMUlLxs/K6M+FGCOvKho2bpUrliiY5f0Mg0LBBXRkxbLB8s3u7jBw+WGbPnS8bNm3RqaNFiyYTvxoj9evWkR9/OirDR47WF/GKpQu1JSRNmtQh5PpvcNIkSaRkieKyWDmdQXbt2atHLPCJofgGgVKlSuj+gtU75n08sK7gNQMYSKB/UUjAlQRgmYdluN/AAKsYeD0GBmaIw4CNErEEPF5JcYankJrPxhTClq3bZd83+3VyR4dPZ3n4SjyUOHirw2/HCFZLfVb+Uz3numr1WhMssWPFkj69usv+PTvkzKmjAgXlrcSJtaKROnUqK11oGzWqV9Gj6BMnTyllZbleVQTzKcU3CMACOnrkUL1SbFDAUF1pKMN4KNBZ1jf6gLvXEgMpDNhw7zOvTRio+iqeKZ07tHP34ntF+dxWSfHzCywalrW+imDUX71aZflavRAKUz1wCn33nRSvkqXXHvtQvaPkM/9qMnnadLs6PvrnH22NSvZi+feBg9/pVVawfkCMuXP8xMl6P1vWsI0uihQupJWfMeO+0ub9OrVq6OP55TsEzEMAzuxYvg5fKDjB01nWd/qAu9cUK3ewCKN9p65q1ekc2a3ue5iKpLNs5LSc2yop2bJm0QRw09q7L9AC8l+RlC9XVo/OoA1X9udUT0gc48ePr314Jk+ZLoOHjtDcMT1Wq059fUgFZVGB5FKOs3fu3pXWbTvKytVrdLrefQfI0mUr9LtTUr+XCsmcCpSbOrVqyvYdu3RavIOF4nsEzENgEJ1lfa/xPaDGWP4+fuwobT0JGDJcMmfKKDWqVfGAkntHEd32ZW4F8ufVPgur16yTg99+p6cVgntRW5Qo9npWlCh+umVs00ILhnkOXtqlS33sHS0XQbUYMTRAEiVKqJ1gp8+crc8C/wC86bdwoQJ6P7pyjF00b7a0btdROnXpocPAFz4ETRs31PuhfflJYBshjX+lCjJ2/AS9ggt5QEzbObatjuSX1xHAQ2DCuC+lT/9BUkk5VGN5OoUE3InAOylSyNRJ49Wy+OnSo1tny3rsTmX01rL4qaWjIf7DgUNHT0vuLK71EcCqDwgejP9V4JRXtHgpyZsnt37N+3/NJzyOcwemYakHugX+v06c2HHkjTdeD/EQvCofb5BNny6dunDtFcYQD/KCCE9pRy9AzSqEAwH213CAyCzCnUBY+qXbWlIMjVdRTpAH/jkZXrqDB2mzJo1Mtvx1QgDWDKzAcSZwlsWHQgIkQAIkQALhTcDtlZRXrfCQYSMl3ptvyugRQ/lulFeFyeNJgARIgARIIBIJeL2SgiWyFBIgARIgARIgAc8j4DtOBJ7XNiwxCZAACZAACfg0ASopPt38rDwJkAAJkAAJuC8BKinu2zYsGQmQAAmQAAn4NAEqKT7d/Kw8CZAACZAACbgvASop7ts2LBkJkAAJkAAJ+DQBKik+3fysPAmQAAmQAAm4LwEqKe7bNiwZCZAACZAACfg0ASopPt38rDwJkAAJkAAJuC8Bp/+7x32LzpKRAAmQAAmQAAl4MgFn/x/Q6RtnM6VP5cn1d7uynzh9TsjU7ZrlpQvEdnxpZDzAhQTYX10In6cOkQD6pTPhdI8zQownARIgARIgARJwCQEqKS7BzpOSAAmQAAmQAAk4I0AlxRkhxpMACZAACZAACbiEAJUUl2DnSUmABEiABEiABJwRoJLijBDjSYAESIAESIAEXEKASopLsPOkJEACJEACJEACzghQSXFGiPEkQAIkQAIkQAIuIUAlxSXYeVISIAESIAESIAFnBKikOCPEeBIgARIgARIgAZcQoJLiEuw8KQmQAAmQAAmQgDMCbqGkXL9+XVavWSuXr1xxVl7GkwAJkAAJkAAJ+AgBt1BS/rj4p/Tq3Vd+/+13H8HuvtUc/eVYyZwle4if+/fv2xX+zJkzVtrNW7baxTnumHxDU0YHDxmm89u4abPj4dz3QQLPnz8X9IXbt2/7YO1ZZU8gcOfOHdmwcZOgr1LCn4DTfzAY/qdkju5MoPhHxSRF8mRBijh33gI5d/68RIv2b5d59uyZ9O7b30r7XO2HRdav3yAN6tcLkvTBgweycNFiHf706dMg8QzwPQJQULp07S7jx42Rj4oV9T0ArLHbE8DAbtnyFVIgf36JF+9Nty+vpxXw3yeOG5UcGqmfn1+oJXKWxlk8Mg9LmlAL4YWR2bJlFXxs5fLlyzJg0GCtWMSIEcOKguXk+PET0uyLJjJ5yjQrPKSNBAkSCKb2Ro0eI/Xr1Q3Sxtu27wjpUIb7IIF79+7L0GEjJFXKlFKwQH4fJMAquzuBEydOagWlUqWKVFAiqLHcYrrH1O3mzZvSp19/yVegkJQpW16+HDNOHj16ZKLln3/+ka8mTNRxH2bNITVq1ZF169Zb8dg4/MMPUq9+I0F8iZJlZOSo0fLw4UMrzd1793S+n5avqM8DS8C5c+eseG4EJTBn7nwd+HmdWlYkmI4c9aXkzJFDPilTxgp3thE3bhyd5PAPR4IkXbpseZAwBvgugekzZmiltlfP7mKrHPsuEdbcnQjAkjx4yFDBPa1929buVDSvKotbKSl9+w/QI/O6n9eRtGlSy4yZs2TQ4KEW8GHDR+oRe/bsWaVF82by7Okz6d6zl+zd941Oc/bsOa2gPHnyWPr07ikff1xcZs+ZJzgOgk7VrVsPnW+uXDmlWtWqsnv3HmnWorXcvHlLp+GXPYFr167JnLnzpHq1qvLWW29ZkTNnzZFLly5Jr17dJUqUsHejihU/kyRJksjq1WusvLCBtjty5Efp0L6tXTh3fJPA+QsXZNr0mVK6VEnJly+vb0Jgrd2awPoNG+Wno8ekQ7t2AisxJWIIuNV0T+JEiWXBvDkSO3ZsXdsBgwJk6dLl8nntWpI+fTp5J0UKGTJ4kJT/tJyOr1WzhhQqUkz27dsnhQsVlAMHD+rwgEEDJFWqVHo7W9ascuXFqqFdSiHBZ0iAyqN8YB6flisrlatWl0WLl0jzZk31Mfz6l8D8BYv0Tr26n1uBFy78IRMnTZZGDRtIurRptYJhRTrZiBolqtSsUV3GjB0nXTp3lDfeeEMfsWbtWj0iKfnxx4I5Xor3E3j06B/tEJs4caIglTUDi86dOgSJYwAJRBYBDF6jR4+u702257x7966MGDlaP5eqVPG3jeJ2OBMI+xA4nE8cXHY1a1a3FBTE16xeTSf75fRp/Vu/fl2toMBH4vTpM/Lb77/p8L8vXda/yV84fAaoFSL7vtkvmNP+pExpgWUGgvlDSMpU78qpn3/Wn2fPA509fzgSdPpBJ/bhr1u3bqnR7Ayt0L377jsWiaHDR+iRwxdNG1thL7NR4YWCuGnzFn3Y48ePtZLoX6mSav9YL5MV03owgSVLl8pHJUrKyVOn7GqxZ89ewadjh3aSNGlSuzjukEBkEujVu48exEIpsRVY+eBf17dPb4kaNaptFLfDmYBbKSmwlNhKsmTJ9e4FZfqF7N6zR/uZFP+4tPhXqaandhD+9MkT/EiRwoWlbZtWcvToUWnWvKXkzV9QOnbqIhj5Q44eO6Z/a9WuK1Wr1bQ+CPzll0BFSCfglyawaPFS/dvQZiUOptbwAOnerYvEiRPoX/KyuDBthFVEy5ev1IciTyiUldRUEMV3CJQoUVyPULt06S5Y2QWBdWXw0OHaWbZ2rZq+A4M1dUsC/v6V5OLFixKgfE+MwIcRrgj+/hUla5YPTTB/I4iAWykpl5SFxFauXruqd+HDALNby1ZtBabhCV+NlW1bNsrBA/skhVJsYsaMqdNhRVCTxo1k7+6dMnfOTG1BwQqUps1a6Pi0adLo3107tsqeXdvtPuvWBD4wdQJ+CRyMZ82erZWJdOnSWUQ2qHlYyIQJk+SzSpX1p3nLQKcxPFygPIZFqlT21yNoWLSWr1gpmTNn0qbTsBzLNN5BIHmyZGr6NkAvbTfTOwsWLtQPBTrLekcbe3otMJiCJR4LNL5Wr06AoK/CWbZdGzrLRkb7upVPypat26Sy0lyNI+aOHTs1AzwkT7+Y8qmhpoCKFimiwzHtAy03U8YP9P6PP/4kN9QKoWJFi0iO7Nn1B8uM581foOe+M34QmO7c+QuSK2cOi+92tfQ1bty4dNCziIgsUyttYN1o3LihTagIHI5jxbKfksGqLLRDGuXsDB+VsEjBggX0lBGUHVhmBg7oF5bDmMbLCJiHwNx583X/gT9SmdKleC16WTt7cnXaqZU7cAfo1r2nYCEBLL99evWgs2wkNapbKSkHDhyU7j16qVU5JeQ39fZZLDfOnTuXZM6UUSkZdzQS3MygUDxRUzx4wNkKpnOGjxglcKiFL8pV1aHggQ3lBA6aRYsW1mbklq1aq2mh1gIfll279uh17j26d+WN8QVMmN4nT5kqefPkkSwf2pszoUTiYytoq63btkv1qlWkjOIeFsE8LhROOOBCSpUsGZbDmMYLCZiHgLGm0FnWCxvZg6uE5e+jRgzTVmI4y+J5UllZgimRQ8CtlJS+fXrppantO3TStYdFZED/vtoxKX78eDJy+FDBMmUTj+WqxgSHA6pXq6ZW8lxV0xRzrDeXYtVPv769dX5QVKZMmSgBalkzXr8OgdkO+WDFCSWQwNq1X2srStOmjcKExLx4zy8MS5FNWmT8WYVPtZJSrVoV3Q4IM/HGmoYwincTwENg9KgRMihgiFRQK/cwvUshAXcikDx5chk39kuZPmOWdO7Ygc6ykdg4fmo6JMR/OHDo6GnJlD5VJBYn8FT4Px24cTlOKyAWxYXJDQpHSC94wvtQ4Hn95ptv6uVjwVUAK0pwnvjx41vTS8GlC++wE6fPuYRpeNfD1/NjO/p6D/Cs+rO/elZ7+Upp0S9zZ0kfanXdypJiSmrenWH2bX8x0k6UKOh7FWzTYBTuLA3WvidMmND2MG6TAAmQAAmQAAm4EQG3Wt3jRlxYFBIgARIgARIgARcToJLi4gbg6UmABEiABEiABIInQCUleC4MJQESIAESIAEScDEBKikubgCengRIgARIgARIIHgCVFKC58JQEiABEiABEiABFxOgkuLiBuDpSYAESIAESIAEgidAJSV4LgwlARIgARIgARJwMQEqKS5uAJ6eBEiABEiABEggeAJUUoLnwlASIAESIAESIAEXE6CS4uIG4OlJgARIgARIgASCJ+D0f/cEfxhDSYAESIAESIAESODVCLzy/+5xlsGrFc/3jsY/bSRTz293tqPnt6Ev1YD91Zda23Pqin7pTDjd44wQ40mABEiABEiABFxCgEqKS7DzpCRAAiRAAiRAAs4IUElxRojxJEACJEACJEACLiFAJcUl2HlSEiABEiABEiABZwSopDgjxHgSIAESIAESIAGXEKCS4hLsPCkJkAAJkAAJkIAzAlRSnBFiPAmQAAmQAAmQgEsIUElxCXaelARIgARIgARIwBkBKinOCDGeBEiABEiABEjAJQSopLgEO09KAiRAAiRAAiTgjIDPKik//3Jalq9cLU+fPtWM9u7bLzt37XbGyyvjnz9/Lhf+uCiXr1zxyvqxUiRAAiRAAp5JwGeVlN179kqXbj3ln8ePdcvNmDVbJk6e5pmt+Aqlnjt/oWTJkVeKlSgt+QoWkwJFisvx4ydCzHHJsuWSOn0m/bl0+fIrp4NyhPxKl60QYl5QokqUKqfT/e9/f4WYjhHeRwBtv279Brl1+7b3VY418goCt2/fkXVfbxD0VUr4E/BZJSX8UXpejmvWfi39BgRIieLFZNniBTJ5wli5c+euVPCvJnfv3g1SISgl3Xv2tcJDuijDmg4ZmTzO/PqbHPnxJytv240fjvwoZ8+d00EmvW08t72XwNfrN0rb9p3l0KHD3ltJ1syjCQwbMUradugsN2/d8uh6uGvh3UpJCcsDKLg0wYXZAncWb5vWl7Z37NwtCRMmkJHDBkvOHNmkVMmPpW/vHhrBT0ePBUHx1YTJOqxZ00ZB4mwDwprO9hhsL1+xyjFI7y9dvjLYcAZ6N4F79+7JgIAh8l6qVFKkcEHvrixr55EEjimr86Ily6RqFX+JHy+eR9bB3QvtFkrKwsVLpWz5SpImQ2b9u3jpcovb9JmzpUKlqvLN/gP6F2late2gzb94qGGaAmH1GzWVv/++ZB0H/4qOXbpL7vyFdXzdBk3k6LHjVjw3RBInTiRNGzeUaNGiWTgypE+nt//8839WGDZOnz4jCxYtkbatW0jKlO/axdnuhDWd7TFmGxc7Hky2AsvOMioptkh8ZhvTr9euXZcB/XpJjBgxfKberKhnEHj27Jm2RMeNG1e6dGzvGYX2wFK6XEmBotGrT395//0MMmhAX0mePJn06NVXz/GBJ25Sx0+clM7Kf6RQoQJSxb+ibNi4WWrWrif9Bw2RcmU/kbp1asmevd9Ih85ddRM8ffpMxdeXVavXymcVPpXGDevLqZ9/loqVq8uVK1c9sJkipsi9enSVJo0a2GWOqRVIunRprXBYonr3GyhJkyaRpk1CtqKENZ2Vsc1Gty4d9d7GzVttQkU2bNqk97t06mAXzh3vJnDu3HmZNGWalP2ktBQskN+7K8vaeSSBtevW6ynqrp07aIu0R1bCAwr97xDaRYXdvmOXQBMdPWKoLkH1qpVl1px5EjOm/cgpQCkwHxUrqtPcVaPtTephNmfmNCmsFBfIg4cP9Yj7yZMncls52VWqWF7y5c0juXLm0PEFCuSTho2byeEfjkiZ0iV1GL/sCeDBMHL0WClUsIBkz5bVisTFeOj7wzJz+mSJHSuWFe64EdZ0jsdh/733UunzLlJWNSiiRhYtXiZFixSWVKFYb0xa/noWgUePHmmL6FuJEwcp+MDBw3RYz25dgsQxgAQii8CNmzclRvTo+hlle05YeAOGDpf3M6SXmtWr2kZxO5wJuNySgqkDmPjhwPnjT0e1IyUsH/CPsBU8OI28nyGD3sydK6cJkgzpAqcp7t2/LwkSJJBWLZrpB+35C39oS8ydO3d02qtXaUmxoNlswOmrUdMWEitWTBkaMMCKgQPtoCHDpGSJ4lJMKQshSVjThXQ8wnGxw3n2zJlfdTIsE8cUXc3qVUI7jHEeSmDBwiV6RRkspbaCVwHgA+va228ntY3iNglEKgGsAC1XwV8vKLA98aQpU7WVP2BgP4kaNaptFLfDmYDLlZTWLZspq0cFwVJY/6o1JXvuAvqhCMuIrURX2qyj2IZFjfZvR8Fc4YRJUyRbrvzy0cdltC8LVghQgicA1k2+aKlX0MyaNlmSJXvbSjhxcuDF2FNNDYUmYU0XWh4lihfTI5aVapoOsnzlKr1vLGg6kF9eQ6BUqRK6fXFt3n/wQNcL1pX+AwcLnGXr163jNXVlRTyTQDVl2cdrEvoNDLAq8PvZczJ56gxBnK3F2UrAjXAl4HIlBVM9o4YPkSPfH5AZUydKITX/PHPWXBk8ZPh/ruiu3Xtl1JfjlDWmhFpaO18OfrNLdm7d+J/z8+YD8TK7duohgWmwebOnS+bMmeyqO2/BYr3f5IsW+l0meJ8JpoQgNWrVlT79B+rtsKbTiUP4gnPk57VryPyFi9WU3R1ZsnSF9jeyVUZDOJTBHkggRfLkMnrkUK0cDwoInO6dPXe+fijQWdYDG9QLiwwLcsMGdbV/I17ZABmo+iqeW507tPPCGrtflVzuk7Jl23ZJmCChXgKLETM+eBDioflfxZiP27Rsbq1EgbMtJSgBTLNt3b5DJk8cF6yDIqZgHFfcYBoGDs1Zs2SRdGkCHWzDmi5oCexD/CtV1KOUzl176PNWrVzJPgH3vIqAeQhgYJI2bRoZNmK0coYvE2xf9KqKszIeQwArd77//gdp36mrXL12TfAi0IH9+9BZNpJa0OVKCpaXwnm2f59e8uGHmQTv58CLvZy9iyM0Phk/eF9Hjxg9Rqqoh9wfFy5K3wGDQjvEJ+MwRYNlxZDLly7L/AWLLA5p0qSW/PnySo9uQafJsFQYviPdu3WSpEmS6GPCms46QQgbadV5c+bIrhWnfHlzS6pUKUNIyWBvIWAeAoPoLOstTepV9YCFd/zYUer1GP4SoCz8mTNllBrV6CcXWY3sciUFy44htkpEvc9rS5tWLXW4n5/+sfvyCybQhPmJn7bGQMnBvCEsKHhhGVYPdejcTeTFsbbpkbmfn8tnvuzqGBk7eJunkT797ZU4zLdCSQlOLHbBtINt+rCks9KodjNSu2Z1bUmrWaOaCVLtExhvfq0Ibng8ATwEJoz7Uk0dDtKr8rDUnUIC7kTgnRQpZOqk8WpZ/HQ9cKOzbOS1jp96t8XzkE536OhpyZ0lfUjR4RqOpcM3btzUCkWUKOGjMMDf4vr1G3q1T9So4ZPnq1Y6Mpm+all5fMgE2I4hs2GM+xFgf3W/NmGJRMLSL11uSTENhbee4g2o4SnQdsM7z/AsH/MiARIgARIgARIImYB7mBdCLh9jSIAESIAESIAEfJQAlRQfbXhWmwRIgARIgATcnQCVFHdvIZaPBEiABEiABHyUAJUUH214VpsESIAESIAE3J0AlRR3byGWjwRIgARIgAR8lACVFB9teFabBEiABEiABNydAJUUd28hlo8ESIAESIAEfJQAlRQfbXhWmwRIgARIgATcnQCVFHdvIZaPBEiABEiABHyUAJUUH214VpsESIAESIAE3J2A0//d4+4VYPlIgARIgARIgAQ8k4Cz/w/o9H/3ZEqfyjNr7qalPnH6nJCpmzbOSxSL7fgSsJjU5QTYX13eBCxAMATQL50Jp3ucEWI8CZAACZAACZCASwhQSXEJdp6UBEiABEiABEjAGQEqKc4IMZ4ESIAESIAESMAlBKikuAQ7T0oCJEACJEACJOCMAJUUZ4QYTwIkQAIkQAIk4BICVFJcgp0nJQESIAESIAEScEaASoozQownARIgARIgARJwCQEqKS7BzpOSAAmQAAmQAAk4I0AlxRkhxpMACZAACZAACbiEAJUUl2DnSUmABEiABEiABJwR8Bol5eDBb2Xnrt26vo8fP5b5CxbKqZ9/dlZ/xr8EgUeP/pHffz8r+A1N/vrrb/nfX3/Js2fPQkvGOBIgARIgARIIlYDXKCkLFy2WSZOm6Mqe+fVXGTpshMyYMSvUyvt6ZLXqtSRzluzBfmrXqWvh+fW336Rt+46SM3deqVDRX//2HzBIHj58aKXBxrLlK6RIsRJSsvQnUqp0WSlWvKTs+2a/XRrHnVat2+rzb9++wzHK2t+8ZatOgzJQfIvA8+fPZeOmzXL79m3fqjhr6zEE7ty5Ixs2bhL0VUr4E3D6DwbD/5QRn+MH778vkyZ+JRkypI/4k3nwGRo1aiC3bt60q8FTZf0IGDxUXnvtdR1+7959adioqbKePJRWLVtInjy5ZOfO3TJr9hyJHTu2dOkcqDisXrNWoLjkzJFDAgYNkCdPnmilsVnzlrJ29UpJnfo9u/OYnXjx4unN5StWSokSxU2w3S/iIPFfpLWL5I5XE4CC0qVrdxk/box8VKyoV9eVlfNMAqO/HKsHaAXy55d48d70zEq4cakjRUmBhunn52eHIbgwuwRqx1makOJxrsKFCjpm91L7weUdXNhLZepmiUuXKhmkRNteWDRq1aqu477+er1cv35dhgQMkvLly+mwHNmzy9mzZ2XuvPnSpnVLiRUrlqxZu04SJEggY8eMti5UKImwqMycNVsGDewf5Fy2AXv3fSOYJnr77aS2wXLx4kU5cOCgXRh3fIMAFGRYsclLbAAAFmJJREFURFOlTCkFC+T3jUqzlh5F4MSJk1pBqVSponXf86gKeEBhI2S6BzeXzypVlpUrV0uffv0lX4FCUqJkGdmydZtcvnxZTx18mDWHlClbXhYsXGSH6e69e/LlmHHyafmK+rjeffvLuXPn7NL8dPSYtO/QSZAH0sHUZivwmcD5V61arYN37Nyl9y9fuWKbTJq3aCVjx43XYd9/f1inwcOyyRfNdd41atWR06fPCM6HbZwPUyTffXfILh9v2YESNnHSZEmTJrVS8goFcvnhsCRJkkTKli1jV82RI4bJ3t07JWbMmNpqcujQ91K0aBG7CzXZ229L/vz5BFYW5B2SxI0bR0etXbcuSJK169brMJMmSAIGeC2B6TNmaAW5V8/uEiNGDK+tJyvmmQTgczd4yFDBval929aeWQkPKHWEKClPnz6R3377XYaNGKFHxw3q15fo0aNLh46d9dTBwwcP9Qg8ZswYMmTocIGCAEGjd+vWQ2bMnCW5cuWUalWryu7de6RZi9Zy8+YtnQYOmU2/aCb7DxyQup/XkTx5c2tz8Lfffafj8fX8+TN9/hsvpjLu3r2r9zEFYStnz51XSlOg4nL//n2dplPnLno036RxQzl+/IQ0b9lan+/9DBmkRfMv5PyF89KwcVOBIuZtsnfvPq2UNf+iqUSJEtg10I6Y4vn119/0dE6jxl8oxe4rOasUx/jx42kLmXGQdTCWaTzGCnLt2rUQcSVNmlQwElm6bIWds+3Tp09l8ZKlUqWyvyROlDjE4xnhfQTOX7gg06bPFFj78uXL630VZI08nsD6DRv1ALZDu3baiuzxFXLTCkTodE/aNGlksvINiRo1qhT/qJj4V6km8RPEV/4i4/VDsOwnZbQ15cefjmqlZJdSSPCxnVr4tFxZqVy1uixavESaN2sq02fM1ArC0sULJWPGDzTWYkWKSItWbcIFcY3q1aV9u8C83nrrLe2f0aRxI2nbppXO/50U70j3nr3kzJkzki1b1nA5p7tkMmXqNEmRIoWULPmxLhKUD1iS4seLr9sAccmTJVMPjxn6M3fOTMHUD0a5efPkkc2bt0iLZl8IlA7I77+f1b/4wlROokSJrH3HjcpKSYHlC1Yq81Dar6Z5MNUEBcYoso7Hcd9zCcDiCYfYxImD9othw0fqinXu1MFzK8iSezwBDI4xwHa05GLgO2LkaEmfPp1UqeLv8fV05wpEiCXFVBjmfygokFSpUurf/GpUZEbpeOhBjOc+5vcgKVO9q5cPYwnxM2UVgfxw5Ij+PXnylOTOnctSUBBYpEhhPSWhE7ziV5EigdMcyCZN6tQ6t7x581i5GgdQU2YrwsM3Dn77nR4VfNGkkdVmsC5BYKWCFWnThnUyY/oU2bg+0P+kc5fuVq2bNm2klcfan9eX8V9NlFGjx0jN2nWsi9uZuT5r1iza98A4ySLjlStX6amnrFk+tM7DDe8hsGTpUvmoREk5eeqUXaX27Nkr+HTs0M5SeO0ScIcEIolAr9599AANSomtwMqHAVTfPr2t+6VtPLfDj0CEKilx48a1SmocZ6GVhiRHjx3TUbVq15Wq1WpaHwT+8stpHYcpmJTvvqu3bb9gtQkPiRMn0D8CeZkyx4jxb5mjRI1QZOFRhf+UB6wocHwtpyxXRl577TVLyfiiaRMTLO+8k0I+r1NLLl26pC0kiIAlZerkiXoVD/KCIy2sUi1bNNfH4ZjQBKxr1qwum5Q15vqNG3L16lXZum27yqNaaIcxzoMJYDUXRqhdlLL74MEDXRNYVwarKWA4y9auVdODa8eiewMBf/9K2nk/QPmeGIGPJFwS/P0rCgdQhkrE/UbodM/LFhuKBnwYdu3YallbTB6WRUbdvPBwdJQ///xTbBUMx3jsP3r4yC7YWArsAn1w58iRHwWOr927dQnioJjy3ZR6pGv4GzwJEyTUmzdu3rBW5BRQKzDwgS+JSd+v/0Ct/DhrG2T2iZr+g4/SRuUIbfyHMCVI8U4CmDocMjhA2rRtL5je6de3t3KkX6gfCtOnTg7SF72TAmvlzgTgpgDfR6xkLFiggMD9AH0VynW7NnSWjYy2cyuzQMYPAn1Mzp2/oB9sGNnjg4foqVM/ax4fZsmsp36wSsgI/CbOnT9vdoP8Ig/IsePHrTgoNTDXUUSmTpuuLzp/5fvhKAUL5tdBYGwEK3V27Nypd9OnS6d/O3bqIngxG/xYjIIC50dM34R1OXiC+PGlXNlPZNGiJbJMOdFiyfObb/K9A4a7N/6ahwD6ybz5CwTvnChTupTll+SNdWadPItAO7VyJ3PmTNKte0+ZM3eeYAVox/Z0lo2sVnQrJaVo0cLazNuyVWvBG2R379mjV5TgTaO/q/dyQGrWqK59H5qp5cNY2oq3nGIFTmiSIX3gS90mqjfSYrUIphFaq9EbRQR+QLjoGjdqqF/O5sikQf16WoFp3LSZfL1+g7a49O7TTzs416v7uUSLFmiMgwUFTs/de/TSaZYuXSYtW7bRSmanjmF3foQJFQonPpX96ZDm2B7euG8eAnSW9cbW9fw6wZ9ulHrlAqwncJbFYLqyWnFIiRwCETLdY3w5zK99Vexf6oY4k+6NN96QKVMm6hU1g4cM04ehY3Ro31YrJwjI8uGHMmrkcP0+j169++o0LZo3k5+Vk+3ff9tPA5l8sXoAx+BNqoMChuhj8BKy+/cfWOfWgQ5f5ng/CVpmh6Qeu4sXrUGqV6uqfx2/0Cbz5syWzl276ZGEiYfyYlZBIaxSxc+0AzQcZrE0D4K3z/bv30cvVdYBwXz5qaXOxvKC6Ny5cukVRtjOmSM7fiwx7WEFcMMrCOAhMHrUCH1tVvi0XLg5wXsFHFbCLQgkT55cxo39Uq0unSWd1aDL9p7lFgX04kL4KdP985Dqd+joacmUPlVI0REa/vjxY/3Qi6+mAMxqIMcT3rhxU2u3zlaO2B6H93W8/vrrLpvvPnH6nMuY2nJ42W10k7/+/lvu3rmrV9yEdJGi3c6ePaeWGyfUVpSXPY+npPfUdvQUvixn+BJgfw1fnswtfAigX+bOEvq/r4kQS0p4FB+rgBImDHTODCk/vEzsZcVZni+bn6+khxUDb5AV9ReaoN3w7gAKCZAACZAACbwqAbfySXnVyvB4EiABEiABEiAB7yFAJcV72pI1IQESIAESIAGvIkAlxauak5UhARIgARIgAe8hQCXFe9qSNSEBEiABEiABryJAJcWrmpOVIQESIAESIAHvIUAlxXvakjUhARIgARIgAa8iQCXFq5qTlSEBEiABEiAB7yFAJcV72pI1IQESIAESIAGvIkAlxauak5UhARIgARIgAe8hQCXFe9qSNSEBEiABEiABryLg9H/3eFVtWRkSIAESIAESIAG3IfDK/7vHWQZuU1MPKQj+aSOZekhjhVJMtmMocBjldgTYX92uSVggRQD90plwuscZIcaTAAmQAAmQAAm4hACVFJdg50lJgARIgARIgAScEaCS4owQ40mABEiABEiABFxCgEqKS7DzpCRAAiRAAiRAAs4IUElxRojxJEACJEACJEACLiFAJcUl2HlSEiABEiABEiABZwSopDgjxHgSIAESIAESIAGXEKCS4hLsPCkJkAAJkAAJkIAzAlRSnBFiPAmQAAmQAAmQgEsIUElxCXaelARIgARIgARIwBkBt1BS9u7bLzt37XZWVsZ7KIEbN2/K1avXPLT0LDYJkAAJkICrCLiFkjJj1myZOHmaqxj43Hn/uHhRKlauLqnTZ5LDPxyx6r96zTodhnDHz/Xr1610BYoUDxKP9AFDhltpsHHkx5+kdt2GkjNPQclToIhUrVFHDhz81i6N444576XLlx2jrP1+AwL0+det32CFcYMESIAEXEHg9u07su7rDfL8+XNXnN7rzxnN62vICtoR2L5jl7Tr2EXu3bunw20vrKvXrkncuHGlW5eOdsdgJ06cuFb6v/++JBU/Ky85c2S3S5chfTpr/9bt21K3QROJFSumDA0YIDFixJAx477SSsv+PTskadIkVtrgNtas/VqaNm4YJOr+gwcyd/5CHf7s6bMg8QwgARIggcgkMGzEKFm0ZJkUKlRA4seLF5mn9olzub2Sgoeon59fqI3x7NkziRLF3igUluPCkibUE3tY5KHvD0uTZi0lX97c4l/xM+nSvZddDWAtSfZ2Uqlds7pduO3OnTt39e4nZUpJyRLFbaPstteuXa8VoYH9emuFBpFvvvmGNGraQpYuXyltWjW3S292EiZMINeuXZehw0dJk0YNgrT9li3bTFL+kgAJkIBLCRw7fkIrKFWr+FNBiaCWsH+yR9BJXjbby1euSMcu3SV3/sKSJkNmPSI/euy4lc30mbOlQqWqsmPnbildtoKkff9Defr0qTx+/FiP1kuUKqePa9u+s5pe+E6n+fa7Q9bxv/1+Vrr17CNZcuSVYiVKy7ARo+X+/ftWvLdu3FN1hAIyZ+Y0gTLgKPAbeVspKaHJjRs3dHSihAlDSyZHfvpJW2XKlS1jpStapLC8+04K+eHIv1NMVqTNBqw5EChVjrJg0RLHIO6TAAmQQKQTwOAYU8+4X3Xp2D7Sz+8rJ3Q7S8pTZcKvWbu+nD13Tho2qCtR/KLIqjVrtQ/Ft9/slsSJE+mR9vETJ6Vth85SrGhhKVHiI9VefjIgYKgsWLhY8DD8rMKnsnffN9K0eSs9ojdKCKwFn9dvpBWaOrVqCJw6p0ybIefOnZcJ478MYpHxpo5QIJ9SyhSbkOSKUlISJ0oky1eulu3bd8rrr78mBQvkFyga0aIFdpXrL5SUu3fvyYBBQ+T8hT8ke7YsUqZUSUmbNo2V9a+//iZZPsws0aNHt8Jg7fpQhdn6wViRNhtVK1eSTVu2yvIVqyRP7lxWDJRLHNu1cwetWFoR3CABEiCBSCawdt167Xc3QFmLgxv0RXJxvPZ0bmdJuXXrplSqWF6WLponvbp3lR7dOsuIYYN1Azg+3AYP6ifjx4zSWuxF5QwKBaWKf0WZNX2ynk5YvGCOeoBmtWu8iVOmCXwqFs2brR928JcY2L+PbN66Tb47FHTkbnewh+/ALyQ0uXTpkqxYtUa6dOspsLrs3L1H2nfqKl179BaMGiA3btzUv/UaNpFv9h+Q28r3ZPSY8VJKWbSOK9MnBNNoUCLfUVYTR3knRXLN/8HDh45R1n6UqFGkbu1aWlmCb4uRFatW61FLmdKlTBB/SYAESCDCCGAQa/z3bE+Cae+AocPl/QzppWb1qrZR3A5nAm6npCRIkEBatWimlQuM0vGwu3Pnjq721atX7apf6uMS1v6pn3/R2zVrVLPCokaNKnVq17D2sbFz5x69/+iff+TEyVP6kyrluzrs5KlT+tdXv64ovrjoDn6zS+bOmiaHDuzV1qxVq9fK9p27NBazymfQgL6yecNaWbZ4vmzbvF4rD5iigzx7FujlHiPGv1YUHaG+jKL0+J/HJijY34pKUYWs37BJ/2Iqb978RVK9amWJEzu2DuMXCZAACUQkAQzYylXwV8+gQF88c65JU6Zqi37AwH6C5wwl4gi43XQPRuyTlLVj8tQZwWqwtihixoxp7cKPBZLQwVcC0xe2gmkkSPmKVfSv7dfZs+dsd31uG8oGlIjYsWJZde/Yvq3MnDVXDh8+oh1lK5Qvp6fXbL3YU7+XSju5YvXOzVu3JN6bb0o6NfXz559/WfmYjf/97y+t0LzxxusmKNjfpEmS6PMtVl7ztZTiuWvPXt0fqqipIAoJkAAJRAaBampQ9EXz1tJvYICMGj5En/J39ZzA8wlxjpb6yCiTr53D7ZSUXbv3yqgvx6kpnwr64YQpgwf3H8hHJT8JtW3SpU2r48+c+VU7Z5rEJ0/9bDb1Lxw346llYjOmTrILxw6Wy/qqPHnyRP7446IkT/a2nZIChQWOYbCyQOBce1tZtmyVFIQnSZIYP3L9+g2tpKRJk1pOKkuV4wqq06p9Mn7wvk7r7KtG9Sp6NRAsXouXLNc+LrD0XLlib1Fzlg/jSYAESOC/EMAKRvhGYqBWpFBB7es4UPk+4p7YuUO7/5Ilj3lJAm433YPpHUibls31ezjeSpxYT8k4q1fGjO/rjjMwYIjgZWUQPNywlNVW8ubNI3DAjBLFTzs7weEpdpzY2sn24sU/bZP61PaTJ0+lZp36MmTYSLt6gyHmZHNkz6bDv96wUcqWr6QdZm0T7tq1V/M3U2dIf0EpPXgvixGs1sEqrVw5c5igUH+LFC6k2wgWGryRGI7OFBIgARKITAJYuYNFAPDPmzFrjuxWVl28S4rOspHTCm6npJhR9ojRY7SJH34Irdp2cErjzTfekInjx+gHY9HipeXD7Hn0lA5WtNhK3Tq19EO3XsOmsnL1GtmiHGYbNPpCOnTuJo+VNcFXBVakypU+086qWJJ9+IcfBW90rd+oqVY+PipaRKMp+0lp/VuvQWPZsm27Xibcu+8A7Xj8eZ2a1uoocMaUT5/+A3WeeJtt56499EvcWjRrEibM2qeoVk1L0cG7WSgkQAIkEJkEMAU+fuwofR/EW7UzZ8ooNaoFdReIzDL50rncYrrHTy0zNvJRsaLSrGkjPee3YeNmra2OHjFUKxHqzV46WUjvdius3vi3b9c22X/goJ6WyJUrh/ax2Lp9h8leMmX8QObNnq5XpHTq0kOHYwpoxtSJuvNZCX1kw/ZFeb16dNW1xpJsfCBQNL4aO1qSqWkgSIrkyWXV8sXSvFVbadaijQ7DF9rM1vyJC3v0yGF6mTKczyCYv+3RrYu+2HVACF9+ajm5Ef9KFWTs+An6/S7m/SmmzI4v8DPH8JcESIAEwpPAOylSyNRJ45W/5HS94pTOsuFJN/S8/JTPQIj/cODQ0dOSO0v60HOIoFi8nA3+DVjtE1UtSXUmeF36TGWKg29K6VIfW8mh+cJEt3PbJkn57jtWODbw7pR/1KoROHpGlriSaVjr+OjRI4FzGKbaQjNpYin3LeUoi/ejhHbR4v/w4BX2zl4UF9byuUM6T2hHd+DEMrgHAfZX92gHlsKeQFj6pVtYUuyLHbiHhx5e3BZWwbJUvOcE7+zAu1Leey+V3sf8YX415eOooCDfOHHiSBxsUOwIYNXUB+9nsAsLbgf/f8fZ/+DBcUneeiu4wxlGAiRAAiRAAqEScG6iCPVw94qcPGGsnnb4+ZfT+r8q3717V7/UDS93o5AACZAACZAACXgWAbe1pPwXjLCMdOnUQX3+y9E8hgRIgARIgARIwJ0IeJUlxZ3AsiwkQAIkQAIkQAKvRoBKyqvx49EkQAIkQAIkQAIRRIBKSgSBZbYkQAIkQAIkQAKvRoBKyqvx49EkQAIkQAIkQAIRRIBKSgSBZbYkQAIkQAIkQAKvRoBKyqvx49EkQAIkQAIkQAIRRIBKSgSBZbYkQAIkQAIkQAKvRoBKyqvx49EkQAIkQAIkQAIRRMDp/+6JoPMyWxIgARIgARIgAR8n4Oz/A4aqpPg4O1afBEiABEiABEjAhQQ43eNC+Dw1CZAACZAACZBAyASopITMhjEkQAIkQAIkQAIuJEAlxYXweWoSIAESIAESIIGQCVBJCZkNY0iABEiABEiABFxIgEqKC+Hz1CRAAiRAAiRAAiEToJISMhvGkAAJkAAJkAAJuJDA/wEMGwPyXO+fkwAAAABJRU5ErkJggg==)"
      ]
    },
    {
      "cell_type": "markdown",
      "metadata": {
        "id": "xPVgF-NhS69X"
      },
      "source": [
        "The base model will be sufficient for our needs. Let's load the base model like so:"
      ]
    },
    {
      "cell_type": "code",
      "execution_count": 6,
      "metadata": {
        "colab": {
          "base_uri": "https://localhost:8080/"
        },
        "id": "dsDvCjk1KNi0",
        "outputId": "f9afe89d-16ca-439a-8d07-4e331c260687"
      },
      "outputs": [],
      "source": [
        "model = whisper.load_model('base')"
      ]
    },
    {
      "cell_type": "markdown",
      "metadata": {
        "id": "JWnS7jidxoXM"
      },
      "source": [
        "We'll now instantiate a \"YouTube\" object by passing in the video URL. This will allow us to retrieve metadata and stream info about the specified YouTube URL."
      ]
    },
    {
      "cell_type": "code",
      "execution_count": 7,
      "metadata": {
        "id": "RdGhTl1-KUsC"
      },
      "outputs": [],
      "source": [
        "youtube_video_url = \"https://www.youtube.com/watch?v=NT2H9iyd-ms\"\n",
        "youtube_video = YouTube(youtube_video_url)"
      ]
    },
    {
      "cell_type": "markdown",
      "metadata": {
        "id": "8bWahKgHx2mW"
      },
      "source": [
        "Now that we have an pytube YouTube object, let's explore some of its attributes."
      ]
    },
    {
      "cell_type": "code",
      "execution_count": 8,
      "metadata": {
        "colab": {
          "base_uri": "https://localhost:8080/",
          "height": 35
        },
        "id": "4Y63_HJfLI2U",
        "outputId": "0514766e-b9fa-43eb-896d-93aa0c0ddaa9"
      },
      "outputs": [
        {
          "data": {
            "text/plain": [
              "'WATCH LIVE | Fed Chair Powell Discusses Latest Fed Rate Hike'"
            ]
          },
          "execution_count": 8,
          "metadata": {},
          "output_type": "execute_result"
        }
      ],
      "source": [
        "youtube_video.title\n"
      ]
    },
    {
      "cell_type": "code",
      "execution_count": 9,
      "metadata": {
        "colab": {
          "base_uri": "https://localhost:8080/"
        },
        "id": "DIpUKEUhmwvG",
        "outputId": "cfd2cba9-558b-41ad-8e51-6fad1c48e67c"
      },
      "outputs": [
        {
          "data": {
            "text/plain": [
              "['__class__',\n",
              " '__delattr__',\n",
              " '__dict__',\n",
              " '__dir__',\n",
              " '__doc__',\n",
              " '__eq__',\n",
              " '__format__',\n",
              " '__ge__',\n",
              " '__getattribute__',\n",
              " '__gt__',\n",
              " '__hash__',\n",
              " '__init__',\n",
              " '__init_subclass__',\n",
              " '__le__',\n",
              " '__lt__',\n",
              " '__module__',\n",
              " '__ne__',\n",
              " '__new__',\n",
              " '__reduce__',\n",
              " '__reduce_ex__',\n",
              " '__repr__',\n",
              " '__setattr__',\n",
              " '__sizeof__',\n",
              " '__str__',\n",
              " '__subclasshook__',\n",
              " '__weakref__',\n",
              " '_age_restricted',\n",
              " '_author',\n",
              " '_embed_html',\n",
              " '_fmt_streams',\n",
              " '_initial_data',\n",
              " '_js',\n",
              " '_js_url',\n",
              " '_metadata',\n",
              " '_player_config_args',\n",
              " '_publish_date',\n",
              " '_title',\n",
              " '_vid_info',\n",
              " '_watch_html',\n",
              " 'age_restricted',\n",
              " 'allow_oauth_cache',\n",
              " 'author',\n",
              " 'bypass_age_gate',\n",
              " 'caption_tracks',\n",
              " 'captions',\n",
              " 'channel_id',\n",
              " 'channel_url',\n",
              " 'check_availability',\n",
              " 'description',\n",
              " 'embed_html',\n",
              " 'embed_url',\n",
              " 'fmt_streams',\n",
              " 'from_id',\n",
              " 'initial_data',\n",
              " 'js',\n",
              " 'js_url',\n",
              " 'keywords',\n",
              " 'length',\n",
              " 'metadata',\n",
              " 'publish_date',\n",
              " 'rating',\n",
              " 'register_on_complete_callback',\n",
              " 'register_on_progress_callback',\n",
              " 'stream_monostate',\n",
              " 'streaming_data',\n",
              " 'streams',\n",
              " 'thumbnail_url',\n",
              " 'title',\n",
              " 'use_oauth',\n",
              " 'vid_info',\n",
              " 'video_id',\n",
              " 'views',\n",
              " 'watch_html',\n",
              " 'watch_url']"
            ]
          },
          "execution_count": 9,
          "metadata": {},
          "output_type": "execute_result"
        }
      ],
      "source": [
        "dir(youtube_video)"
      ]
    },
    {
      "cell_type": "code",
      "execution_count": 10,
      "metadata": {
        "colab": {
          "base_uri": "https://localhost:8080/"
        },
        "id": "I3XV0qVmyE_b",
        "outputId": "292b8d20-7244-40d0-bba6-18f468b5473e"
      },
      "outputs": [
        {
          "data": {
            "text/plain": [
              "[<Stream: itag=\"17\" mime_type=\"video/3gpp\" res=\"144p\" fps=\"7fps\" vcodec=\"mp4v.20.3\" acodec=\"mp4a.40.2\" progressive=\"True\" type=\"video\">, <Stream: itag=\"18\" mime_type=\"video/mp4\" res=\"360p\" fps=\"30fps\" vcodec=\"avc1.42001E\" acodec=\"mp4a.40.2\" progressive=\"True\" type=\"video\">, <Stream: itag=\"22\" mime_type=\"video/mp4\" res=\"720p\" fps=\"30fps\" vcodec=\"avc1.64001F\" acodec=\"mp4a.40.2\" progressive=\"True\" type=\"video\">, <Stream: itag=\"137\" mime_type=\"video/mp4\" res=\"1080p\" fps=\"30fps\" vcodec=\"avc1.640028\" progressive=\"False\" type=\"video\">, <Stream: itag=\"248\" mime_type=\"video/webm\" res=\"1080p\" fps=\"30fps\" vcodec=\"vp9\" progressive=\"False\" type=\"video\">, <Stream: itag=\"136\" mime_type=\"video/mp4\" res=\"720p\" fps=\"30fps\" vcodec=\"avc1.64001f\" progressive=\"False\" type=\"video\">, <Stream: itag=\"247\" mime_type=\"video/webm\" res=\"720p\" fps=\"30fps\" vcodec=\"vp9\" progressive=\"False\" type=\"video\">, <Stream: itag=\"135\" mime_type=\"video/mp4\" res=\"480p\" fps=\"30fps\" vcodec=\"avc1.4d401f\" progressive=\"False\" type=\"video\">, <Stream: itag=\"244\" mime_type=\"video/webm\" res=\"480p\" fps=\"30fps\" vcodec=\"vp9\" progressive=\"False\" type=\"video\">, <Stream: itag=\"134\" mime_type=\"video/mp4\" res=\"360p\" fps=\"30fps\" vcodec=\"avc1.4d401e\" progressive=\"False\" type=\"video\">, <Stream: itag=\"243\" mime_type=\"video/webm\" res=\"360p\" fps=\"30fps\" vcodec=\"vp9\" progressive=\"False\" type=\"video\">, <Stream: itag=\"133\" mime_type=\"video/mp4\" res=\"240p\" fps=\"30fps\" vcodec=\"avc1.4d4015\" progressive=\"False\" type=\"video\">, <Stream: itag=\"242\" mime_type=\"video/webm\" res=\"240p\" fps=\"30fps\" vcodec=\"vp9\" progressive=\"False\" type=\"video\">, <Stream: itag=\"160\" mime_type=\"video/mp4\" res=\"144p\" fps=\"30fps\" vcodec=\"avc1.4d400c\" progressive=\"False\" type=\"video\">, <Stream: itag=\"278\" mime_type=\"video/webm\" res=\"144p\" fps=\"30fps\" vcodec=\"vp9\" progressive=\"False\" type=\"video\">, <Stream: itag=\"139\" mime_type=\"audio/mp4\" abr=\"48kbps\" acodec=\"mp4a.40.5\" progressive=\"False\" type=\"audio\">, <Stream: itag=\"140\" mime_type=\"audio/mp4\" abr=\"128kbps\" acodec=\"mp4a.40.2\" progressive=\"False\" type=\"audio\">, <Stream: itag=\"249\" mime_type=\"audio/webm\" abr=\"50kbps\" acodec=\"opus\" progressive=\"False\" type=\"audio\">, <Stream: itag=\"250\" mime_type=\"audio/webm\" abr=\"70kbps\" acodec=\"opus\" progressive=\"False\" type=\"audio\">, <Stream: itag=\"251\" mime_type=\"audio/webm\" abr=\"160kbps\" acodec=\"opus\" progressive=\"False\" type=\"audio\">]"
            ]
          },
          "execution_count": 10,
          "metadata": {},
          "output_type": "execute_result"
        }
      ],
      "source": [
        "youtube_video.streams"
      ]
    },
    {
      "cell_type": "markdown",
      "metadata": {
        "id": "vRJS-42fyJyg"
      },
      "source": [
        "As you can see, we have a list of video and audio streams of varying quality. We can iterate over this list and observe the different resolutions and framerates."
      ]
    },
    {
      "cell_type": "code",
      "execution_count": 11,
      "metadata": {
        "colab": {
          "base_uri": "https://localhost:8080/"
        },
        "id": "llxI9SJELPmF",
        "outputId": "818f051f-38cc-45fe-a8ba-5eecdf4be10c"
      },
      "outputs": [
        {
          "name": "stdout",
          "output_type": "stream",
          "text": [
            "<Stream: itag=\"17\" mime_type=\"video/3gpp\" res=\"144p\" fps=\"7fps\" vcodec=\"mp4v.20.3\" acodec=\"mp4a.40.2\" progressive=\"True\" type=\"video\">\n",
            "<Stream: itag=\"18\" mime_type=\"video/mp4\" res=\"360p\" fps=\"30fps\" vcodec=\"avc1.42001E\" acodec=\"mp4a.40.2\" progressive=\"True\" type=\"video\">\n",
            "<Stream: itag=\"22\" mime_type=\"video/mp4\" res=\"720p\" fps=\"30fps\" vcodec=\"avc1.64001F\" acodec=\"mp4a.40.2\" progressive=\"True\" type=\"video\">\n",
            "<Stream: itag=\"137\" mime_type=\"video/mp4\" res=\"1080p\" fps=\"30fps\" vcodec=\"avc1.640028\" progressive=\"False\" type=\"video\">\n",
            "<Stream: itag=\"248\" mime_type=\"video/webm\" res=\"1080p\" fps=\"30fps\" vcodec=\"vp9\" progressive=\"False\" type=\"video\">\n",
            "<Stream: itag=\"136\" mime_type=\"video/mp4\" res=\"720p\" fps=\"30fps\" vcodec=\"avc1.64001f\" progressive=\"False\" type=\"video\">\n",
            "<Stream: itag=\"247\" mime_type=\"video/webm\" res=\"720p\" fps=\"30fps\" vcodec=\"vp9\" progressive=\"False\" type=\"video\">\n",
            "<Stream: itag=\"135\" mime_type=\"video/mp4\" res=\"480p\" fps=\"30fps\" vcodec=\"avc1.4d401f\" progressive=\"False\" type=\"video\">\n",
            "<Stream: itag=\"244\" mime_type=\"video/webm\" res=\"480p\" fps=\"30fps\" vcodec=\"vp9\" progressive=\"False\" type=\"video\">\n",
            "<Stream: itag=\"134\" mime_type=\"video/mp4\" res=\"360p\" fps=\"30fps\" vcodec=\"avc1.4d401e\" progressive=\"False\" type=\"video\">\n",
            "<Stream: itag=\"243\" mime_type=\"video/webm\" res=\"360p\" fps=\"30fps\" vcodec=\"vp9\" progressive=\"False\" type=\"video\">\n",
            "<Stream: itag=\"133\" mime_type=\"video/mp4\" res=\"240p\" fps=\"30fps\" vcodec=\"avc1.4d4015\" progressive=\"False\" type=\"video\">\n",
            "<Stream: itag=\"242\" mime_type=\"video/webm\" res=\"240p\" fps=\"30fps\" vcodec=\"vp9\" progressive=\"False\" type=\"video\">\n",
            "<Stream: itag=\"160\" mime_type=\"video/mp4\" res=\"144p\" fps=\"30fps\" vcodec=\"avc1.4d400c\" progressive=\"False\" type=\"video\">\n",
            "<Stream: itag=\"278\" mime_type=\"video/webm\" res=\"144p\" fps=\"30fps\" vcodec=\"vp9\" progressive=\"False\" type=\"video\">\n",
            "<Stream: itag=\"139\" mime_type=\"audio/mp4\" abr=\"48kbps\" acodec=\"mp4a.40.5\" progressive=\"False\" type=\"audio\">\n",
            "<Stream: itag=\"140\" mime_type=\"audio/mp4\" abr=\"128kbps\" acodec=\"mp4a.40.2\" progressive=\"False\" type=\"audio\">\n",
            "<Stream: itag=\"249\" mime_type=\"audio/webm\" abr=\"50kbps\" acodec=\"opus\" progressive=\"False\" type=\"audio\">\n",
            "<Stream: itag=\"250\" mime_type=\"audio/webm\" abr=\"70kbps\" acodec=\"opus\" progressive=\"False\" type=\"audio\">\n",
            "<Stream: itag=\"251\" mime_type=\"audio/webm\" abr=\"160kbps\" acodec=\"opus\" progressive=\"False\" type=\"audio\">\n"
          ]
        }
      ],
      "source": [
        "for stream in youtube_video.streams:\n",
        "  print(stream)"
      ]
    },
    {
      "cell_type": "markdown",
      "metadata": {
        "id": "IbzwxoWqyQzF"
      },
      "source": [
        "For this tutorial, we are interested in the audio channel only. Thus, we will filter down to audio streams only."
      ]
    },
    {
      "cell_type": "code",
      "execution_count": 12,
      "metadata": {
        "colab": {
          "base_uri": "https://localhost:8080/"
        },
        "id": "p1LZFVslL1Ce",
        "outputId": "468a5f85-d8f7-4df5-904b-00e878fa2752"
      },
      "outputs": [
        {
          "data": {
            "text/plain": [
              "[<Stream: itag=\"139\" mime_type=\"audio/mp4\" abr=\"48kbps\" acodec=\"mp4a.40.5\" progressive=\"False\" type=\"audio\">, <Stream: itag=\"140\" mime_type=\"audio/mp4\" abr=\"128kbps\" acodec=\"mp4a.40.2\" progressive=\"False\" type=\"audio\">, <Stream: itag=\"249\" mime_type=\"audio/webm\" abr=\"50kbps\" acodec=\"opus\" progressive=\"False\" type=\"audio\">, <Stream: itag=\"250\" mime_type=\"audio/webm\" abr=\"70kbps\" acodec=\"opus\" progressive=\"False\" type=\"audio\">, <Stream: itag=\"251\" mime_type=\"audio/webm\" abr=\"160kbps\" acodec=\"opus\" progressive=\"False\" type=\"audio\">]"
            ]
          },
          "execution_count": 12,
          "metadata": {},
          "output_type": "execute_result"
        }
      ],
      "source": [
        "streams = youtube_video.streams.filter(only_audio=True)\n",
        "streams\n"
      ]
    },
    {
      "cell_type": "markdown",
      "metadata": {
        "id": "Aq5f696wyY5J"
      },
      "source": [
        "We don't need the highest quality audio for this project, so we'll select the first audio stream available. If we want a higher quality transcription, we can select a higher quality audio stream and use a larger Whisper model."
      ]
    },
    {
      "cell_type": "code",
      "execution_count": 13,
      "metadata": {
        "colab": {
          "base_uri": "https://localhost:8080/"
        },
        "id": "oHiKuSBSMBYC",
        "outputId": "394f739a-d072-494a-a3c5-bb5d41b3968a"
      },
      "outputs": [
        {
          "data": {
            "text/plain": [
              "<Stream: itag=\"139\" mime_type=\"audio/mp4\" abr=\"48kbps\" acodec=\"mp4a.40.5\" progressive=\"False\" type=\"audio\">"
            ]
          },
          "execution_count": 13,
          "metadata": {},
          "output_type": "execute_result"
        }
      ],
      "source": [
        "stream = streams.first()\n",
        "stream"
      ]
    },
    {
      "cell_type": "markdown",
      "metadata": {
        "id": "VlTNEJ5Oyj5z"
      },
      "source": [
        "Now that we have selected stream we are working with, let's download the stream as fed_meeting.mp4. You should see the file appear in the filesystem browser on the side panel of Colab. Click the refresh button if you don't see it after a while."
      ]
    },
    {
      "cell_type": "code",
      "execution_count": 14,
      "metadata": {
        "colab": {
          "base_uri": "https://localhost:8080/",
          "height": 35
        },
        "id": "IgaPoXfKOFOx",
        "outputId": "bf6b67aa-1e40-4101-fcc2-3045f00ebbb3"
      },
      "outputs": [
        {
          "data": {
            "text/plain": [
              "'c:\\\\Users\\\\rathe\\\\Documents\\\\OpenAI For Finance\\\\OpenAI-Whisper-For-Finance\\\\fed_meeting.mp4'"
            ]
          },
          "execution_count": 14,
          "metadata": {},
          "output_type": "execute_result"
        }
      ],
      "source": [
        "stream.download(filename='fed_meeting.mp4')"
      ]
    },
    {
      "cell_type": "markdown",
      "metadata": {
        "id": "hUKfJ-gHXAdd"
      },
      "source": [
        "We can do some additional processing on the audio file should we choose. I want to ignore any additional sound and speech after Jerome Powell speaks. So we'll use ffmpeg to do this. The command will start the audio file at the 375 second mark where he starts with good afternoon, continue for 2715 seconds, and chop off the rest of the audio. The result will be saved in a new file called fed_meeting_trimmed.mp4."
      ]
    },
    {
      "cell_type": "code",
      "execution_count": null,
      "metadata": {
        "colab": {
          "base_uri": "https://localhost:8080/"
        },
        "id": "gmaEWTbLWigj",
        "outputId": "de64364d-ebfc-4787-d88b-5859a1150886"
      },
      "outputs": [],
      "source": [
        "!ffmpeg -ss 378 -i fed_meeting.mp4 -t 2715 fed_meeting_trimmed.mp4"
      ]
    },
    {
      "cell_type": "markdown",
      "metadata": {
        "id": "L-C4Zzup0GrV"
      },
      "source": [
        "It is possible to embed an audio player into Google Colab, but will not do this for now since I have seen the runtime get disconnected on large audio files. If you want a copy of the resulting audio, you can download it locally using the Colab the file browser."
      ]
    },
    {
      "cell_type": "code",
      "execution_count": 16,
      "metadata": {
        "colab": {
          "base_uri": "https://localhost:8080/"
        },
        "id": "0iycvLUGOyYq",
        "outputId": "518531dc-232b-4df1-8cb2-54a1d6d4e343"
      },
      "outputs": [
        {
          "name": "stdout",
          "output_type": "stream",
          "text": [
            "started at 2023-03-08 16:55:58.686507\n"
          ]
        },
        {
          "name": "stderr",
          "output_type": "stream",
          "text": [
            "c:\\Users\\rathe\\AppData\\Local\\Programs\\Python\\Python310\\lib\\site-packages\\whisper\\transcribe.py:114: UserWarning: FP16 is not supported on CPU; using FP32 instead\n",
            "  warnings.warn(\"FP16 is not supported on CPU; using FP32 instead\")\n"
          ]
        },
        {
          "name": "stdout",
          "output_type": "stream",
          "text": [
            "ended at 2023-03-08 17:01:20.122433\n",
            "time elapsed: 0:05:21.435926\n"
          ]
        }
      ],
      "source": [
        "import datetime\n",
        "\n",
        "# save a timestamp before transcription\n",
        "t1 = datetime.datetime.now()\n",
        "print(f\"started at {t1}\")\n",
        "\n",
        "# do the transcription\n",
        "output = model.transcribe(\"fed_meeting_trimmed.mp4\")\n",
        "\n",
        "# show time elapsed after transcription is complete.\n",
        "t2 = datetime.datetime.now()\n",
        "print(f\"ended at {t2}\")\n",
        "print(f\"time elapsed: {t2 - t1}\")"
      ]
    },
    {
      "cell_type": "markdown",
      "metadata": {
        "id": "ph69NVP8QOTn"
      },
      "source": [
        "How long with CPU? Switch to GPU on Colab Free. How long? 2:24. Compare to Colab Pro. 1:45. Compare to Macbook Pro M1. "
      ]
    },
    {
      "cell_type": "code",
      "execution_count": null,
      "metadata": {
        "colab": {
          "base_uri": "https://localhost:8080/"
        },
        "id": "bfFxwmqQQNG6",
        "outputId": "fff38ef3-f7b4-4daf-c48a-92829df4583d"
      },
      "outputs": [],
      "source": [
        "output"
      ]
    },
    {
      "cell_type": "code",
      "execution_count": 18,
      "metadata": {
        "colab": {
          "base_uri": "https://localhost:8080/",
          "height": 122
        },
        "id": "tetU2NnLUpij",
        "outputId": "8e12f63d-7c7e-4f08-d015-4e23dea92dde"
      },
      "outputs": [
        {
          "data": {
            "text/plain": [
              "\" Good afternoon. My colleagues and I are strongly committed to bringing inflation back down to our 2% goal. We have both the tools that we need and the resolve it will take to restore price stability on behalf of American families and businesses. Price stability is the responsibility of the Federal Reserve and serves as the bedrock of our economy. Good afternoon. My colleagues and I are strongly committed to bringing inflation back down to our 2% goal. We have both the tools that we need and the resolve it will take to restore price stability on behalf of American families and businesses. Price stability is the responsibility of the Federal Reserve and serves as the bedrock of our economy. Without price stability, the economy does not work for anyone. In particular, without price stability, we will not achieve a sustained period of strong labor market conditions that benefit all. Today, the FOMC raised our policy interest rate by 75 basis points and we continue to anticipate that ongoing increases will be appropriate. Without price stability, the economy does not work for anyone. In particular, without price stability, we will not achieve a sustained period of strong labor market conditions that benefit all. Today, the FOMC raised our policy interest rate by 75 basis points and we continue to anticipate that ongoing increases will be appropriate. We are moving our policy stance purposefully to a level that will be sufficiently restrictive to return inflation to 2%. In addition, we are continuing the process of significantly reducing the size of our balance sheet. Restoring price stability will likely require maintaining a restrictive stance of policy for some time. I will have more to say about today's monetary policy actions after briefly reviewing economic developments. We are moving our policy stance purposefully to a level that will be sufficiently restrictive to return inflation to 2%. In addition, we are continuing the process of significantly reducing the size of our balance sheet. Restoring price stability will likely require maintaining a restrictive stance of policy for some time. I will have more to say about today's monetary policy actions after briefly reviewing economic developments. The U.S. economy has slowed significantly from last year's rapid pace. Real GDP rose at a pace of 2.6% last quarter but is unchanged so far this year. Recent indicators point to modest growth of spending and production this quarter. Growth in consumer spending has slowed from last year's rapid pace in part reflecting lower real disposable income and tighter financial conditions. The U.S. economy has slowed significantly from last year's rapid pace. Real GDP rose at a pace of 2.6% last quarter but is unchanged so far this year. Recent indicators point to modest growth of spending and production this quarter. Growth in consumer spending has slowed from last year's rapid pace in part reflecting lower real disposable income and tighter financial conditions. Activity in the housing sector has weakened significantly, largely reflecting higher mortgage rates. Higher interest rates and slower output growth also appear to be weighing on business fixed investment. Despite the slowdown in growth, the labor market remains extremely tight with the unemployment rate at a 50-year low. Job vacancies still very high and wage growth elevated. Activity in the housing sector has weakened significantly, largely reflecting higher mortgage rates. Higher interest rates and slower output growth also appear to be weighing on business fixed investment. Despite the slowdown in growth, the labor market remains extremely tight with the unemployment rate at a 50-year low. Job vacancies still very high and wage growth elevated. Job gains have been robust with employment rising by an average of 289,000 jobs per month over August and September. Although job vacancies have moved below their highs and the pace of job gains has slowed from earlier in the year, the labor market continues to be out of balance, with demand substantially exceeding the supply of available workers. Job gains have been robust with employment rising by an average of 289,000 jobs per month over August and September. Although job vacancies have moved below their highs and the pace of job gains has slowed from earlier in the year, the labor market continues to be out of balance, with demand substantially exceeding the supply of available workers. The labor force participation rate is little changed since the beginning of the year. Inflation remains well above our longer run goal of 2%. Over the 12 months ending in September, total PCE prices rose 6.2%, excluding the volatile food and energy categories, core PCE prices rose 5.1%. The labor force participation rate is little changed since the beginning of the year. Inflation remains well above our longer run goal of 2%. Over the 12 months ending in September, total PCE prices rose 6.2%, excluding the volatile food and energy categories, core PCE prices rose 5.1%. The recent inflation data again have come in higher than expected. Price pressures remained evident across a broad range of goods and services. Russia's war against Ukraine has boosted prices for energy and food and has created additional upward pressure on inflation. Despite elevated inflation, longer term inflation expectations appear to remain well anchored, as reflected in a broad range of surveys of households, businesses and forecasters, The recent inflation data again have come in higher than expected. Price pressures remained evident across a broad range of goods and services. Russia's war against Ukraine has boosted prices for energy and food and has created additional upward pressure on inflation. Despite elevated inflation, longer term inflation expectations appear to remain well anchored, as reflected in a broad range of surveys of households, businesses and forecasters, as well as measures from financial markets. That is not grounds for complacency. The longer the current amount of high inflation continues, the greater the chance that expectations of higher inflation will become entrenched. The Fed's monetary policy actions are guided by our mandate to promote maximum employment and stable prices for the American people. as well as measures from financial markets. That is not grounds for complacency. The longer the current amount of high inflation continues, the greater the chance that expectations of higher inflation will become entrenched. The Fed's monetary policy actions are guided by our mandate to promote maximum employment and stable prices for the American people. My colleagues and I are acutely aware that high inflation imposes significant hardship and as it erodes purchasing power, especially for those least able to meet the higher costs of essentials like food, housing and transportation. We are highly attentive to the risks that high inflation poses to both sides of our mandate and we're strongly committed to returning inflation to our 2% objective. My colleagues and I are acutely aware that high inflation imposes significant hardship and as it erodes purchasing power, especially for those least able to meet the higher costs of essentials like food, housing and transportation. We are highly attentive to the risks that high inflation poses to both sides of our mandate and we're strongly committed to returning inflation to our 2% objective. At today's meeting, the committee raised the target range for the federal funds rate by 75 basis points and we are continuing the process of significantly reducing the size of our balance sheet, which plays an important role in firming the stance of monetary policy. At today's meeting, the committee raised the target range for the federal funds rate by 75 basis points and we are continuing the process of significantly reducing the size of our balance sheet, which plays an important role in firming the stance of monetary policy. With today's action, we've raised interest rates by three and three quarters percentage points this year. We anticipate that ongoing increases in the target range for the federal funds rate will be appropriate in order to attain a stance of monetary policy that is sufficiently restrictive to return inflation to 2% over time. Financial conditions have tightened significantly in response to our policy actions and we are seeing the effects on demand in the most interest rate sensitive sectors of the economy such as housing. With today's action, we've raised interest rates by three and three quarters percentage points this year. We anticipate that ongoing increases in the target range for the federal funds rate will be appropriate in order to attain a stance of monetary policy that is sufficiently restrictive to return inflation to 2% over time. Financial conditions have tightened significantly in response to our policy actions and we are seeing the effects on demand in the most interest rate sensitive sectors of the economy such as housing. It will take time, however, for the full effects of monetary restraint to be realized, especially on inflation. That's why we say in our statement that in determining the pace of future increases in the target range, we will take into account the cumulative tightening of monetary policy and the lags with which monetary policy affects economic activity and inflation. It will take time, however, for the full effects of monetary restraint to be realized, especially on inflation. That's why we say in our statement that in determining the pace of future increases in the target range, we will take into account the cumulative tightening of monetary policy and the lags with which monetary policy affects economic activity and inflation. At some point, as I've said in the last two press conferences, it will become appropriate to slow the pace of increases as we approach the level of interest rates that will be sufficiently restrictive to bring inflation down to our 2% goal. There is significant uncertainty around that level of interest rates. At some point, as I've said in the last two press conferences, it will become appropriate to slow the pace of increases as we approach the level of interest rates that will be sufficiently restrictive to bring inflation down to our 2% goal. There is significant uncertainty around that level of interest rates. Even so, we still have some ways to go. And incoming data, since our last meeting, suggests that the ultimate level of interest rates will be higher than previously expected. Our decisions will depend on the totality of incoming data and their implications for the outlook for economic activity and inflation. We will continue to make our decisions meeting by being and communicate our thinking as clearly as possible. Even so, we still have some ways to go. And incoming data, since our last meeting, suggests that the ultimate level of interest rates will be higher than previously expected. Our decisions will depend on the totality of incoming data and their implications for the outlook for economic activity and inflation. We will continue to make our decisions meeting by being and communicate our thinking as clearly as possible. We are taking forceful steps to moderate demand so that it comes into better alignment with supply. Our overarching focus is using our tools to bring inflation back down to our 2% goal and to keep longer term inflation expectations well anchored. Reducing inflation is likely to require a sustained period of below trend growth and some softening of labor market conditions. We are taking forceful steps to moderate demand so that it comes into better alignment with supply. Our overarching focus is using our tools to bring inflation back down to our 2% goal and to keep longer term inflation expectations well anchored. Reducing inflation is likely to require a sustained period of below trend growth and some softening of labor market conditions. Restoring price stability is essential to set the stage for achieving maximum employment and stable prices in the longer run. The historical record caution strongly against prematurely loosening policy. We will stay the course until the job is done. To conclude, we understand that our actions affect communities, families and businesses across the country. Everything we do is in service to our public mission. Restoring price stability is essential to set the stage for achieving maximum employment and stable prices in the longer run. The historical record caution strongly against prematurely loosening policy. We will stay the course until the job is done. To conclude, we understand that our actions affect communities, families and businesses across the country. Everything we do is in service to our public mission. We at the Fed will do everything we can to achieve our maximum employment and price stability goals. Thank you, and I look forward to your questions. Thank you, Colby. Thank you, Colby Smith, with the financial times. On the need to slow the pace of rate increases at some point. Is a downshift contingent on a string of better inflation data specifically between now and, let's say, the December meeting? We at the Fed will do everything we can to achieve our maximum employment and price stability goals. Thank you, and I look forward to your questions. Thank you, Colby. Thank you, Colby Smith, with the financial times. On the need to slow the pace of rate increases at some point. Is a downshift contingent on a string of better inflation data specifically between now and, let's say, the December meeting? Is that something that the Fed could potentially proceed with independent of that data given the lag defects that you mentioned? So a couple of things on that. We do need to see inflation coming down decisively and good at evidence of that would be a series of down-monthly readings. Of course, that's what we'd all love to see. But that's, I've never thought of that as the appropriate test for slowing the pace of increases or for identifying the appropriately restrictive level that we're aiming for. Is that something that the Fed could potentially proceed with independent of that data given the lag defects that you mentioned? So a couple of things on that. We do need to see inflation coming down decisively and good at evidence of that would be a series of down-monthly readings. Of course, that's what we'd all love to see. But that's, I've never thought of that as the appropriate test for slowing the pace of increases or for identifying the appropriately restrictive level that we're aiming for. We need to bring our policy stance down to a level that's sufficiently restrictive to bring inflation down to our 2% objective over the medium term. How will we know that we've reached that level? Well, we'll take into account the full range of analysis and data that bear on that question guided by our assessment of how much financial conditions have tightened the effects of that tightening is actually having on the real economy and on inflation, taking into consideration lags, as I mentioned. We need to bring our policy stance down to a level that's sufficiently restrictive to bring inflation down to our 2% objective over the medium term. How will we know that we've reached that level? Well, we'll take into account the full range of analysis and data that bear on that question guided by our assessment of how much financial conditions have tightened the effects of that tightening is actually having on the real economy and on inflation, taking into consideration lags, as I mentioned. We will be looking at real rates, for example, all across the yield curve and all other financial conditions. And as we make that assessment. I would say. Hi, Howard Schneider with with Reuters. We will be looking at real rates, for example, all across the yield curve and all other financial conditions. And as we make that assessment. I would say. Hi, Howard Schneider with with Reuters. I'm sure there's going to be tons of confusion out there about whether this means you're going to slow in December or not. Would you say that the bias right now is not for another 75 basis point increase? So what I want to do is put that question of pace in the context of our broader tightening program of fine May. And to talk about the statement language along the way. I'm sure there's going to be tons of confusion out there about whether this means you're going to slow in December or not. Would you say that the bias right now is not for another 75 basis point increase? So what I want to do is put that question of pace in the context of our broader tightening program of fine May. And to talk about the statement language along the way. I think you can think about our our tightening program has really addressing three questions. The first of which was and has been how fast to go. The second is how high to raise our policy rate. And the third will be eventually how long to remain at a at a restrictive level. So on the first question. How fast to tighten policy. It's been very important that we move expeditiously and we have clearly done so. We've moved three and three quarters percent since March admittedly from a base of zero. I think you can think about our our tightening program has really addressing three questions. The first of which was and has been how fast to go. The second is how high to raise our policy rate. And the third will be eventually how long to remain at a at a restrictive level. So on the first question. How fast to tighten policy. It's been very important that we move expeditiously and we have clearly done so. We've moved three and three quarters percent since March admittedly from a base of zero. It's a historically fast pace and that's certainly appropriate given the persistence and strength and inflation and the low level from which we started. So now we come to the second question which is how high to raise our policy rate. And we're saying that we'd raise that rate to a level that's sufficiently restrictive to bring inflation to our two percent target over time. And we put that into our into our post meeting statement because that really does become the important question we think now is how far to go. It's a historically fast pace and that's certainly appropriate given the persistence and strength and inflation and the low level from which we started. So now we come to the second question which is how high to raise our policy rate. And we're saying that we'd raise that rate to a level that's sufficiently restrictive to bring inflation to our two percent target over time. And we put that into our into our post meeting statement because that really does become the important question we think now is how far to go. And I'll talk more about that. We think there's some ground to cover but before we meet that test and that's why we say that ongoing rate increases will be appropriate. And as I mentioned incoming data between the meetings both the strong labor market report but particularly the CPI report do suggest to me that we may ultimately move to higher levels than we thought at the time of the September meeting. And I'll talk more about that. We think there's some ground to cover but before we meet that test and that's why we say that ongoing rate increases will be appropriate. And as I mentioned incoming data between the meetings both the strong labor market report but particularly the CPI report do suggest to me that we may ultimately move to higher levels than we thought at the time of the September meeting. That level is very uncertain though and I would say we're going to find it over time. Of course with the lags between policy and economic activity there's a lot of uncertainty. So we note that in determining the pace of future increases will take into account the cumulative tightening of monetary policy as well as the lags with monetary policy affects economic activity inflation. That level is very uncertain though and I would say we're going to find it over time. Of course with the lags between policy and economic activity there's a lot of uncertainty. So we note that in determining the pace of future increases will take into account the cumulative tightening of monetary policy as well as the lags with monetary policy affects economic activity inflation. So I would say as we come closer to that level move more into restrictive territory the question of speed becomes less important than the second and third questions. And that's why I've said it the last two press conferences that at some point it will become appropriate to slow the pace of increases. So that time is coming and it may come as soon as the next meeting or the one after that. No decision has been made. So I would say as we come closer to that level move more into restrictive territory the question of speed becomes less important than the second and third questions. And that's why I've said it the last two press conferences that at some point it will become appropriate to slow the pace of increases. So that time is coming and it may come as soon as the next meeting or the one after that. No decision has been made. It is likely we'll have a discussion about this at the next meeting a discussion to be clear. Let me say again the question of when to moderate the pace of increases is now much less important than the question of how high it erases rates and how long to keep monetary policy restricted which really will be our principal focus. It is likely we'll have a discussion about this at the next meeting a discussion to be clear. Let me say again the question of when to moderate the pace of increases is now much less important than the question of how high it erases rates and how long to keep monetary policy restricted which really will be our principal focus. If I could follow up on that to what degree was there an importance or weight given to a need to signal this possibility now given all the concerns really around the globe about fed policy sort of driving ahead and everybody else you don't dealing with their own stress as a result. If I could follow up on that to what degree was there an importance or weight given to a need to signal this possibility now given all the concerns really around the globe about fed policy sort of driving ahead and everybody else you don't dealing with their own stress as a result. Well I think I'm pleased that we have moved as fast as we have I don't think we've over tightened I think there's very difficult to make a case that our current level is too tight given that inflation still runs well above the federal funds rate. Well I think I'm pleased that we have moved as fast as we have I don't think we've over tightened I think there's very difficult to make a case that our current level is too tight given that inflation still runs well above the federal funds rate. So I think that at this meeting I've as the last two meetings as I've mentioned I've said that we that there would come a point and this was a meeting at which we had a discussion about what that might mean and we did discuss this and as I mentioned we'll discuss it again in December. So I think that at this meeting I've as the last two meetings as I've mentioned I've said that we that there would come a point and this was a meeting at which we had a discussion about what that might mean and we did discuss this and as I mentioned we'll discuss it again in December. But there's no I don't have any sense that we've over tightened or moved too fast I think I think it's been good in a successful program we we that we've gotten this far this fast remember though that that we still think there's a need for ongoing rate increases and we have some ground left to cover here and and cover we will. But there's no I don't have any sense that we've over tightened or moved too fast I think I think it's been good in a successful program we we that we've gotten this far this fast remember though that that we still think there's a need for ongoing rate increases and we have some ground left to cover here and and cover we will. Nick Temeros of the Wall Street Journal chair Powell core BCE inflation on a three or six month annualized basis and on a 12 month basis has been running in the high fours close to 5% is there any reason to think you won't have to raise rates at least above that level to be confident that you are imparting enough restraint to bring inflation down. Nick Temeros of the Wall Street Journal chair Powell core BCE inflation on a three or six month annualized basis and on a 12 month basis has been running in the high fours close to 5% is there any reason to think you won't have to raise rates at least above that level to be confident that you are imparting enough restraint to bring inflation down. So this is the question of does doesn't does the policy rate need to need to get above the inflation rate and I would say there there are a range of views on that that's the classic Taylor principle view but I would think you'd look more at a forward you know a forward looking measure of of inflation to to look at that but I think the answer is we'll want to get the policy rate to a level where it is where the where the real interest rate is going to be. So this is the question of does doesn't does the policy rate need to need to get above the inflation rate and I would say there there are a range of views on that that's the classic Taylor principle view but I would think you'd look more at a forward you know a forward looking measure of of inflation to to look at that but I think the answer is we'll want to get the policy rate to a level where it is where the where the real interest rate is going to be. So if you're the where the real interest rate is positive we will want to do that I do not think of it as the as the single and only touch down though I think you put some weight on that you also put some weight on rates across the curve very few people borrow at the short end of the at the federal funds rate for example so households and businesses if they're very you know meaningfully positive interest rates all across the curve for them credits spread spreads are larger so barring rates are significantly higher. So if you're the where the real interest rate is positive we will want to do that I do not think of it as the as the single and only touch down though I think you put some weight on that you also put some weight on rates across the curve very few people borrow at the short end of the at the federal funds rate for example so households and businesses if they're very you know meaningfully positive interest rates all across the curve for them credits spread spreads are larger so barring rates are significantly higher. I think financial conditions have tightened quite a bit so I would look at that as an important feature I put some weight on it but I wouldn't say it's it's it's something that that is the single dominant thing to look at if I could follow up what what is your best assessment or the staff's best assessment right now of the current rate of underlying inflation. I think financial conditions have tightened quite a bit so I would look at that as an important feature I put some weight on it but I wouldn't say it's it's it's something that that is the single dominant thing to look at if I could follow up what what is your best assessment or the staff's best assessment right now of the current rate of underlying inflation. I don't have a specific number for you there are there are many many models that look at that and I mean one way to look at it is that it's a pretty stationary object and that when inflation runs above above that level for sure substantially above for some time you'll see it move up but the movement will be will be fairly gradual so I think that's what that's what the principal models would would tend to say but I wouldn't want to land on any one assessment there are many different as you know many different people publish an assessment of a single dominant line inflation thank you. I'd your pal thank you for taking our questions Gina smile with me or times I wonder do you see any evidence at this stage that inflation is or is it risk of becoming entrenched. single dominant line inflation thank you. I'd your pal thank you for taking our questions Gina smile with me or times I wonder do you see any evidence at this stage that inflation is or is it risk of becoming entrenched. So I guess I would start by pointing to expectations so if we saw longer term expectations moving up that would be very troubling and they were moving up a little bit in the middle part of this year and they move now back down that's one piece of data shorter term inflation expectation moved up between the last this meeting the last meeting in this meeting and we don't think those are as indicative but they may be important in the wage setting. So I guess I would start by pointing to expectations so if we saw longer term expectations moving up that would be very troubling and they were moving up a little bit in the middle part of this year and they move now back down that's one piece of data shorter term inflation expectation moved up between the last this meeting the last meeting in this meeting and we don't think those are as indicative but they may be important in the wage setting. So that's very concerning. I guess the other thing I would say is that the longer we have we're now 18 months into this episode of high inflation and we don't have you know a clearly identified scientific way of understanding at what point inflation becomes entrenched and so you know the thing we need to do from a risk management standpoint is to use our tools for some of the things that we need to do. So that's very concerning. I guess the other thing I would say is that the longer we have we're now 18 months into this episode of high inflation and we don't have you know a clearly identified scientific way of understanding at what point inflation becomes entrenched and so you know the thing we need to do from a risk management standpoint is to use our tools for some of the things that we need to do. So that's very important for the tools forcefully but thoughtfully and get inflation under control get it down to 2% get it behind us that's what we really need to do and what we're strongly committed to doing. So that's very important for the tools forcefully but thoughtfully and get inflation under control get it down to 2% get it behind us that's what we really need to do and what we're strongly committed to doing. Hi Terpall thank you for taking your questions Rachel Segal from the Washington Post. The statement points to the lag times I'm wondering if you can walk us through how you judge those lag effects what that timeline looks like over the coming months or even a year and where you would expect it to show up in different parts of the economy. Hi Terpall thank you for taking your questions Rachel Segal from the Washington Post. The statement points to the lag times I'm wondering if you can walk us through how you judge those lag effects what that timeline looks like over the coming months or even a year and where you would expect it to show up in different parts of the economy. So the way I would think about that is it's a commonly for a long time thought that monetary policy works with long and variable legs and that it works first on financial conditions and then on economic activity and then perhaps later than that even on inflation. So the way I would think about that is it's a commonly for a long time thought that monetary policy works with long and variable legs and that it works first on financial conditions and then on economic activity and then perhaps later than that even on inflation. That's been the thinking for a long time there was an old literature that made those legs out to be fairly long. There's newer literature that says that they're shorter and you know the truth is we don't have a lot of data of inflation of this high in what is now the minor economy. That's been the thinking for a long time there was an old literature that made those legs out to be fairly long. There's newer literature that says that they're shorter and you know the truth is we don't have a lot of data of inflation of this high in what is now the minor economy. So one big difference now is that it used to be that you would raise the federal funds rate financial conditions would react and then that would affect economic activity inflation. Now financial conditions react well before in expectation of monetary policy that's the that's the way it's it is moved for a quarter of a century is in the direction of financial conditions then monetary policy because because the markets are thinking what's you know what is the central bank and a do. So one big difference now is that it used to be that you would raise the federal funds rate financial conditions would react and then that would affect economic activity inflation. Now financial conditions react well before in expectation of monetary policy that's the that's the way it's it is moved for a quarter of a century is in the direction of financial conditions then monetary policy because because the markets are thinking what's you know what is the central bank and a do. And you know there are there are plenty of economists that also think that once financial conditions change that the effects on the economy are actually faster than they would have been before we don't know that the I guess the thing I would say is it's highly answer highly uncertain and so from risk management. And you know there are there are plenty of economists that also think that once financial conditions change that the effects on the economy are actually faster than they would have been before we don't know that the I guess the thing I would say is it's highly answer highly uncertain and so from risk management. But we do need it would be irresponsible not to to ignore them but you want to consider them but not not take them literally so I think it's it's a very difficult place to be but I would tend to be want to be in the middle looking carefully at what's actually happening with the economy and trying to make good decisions from a risk management standpoint remembering of course that you know if we were to overtighten we could then use our tools strongly to support the economy whereas if we if we don't get inflated. But we do need it would be irresponsible not to to ignore them but you want to consider them but not not take them literally so I think it's it's a very difficult place to be but I would tend to be want to be in the middle looking carefully at what's actually happening with the economy and trying to make good decisions from a risk management standpoint remembering of course that you know if we were to overtighten we could then use our tools strongly to support the economy whereas if we if we don't get inflated. We don't get inflation under control because we know tight enough now we're in a situation where inflation will become entrenched and the costs the employment costs in particular will be much higher potentially so from risk management standpoint we want we want to be sure that we that we don't make the mistake of either failing to tight enough or loosening policy too soon. We don't get inflation under control because we know tight enough now we're in a situation where inflation will become entrenched and the costs the employment costs in particular will be much higher potentially so from risk management standpoint we want we want to be sure that we that we don't make the mistake of either failing to tight enough or loosening policy too soon. I could follow up should we interpret the addition to the statement to mean that more weight is put into those log effects and they would have been after previous rate heights. I think as we as we move now into inter restrictive territory as we make these ongoing rate hikes and policy becomes more restrictive it'll be appropriate now to be thinking more about like of course we think about the lags are just sort of a basic part of monetary policy but we will be thinking about them. I could follow up should we interpret the addition to the statement to mean that more weight is put into those log effects and they would have been after previous rate heights. I think as we as we move now into inter restrictive territory as we make these ongoing rate hikes and policy becomes more restrictive it'll be appropriate now to be thinking more about like of course we think about the lags are just sort of a basic part of monetary policy but we will be thinking about them. But we won't be you know I think we'll be considering them but because it's appropriate to do so. Let me say this it's it's it is very premature to be thinking about pausing so people when they hear lags they think about about a pause it's very premature in my view to think about or be talking about pausing our rate hike. But we won't be you know I think we'll be considering them but because it's appropriate to do so. Let me say this it's it's it is very premature to be thinking about pausing so people when they hear lags they think about about a pause it's very premature in my view to think about or be talking about pausing our rate hike. We have we have we have a ways to go our policy we need ongoing rate hikes to get to to that level of sufficiently restrictive and we don't of course we don't really know exactly where that is we have a sense and we'll write down in September sorry in the December meeting a new a new summary of economic projections which updates that but I would expect is to continue updated based on what we're seeing with incoming data. We have we have we have a ways to go our policy we need ongoing rate hikes to get to to that level of sufficiently restrictive and we don't of course we don't really know exactly where that is we have a sense and we'll write down in September sorry in the December meeting a new a new summary of economic projections which updates that but I would expect is to continue updated based on what we're seeing with incoming data. Thanks chair pal and you learn that she was as you look around the economy the clearest impact of the tightening so far has been on housing maybe some some venture fund attack companies. It's been relatively narrow in terms of labor market consumer demand a lot of sectors you don't see a ton of effect is the pathway and channels through which monetary policy works changing is it narrower than it used to be and on housing in particular are you. Thanks chair pal and you learn that she was as you look around the economy the clearest impact of the tightening so far has been on housing maybe some some venture fund attack companies. It's been relatively narrow in terms of labor market consumer demand a lot of sectors you don't see a ton of effect is the pathway and channels through which monetary policy works changing is it narrower than it used to be and on housing in particular are you. I'm sorry that you're crimping housing supply in ways that might cause problems down the road. I don't know that the channels through which policy works have changed that much I would say a big channel is the labor market and the labor just very very strong very strong and household by of course have have strong balance sheets and you so we go into this with how with with strong labor market and excess demand in the labor market as you can see through many different things and also with households who have strong spending power. I'm sorry that you're crimping housing supply in ways that might cause problems down the road. I don't know that the channels through which policy works have changed that much I would say a big channel is the labor market and the labor just very very strong very strong and household by of course have have strong balance sheets and you so we go into this with how with with strong labor market and excess demand in the labor market as you can see through many different things and also with households who have strong spending power. So it may take time it may take resolve it may take patience it's likely to to get inflation down it may I think you see from our forecast and others that it will take some time for inflation to come down it'll take time we think. So sorry was it getting your question there. So it may take time it may take resolve it may take patience it's likely to to get inflation down it may I think you see from our forecast and others that it will take some time for inflation to come down it'll take time we think. So sorry was it getting your question there. So housing the housing part of it yeah so you know we we look at housing of course housing is significantly affected by these higher rates which are really back where they were before the global financial crisis they're not historically high but they're much higher than they've been and you're seeing housing activity decline you're seeing housing prices growing in a faster rate and in some parts of the country declining. So housing the housing part of it yeah so you know we we look at housing of course housing is significantly affected by these higher rates which are really back where they were before the global financial crisis they're not historically high but they're much higher than they've been and you're seeing housing activity decline you're seeing housing prices growing in a faster rate and in some parts of the country declining. You know I would say housing it was housing market was was very overheated for the couple of years after the pandemic as demand increased in rates were low we all know the stories of how how overheated the housing market was prices going up many many bitters no conditions that kind of thing so the housing market needs to get back into a balance between supply and demand we're well aware of the what's going on there you know from a financial stability standpoint we didn't see in this site. You know I would say housing it was housing market was was very overheated for the couple of years after the pandemic as demand increased in rates were low we all know the stories of how how overheated the housing market was prices going up many many bitters no conditions that kind of thing so the housing market needs to get back into a balance between supply and demand we're well aware of the what's going on there you know from a financial stability standpoint we didn't see in this site. We didn't see in this cycle the kinds of poor credit underwriting that we saw before the global financial crisis housing credit was was very carefully much more carefully managed by the lenders so it's a very different situation and doesn't present potential financial doesn't appear to present financial stability issues but no we do understand that that's really we're a very big effect of our pal policy. We didn't see in this cycle the kinds of poor credit underwriting that we saw before the global financial crisis housing credit was was very carefully much more carefully managed by the lenders so it's a very different situation and doesn't present potential financial doesn't appear to present financial stability issues but no we do understand that that's really we're a very big effect of our pal policy. Victoria. Hi Victoria Guida with Politico I wanted to ask about the labor market you you mentioned early on again that job openings are very high compared to available workers and I'm just curious to what extent you do and don't draw signal from that so for example if wage growth is slowing and if maybe the unemployment rate starts to take up will that make you sort of decrease your focus on job development. Victoria. Hi Victoria Guida with Politico I wanted to ask about the labor market you you mentioned early on again that job openings are very high compared to available workers and I'm just curious to what extent you do and don't draw signal from that so for example if wage growth is slowing and if maybe the unemployment rate starts to take up will that make you sort of decrease your focus on job development. Victoria Guida with Politico I'm just curious to what extent you do and don't draw signal from that so for example if you're a very big impact on job openings what do you see are wages what's really important how are you thinking about the labor market as it relates to inflation. Victoria Guida with Politico I'm just curious to what extent you do and don't draw signal from that so for example if you're a very big impact on job openings what do you see are wages what's really important how are you thinking about the labor market as it relates to inflation. Victoria Guida with Politico I'm just curious to what extent you do and don't draw signal from that so for example if you're a very big impact on job openings what do you see are wages what's really important how are you thinking about the labor market as it relates to inflation. Victoria Guida with Politico I'm just curious to what extent you do and don't draw signal from that so for example if you're a very big impact on job openings what do you see are wages what's really important how are you thinking about the labor market as it relates to inflation. Victoria Guida with Politico on Leadership I'm just curious to what extent you do and don't draw signal from that so for example if you're a very big impact on job openings what do you see are wages Victoria Guida with Politico on Leadership I'm just curious to what extent you do and don't draw signal from that so for example if you're a very big impact on job openings what do you see are wages which we really thought we thought we would get that back most analysts thought we would get some flavors of polite coming in you mentioned wages so I guess I would characterize that as sort of a mixed picture it's true with average hourly earnings you see so I would call it a flattening out at a level that's well above the level that would be consistent over time with 2% inflation assuming a reasonable productivity which we really thought we thought we would get that back most analysts thought we would get some flavors of polite coming in you mentioned wages so I guess I would characterize that as sort of a mixed picture it's true with average hourly earnings you see so I would call it a flattening out at a level that's well above the level that would be consistent over time with 2% inflation assuming a reasonable productivity with the ECI reading this week again a mixed picture the headline number was a disappointment let's just say it was high it didn't show a decline there's some rays of light inside that if you look at private sector workers that did come down the compensation did come down but overall though the broader picture is of an overheated labor market where demand substantially exceed supply with the ECI reading this week again a mixed picture the headline number was a disappointment let's just say it was high it didn't show a decline there's some rays of light inside that if you look at private sector workers that did come down the compensation did come down but overall though the broader picture is of an overheated labor market where demand substantially exceed supply job creation still exceeds you know the sort of the level that would hold the market where it is so that's a picture do we see you know we keep looking for signs that sort of the beginning of a gradual softening is happening you know maybe that's there but it's not it's not obvious to me because wages aren't coming down they're just moving sideways at an elevated level both ECI and job creation still exceeds you know the sort of the level that would hold the market where it is so that's a picture do we see you know we keep looking for signs that sort of the beginning of a gradual softening is happening you know maybe that's there but it's not it's not obvious to me because wages aren't coming down they're just moving sideways at an elevated level both ECI and job creation still exceeds you know maybe that's a good idea to have a look at the overall the earnings I you know we want to see we would love to see vacancies coming down quits coming down they are coming down vacancies are below they're all time high but you know not by as much as we thought because in that you know the job creation still exceeds you know maybe that's a good idea to have a look at the overall the earnings I you know we want to see we would love to see vacancies coming down quits coming down they are coming down vacancies are below they're all time high but you know not by as much as we thought because in that you know the two or three so it's a mixed picture I don't I don't see the case for real softening just yet but we look at I guess I just as I just showed you we look at a very broad range of data on the labor market. So do you see wages as being a significant driver of inflation? two or three so it's a mixed picture I don't I don't see the case for real softening just yet but we look at I guess I just as I just showed you we look at a very broad range of data on the labor market. So do you see wages as being a significant driver of inflation? You know I think wages have an effect on inflation inflation has an effect on wages I think that's always been the case there's always a going back and forth the question is is that really elevated right now I don't think so I don't think wages are are the principal story of why prices are going up I don't think that I also don't think that we see a wage price spiral. You know I think wages have an effect on inflation inflation has an effect on wages I think that's always been the case there's always a going back and forth the question is is that really elevated right now I don't think so I don't think wages are are the principal story of why prices are going up I don't think that I also don't think that we see a wage price spiral. But again it's not something you can you know once you see it you're in trouble so we don't want to see it we want wages to go up we just want them to go up at a level that's sustainable and consistent with 2% inflation and you know we think we can we do think that given that you know given the data that we have that this labor market can soften without having to soften as much as history would indicate through the unemployment channel it can soften through job openings declining. But again it's not something you can you know once you see it you're in trouble so we don't want to see it we want wages to go up we just want them to go up at a level that's sustainable and consistent with 2% inflation and you know we think we can we do think that given that you know given the data that we have that this labor market can soften without having to soften as much as history would indicate through the unemployment channel it can soften through job openings declining. We think there's there's a room for that but you know we won't know that that that'll be that'll be discovered empirically. Thank you so much Kayla Towsche from CNBC. Earlier last month the United Nations warned that there could be a global recession of central banks didn't change course the new UK Prime Minister warned of a profound economic crisis there and I'm wondering how the Fed is weighing international. We think there's there's a room for that but you know we won't know that that that'll be that'll be discovered empirically. Thank you so much Kayla Towsche from CNBC. Earlier last month the United Nations warned that there could be a global recession of central banks didn't change course the new UK Prime Minister warned of a profound economic crisis there and I'm wondering how the Fed is weighing international. The Fed is weighing international developments in light of a very strong economy here in the US that would seem to be bucking those trends. So of course we keep close tabs on economic developments and also geopolitical developments that are relevant to the economy abroad. The Fed is weighing international developments in light of a very strong economy here in the US that would seem to be bucking those trends. So of course we keep close tabs on economic developments and also geopolitical developments that are relevant to the economy abroad. We're in very frequent contact with our foreign counterparts both you know through the IMF meetings and the regular meetings with central banks that we have and I have won this weekend with many many central bankers. So we're in touch with all of that. We're in very frequent contact with our foreign counterparts both you know through the IMF meetings and the regular meetings with central banks that we have and I have won this weekend with many many central bankers. So we're in touch with all of that. So I guess what it's you know it's clear clearly a time difficult time in the global economy we're seeing you know we're seeing you know very high inflation in Europe significantly because of high energy prices related to the war in Ukraine. So I guess what it's you know it's clear clearly a time difficult time in the global economy we're seeing you know we're seeing you know very high inflation in Europe significantly because of high energy prices related to the war in Ukraine. And you know we're seeing China's having issues with the zero COVID policy and you know much slower growth than we're used to seeing. So we're seeing we see those difficulties the strong dollar is a challenge for some countries but you know we we have it and we take all of that into account in our models we think about the spillovers and that sort of thing. And you know we're seeing China's having issues with the zero COVID policy and you know much slower growth than we're used to seeing. So we're seeing we see those difficulties the strong dollar is a challenge for some countries but you know we we have it and we take all of that into account in our models we think about the spillovers and that sort of thing. Here in the United States we have a strong economy and we have an economy where inflation is running at 5% core PCE inflation which is a really good indicator of what's going on for us is the way we see it is is running at 5.1% on a 12 month basis and sort of similar to that on a 36 and 9 month basis. Here in the United States we have a strong economy and we have an economy where inflation is running at 5% core PCE inflation which is a really good indicator of what's going on for us is the way we see it is is running at 5.1% on a 12 month basis and sort of similar to that on a 36 and 9 month basis. So we know that we need to use our tools to get inflation of the control the world's not going to be better off if we fail to do that. That's a task we need to do price stability in the United States is a good thing for the global economy over a long period of time. So we know that we need to use our tools to get inflation of the control the world's not going to be better off if we fail to do that. That's a task we need to do price stability in the United States is a good thing for the global economy over a long period of time. Price stability is the kind of thing that pays dividends for our economy for decades hopefully even though it may be difficult to get it back. Getting it back is something that provides value to the people we serve for the long run. If I could just follow up on that. Price stability is the kind of thing that pays dividends for our economy for decades hopefully even though it may be difficult to get it back. Getting it back is something that provides value to the people we serve for the long run. If I could just follow up on that. The Fed has acknowledged in the past that the tools that you have don't affect things like energy and food prices that stem from some of those conflicts overseas and there's some of the biggest pain points for consumers. So as you pursue the current path that you've outlined is there a risk that some of those prices simply don't come down. The Fed has acknowledged in the past that the tools that you have don't affect things like energy and food prices that stem from some of those conflicts overseas and there's some of the biggest pain points for consumers. So as you pursue the current path that you've outlined is there a risk that some of those prices simply don't come down. We don't directly affect for the most part food and energy prices but the demand channel does affect them just at the margin. The thing about the United States is that we also have strong in many other jurisdictions the principle principle problem really is energy in the United States. We also have a demand issue. We've got an imbalance between demand and supply which you see in many parts of the economy. We don't directly affect for the most part food and energy prices but the demand channel does affect them just at the margin. The thing about the United States is that we also have strong in many other jurisdictions the principle principle problem really is energy in the United States. We also have a demand issue. We've got an imbalance between demand and supply which you see in many parts of the economy. So our tools are well suited to work on that problem and that's what we're doing. You're right though. We don't, you know, the price of oil is set globally and it's not something we can affect. I think by the actions that we take though we help keep longer term inflation expectations anchored and keep the public believing in 2% inflation by the things that we do even at times when energy is part of the story of why inflation is high. So our tools are well suited to work on that problem and that's what we're doing. You're right though. We don't, you know, the price of oil is set globally and it's not something we can affect. I think by the actions that we take though we help keep longer term inflation expectations anchored and keep the public believing in 2% inflation by the things that we do even at times when energy is part of the story of why inflation is high. So now. Hi, chair Powell, Janelle Marty with Bloomberg. So the Fed is facing 2 more ethics related incidents with the revision of the financial statements from President Bostic and President Bullard speaking out of closed event. So now. Hi, chair Powell, Janelle Marty with Bloomberg. So the Fed is facing 2 more ethics related incidents with the revision of the financial statements from President Bostic and President Bullard speaking out of closed event. So some senators like Elizabeth Warren are seeing that this is a sign of greater ethics problems at the Fed. Could you talk about what this does to the public's trust in the bank and what the Fed is doing to prevent this kind of behavior from becoming common? So some senators like Elizabeth Warren are seeing that this is a sign of greater ethics problems at the Fed. Could you talk about what this does to the public's trust in the bank and what the Fed is doing to prevent this kind of behavior from becoming common? Sure. So you're right. The public's trust is really the feds and any central banks most important asset and anytime one of us one of the one of the policymakers violates or fall short of those rules, we do risk undermining that trust and we take that very seriously. Sure. So you're right. The public's trust is really the feds and any central banks most important asset and anytime one of us one of the one of the policymakers violates or fall short of those rules, we do risk undermining that trust and we take that very seriously. So at the beginning of our meeting yesterday, actually, we had a committee discussion of the full committee on the importance of holding ourselves individually and collectively accountable for knowing and following the high standard that set out in our existing rules with respect to both personal investment activities and external communications. So at the beginning of our meeting yesterday, actually, we had a committee discussion of the full committee on the importance of holding ourselves individually and collectively accountable for knowing and following the high standard that set out in our existing rules with respect to both personal investment activities and external communications. And we've taken a number of steps and I would just say we do understand how important those issues are. I would say that our new investment program that we have is up now and running and actually was through that that the problems with President Bosh six disclosures were discovered when he filed his new disclosures. And we've taken a number of steps and I would just say we do understand how important those issues are. I would say that our new investment program that we have is up now and running and actually was through that that the problems with President Bosh six disclosures were discovered when he filed his new disclosures. We now have a central group here at the board of governors that looks into disclosures and follows them and approves people's disclosures and also all of their trades. Any trade anyone has to make who's covered has to be approved pre-approved and there's a lag. It has to be pre-approved 45 days before it happens so there's no ability to game market. We now have a central group here at the board of governors that looks into disclosures and follows them and approves people's disclosures and also all of their trades. Any trade anyone has to make who's covered has to be approved pre-approved and there's a lag. It has to be pre-approved 45 days before it happens so there's no ability to game market. It's a really good system. It worked here and I think we all said to each other yesterday, actually yesterday morning, we recommitted to each other into this institution to hold ourselves to the highest standards and avoid these problems. Do you have an update on the investigations that are pending? It's a really good system. It worked here and I think we all said to each other yesterday, actually yesterday morning, we recommitted to each other into this institution to hold ourselves to the highest standards and avoid these problems. Do you have an update on the investigations that are pending? As you know, I referred the matter concerning President Bostic to the Inspector General and once that happens, I don't discuss it with the Inspector General with anybody. Inspector General has the ability to do investigations. We don't really have that, so that's what he's doing. As you know, I referred the matter concerning President Bostic to the Inspector General and once that happens, I don't discuss it with the Inspector General with anybody. Inspector General has the ability to do investigations. We don't really have that, so that's what he's doing. Michael McKee from Bloomberg Television and Radio. Earlier this year, you touted the three-month bill yield out to 18 months as the yield curve with 100% explanatory power. Michael McKee from Bloomberg Television and Radio. Earlier this year, you touted the three-month bill yield out to 18 months as the yield curve with 100% explanatory power. If it's inverted, that means the Fed's going to cut, which means the economy is weak. That curve is only two basis points away from inversion now, so I'm wondering why you are so confident that you have not overtightened particularly given that rates work with a leg? If it's inverted, that means the Fed's going to cut, which means the economy is weak. That curve is only two basis points away from inversion now, so I'm wondering why you are so confident that you have not overtightened particularly given that rates work with a leg? Well, so we do monitor the near-term forward spread, you're right. That's been our preferred measure. We think it empirically dominates the ones that people tend to look at, which is two's, ten's, and things like that. Well, so we do monitor the near-term forward spread, you're right. That's been our preferred measure. We think it empirically dominates the ones that people tend to look at, which is two's, ten's, and things like that. It's not inverted, and also you have to look at why things, you know, why the rate curve is doing what it's doing, it can be doing that because it expects cuts or because it expects inflation to come down. In this case, if you're in a situation where the markets are pricing in significant declines in inflation, that's going to affect the forward curve. It's not inverted, and also you have to look at why things, you know, why the rate curve is doing what it's doing, it can be doing that because it expects cuts or because it expects inflation to come down. In this case, if you're in a situation where the markets are pricing in significant declines in inflation, that's going to affect the forward curve. So, yes, we monitor it, you're right. And that's what I would say. If I could follow up, you also said several meetings ago that the risk of doing too little outweighed the risk of doing too much. Is what you're trying to tell us today is that risk assessment has changed a little bit? So, yes, we monitor it, you're right. And that's what I would say. If I could follow up, you also said several meetings ago that the risk of doing too little outweighed the risk of doing too much. Is what you're trying to tell us today is that risk assessment has changed a little bit? Well, what's happened is time has passed and we've raised interest rates by 375 basis points. I would not change a word in that statement though. I think until we get inflation down, you'll be hearing that from me. Again, if we over tighten and we don't want to, you know, we want to get this exactly right. Well, what's happened is time has passed and we've raised interest rates by 375 basis points. I would not change a word in that statement though. I think until we get inflation down, you'll be hearing that from me. Again, if we over tighten and we don't want to, you know, we want to get this exactly right. If we over tighten, then we have the ability with our tools, which are powerful too, as we showed at the beginning of the pandemic episode, we can support economic activity strongly if that happens, if that's necessary. On the other hand, if you make the mistake in the other direction and you let this drag on, then it's a year or two down the road and you're realizing inflation behaving the way it can, you're realizing you didn't actually get it yet to go back in. If we over tighten, then we have the ability with our tools, which are powerful too, as we showed at the beginning of the pandemic episode, we can support economic activity strongly if that happens, if that's necessary. On the other hand, if you make the mistake in the other direction and you let this drag on, then it's a year or two down the road and you're realizing inflation behaving the way it can, you're realizing you didn't actually get it yet to go back in. The risk really is that it has become entrenched in people's thinking and the record is that the employment costs, the cost to the people that we don't want to hurt, they go up with the passage of time. That's really how I look at it. The risk really is that it has become entrenched in people's thinking and the record is that the employment costs, the cost to the people that we don't want to hurt, they go up with the passage of time. That's really how I look at it. That isn't going to change. What has changed though, you're right. We're farther along now and I think as we're farther along, we're now focused on what's the level we need to get to rates. I don't know what we'll do when we get there, by the way. It doesn't, we'll have to see. There's been no decision or discussion around exactly what steps we would take at that point. But the first thing is to find your way there. That isn't going to change. What has changed though, you're right. We're farther along now and I think as we're farther along, we're now focused on what's the level we need to get to rates. I don't know what we'll do when we get there, by the way. It doesn't, we'll have to see. There's been no decision or discussion around exactly what steps we would take at that point. But the first thing is to find your way there. Thank you. Chris Ruggaver, associated press. Just to go back to housing for a minute, you mentioned the impact that rate increases have had on housing. Home sales are down 25% in the past year and so forth. But none of this is really showing up as you know in the government's inflation measures. Thank you. Chris Ruggaver, associated press. Just to go back to housing for a minute, you mentioned the impact that rate increases have had on housing. Home sales are down 25% in the past year and so forth. But none of this is really showing up as you know in the government's inflation measures. And as we go forward, private real-time data is clearly showing these hits to housing. Are you going to need to put a greater weight on that in order to ascertain things like whether there's overtaking going on? Or will you still focus as much on the more lagging government indicators? And as we go forward, private real-time data is clearly showing these hits to housing. Are you going to need to put a greater weight on that in order to ascertain things like whether there's overtaking going on? Or will you still focus as much on the more lagging government indicators? So this is an interesting subject. So I start by saying I guess that the measure that's in the CPI and the PCE, it captures rents for all tenants, not just new leases. And that makes sense actually because for that reason, that conceptually that is sort of the right target for monetary policy. So this is an interesting subject. So I start by saying I guess that the measure that's in the CPI and the PCE, it captures rents for all tenants, not just new leases. And that makes sense actually because for that reason, that conceptually that is sort of the right target for monetary policy. And the same thing is true for owners equivalent rent, which comes off of it's a re-weighting of tenant rents. The private measures are of course good at picking up the, you know, at the margin, the new leases. And you know, they tell you a couple things. One thing is, once you, I think right now, if you look at the pattern of that series of the new leases, it's very pro-cyclical. And the same thing is true for owners equivalent rent, which comes off of it's a re-weighting of tenant rents. The private measures are of course good at picking up the, you know, at the margin, the new leases. And you know, they tell you a couple things. One thing is, once you, I think right now, if you look at the pattern of that series of the new leases, it's very pro-cyclical. So rents went up much more than the CPI and PCE rents did. And now they're coming down faster. So what, but what you, the implication is that we, there are still as people, as, as, as non-new leases roll over and become and, and expire, right. You still, there's still, in the pipeline, there's still some significant rate increases coming. So rents went up much more than the CPI and PCE rents did. And now they're coming down faster. So what, but what you, the implication is that we, there are still as people, as, as, as non-new leases roll over and become and, and expire, right. You still, there's still, in the pipeline, there's still some significant rate increases coming. Okay, but at some point, once you get through that, the new leases are going to tell you that what they're telling you is there will come a point at which, at which rent inflation will start to come down. And that point is, is well out from where we are now. So we're well aware of that, of course, and we look at it. And we, you know, but I would say that in terms of what the right way to think about inflation really is to look at the, at the, at the measure that we do look at, but, but considering that we also know, Okay, but at some point, once you get through that, the new leases are going to tell you that what they're telling you is there will come a point at which, at which rent inflation will start to come down. And that point is, is well out from where we are now. So we're well aware of that, of course, and we look at it. And we, you know, but I would say that in terms of what the right way to think about inflation really is to look at the, at the, at the measure that we do look at, but, but considering that we also know, that, that, at some point, you'll see rents coming down. Great. We did. And just a quick poll. It looks like stock and bond markets are reacting positively to your announcements so far. Is that something you wanted to see? Is that a problem or what, how much that might affect your future policy to see this positive reaction? that, that, at some point, you'll see rents coming down. Great. We did. And just a quick poll. It looks like stock and bond markets are reacting positively to your announcements so far. Is that something you wanted to see? Is that a problem or what, how much that might affect your future policy to see this positive reaction? You know, we're not, we're not targeting any, any one or two particular things. You know, our message should be, what I'm trying to do is make sure that our message is clear, which is that we think we have a ways to go. We have some ground to cover with interest rates before we get to, before we get to that level of interest rates that we think is sufficiently restrictive. You know, we're not, we're not targeting any, any one or two particular things. You know, our message should be, what I'm trying to do is make sure that our message is clear, which is that we think we have a ways to go. We have some ground to cover with interest rates before we get to, before we get to that level of interest rates that we think is sufficiently restrictive. And putting that in the statement and identifying that as a goal is an important step. And that's, it's meant to put that question really as the important one now going forward. I've also said that, that we think that the level of rates that we, we estimated in September, the incoming data suggests that that's actually going to be higher. And that's been the pattern. And putting that in the statement and identifying that as a goal is an important step. And that's, it's meant to put that question really as the important one now going forward. I've also said that, that we think that the level of rates that we, we estimated in September, the incoming data suggests that that's actually going to be higher. And that's been the pattern. I mean, I would have little confidence that the forecast, if we made a forecast today, if we were doing an SCP today, you know, the pattern has been that one after another, if they go up and, you know, that'll end when it ends. But there's no sense that, that, you know, that inflation is, is coming down to just, if you look at the, I have a table of the, the last 12 months of 12 month readings. And there's really no pattern there were exactly where we were a year ago. I mean, I would have little confidence that the forecast, if we made a forecast today, if we were doing an SCP today, you know, the pattern has been that one after another, if they go up and, you know, that'll end when it ends. But there's no sense that, that, you know, that inflation is, is coming down to just, if you look at the, I have a table of the, the last 12 months of 12 month readings. And there's really no pattern there were exactly where we were a year ago. Okay, so I would also say it's premature to discuss pausing. And it's not something that we're thinking about. That's, that's really not a conversation to be had now. We have, we have a ways to go. And the last thing I'll say is that I would want people to understand our commitment to getting this done and to not making the mistake of, of, of, of not doing enough or the mistake of withdrawing our, our strong policy. Okay, so I would also say it's premature to discuss pausing. And it's not something that we're thinking about. That's, that's really not a conversation to be had now. We have, we have a ways to go. And the last thing I'll say is that I would want people to understand our commitment to getting this done and to not making the mistake of, of, of, of not doing enough or the mistake of withdrawing our, our strong policy. And doing that too soon. So those, I, I control those messages and, and that's my job. Edward Lawrence with Fox Business, thank you. And doing that too soon. So those, I, I control those messages and, and that's my job. Edward Lawrence with Fox Business, thank you. So, how big of a headwind is all the fiscal spending to what the Federal Reserve is trying to do to get inflation back to the 2% target? You know, in theory it was a headwind this year, but I do think the, the broader context is that you have households that have these significant amounts of savings and can keep spending. So, how big of a headwind is all the fiscal spending to what the Federal Reserve is trying to do to get inflation back to the 2% target? You know, in theory it was a headwind this year, but I do think the, the broader context is that you have households that have these significant amounts of savings and can keep spending. So, I think those two things do tend to wage to sort of counterbalance each other out. It appears consumer spending is, is still positive. It's at pretty modest growth levels. It's not shrinking, but, and, you know, people are, and, you know, the banks that deal with retail customers. And many retailers will tell you that the consumers are still buying and they're, and they're still, you know, real, they're, they're, they're fine. So, I think those two things do tend to wage to sort of counterbalance each other out. It appears consumer spending is, is still positive. It's at pretty modest growth levels. It's not shrinking, but, and, you know, people are, and, you know, the banks that deal with retail customers. And many retailers will tell you that the consumers are still buying and they're, and they're still, you know, real, they're, they're, they're fine. So, I don't know how big the fiscal headwinds are and they, they haven't shown up in the way that we thought they would in restraining spending. So, it must, it must have to do with the, with the savings that people have. What about the, the spending? There's, there's tens of billions yet to be spent. I mean, from the inflation reduction, the American Rescue Plan, CHIPS Act, BIPAR, and Infrastructure Bill. How does that go into playing your thinking about the future? So, I don't know how big the fiscal headwinds are and they, they haven't shown up in the way that we thought they would in restraining spending. So, it must, it must have to do with the, with the savings that people have. What about the, the spending? There's, there's tens of billions yet to be spent. I mean, from the inflation reduction, the American Rescue Plan, CHIPS Act, BIPAR, and Infrastructure Bill. How does that go into playing your thinking about the future? You know, it's, demand is going to have some support from those savings and also from the strong demand that's still in the labor market. We still see pretty significant demand and, and, and a tightening labor market in some respects, although I think overall, I would say it's not really tightening or, or loosening. So, we see those things and what those things tell us is that, you know, our job is going to require some resolve and some patience over time. You know, it's, demand is going to have some support from those savings and also from the strong demand that's still in the labor market. We still see pretty significant demand and, and, and a tightening labor market in some respects, although I think overall, I would say it's not really tightening or, or loosening. So, we see those things and what those things tell us is that, you know, our job is going to require some resolve and some patience over time. We, we're going to have to stick with this. It's, and, and, you know, that's just, we take, we take all that as a given, but we know what our objective is and we know what our tools can do. And, that's how we think about it. Thanks. We'll go to Nancy for the last question. Hi, Chair Powell, Nancy Marshall, Ken sir from Marketplace. I'm wondering, has the window for a soft landing narrowed? Do you still think it's possible? We, we're going to have to stick with this. It's, and, and, you know, that's just, we take, we take all that as a given, but we know what our objective is and we know what our tools can do. And, that's how we think about it. Thanks. We'll go to Nancy for the last question. Hi, Chair Powell, Nancy Marshall, Ken sir from Marketplace. I'm wondering, has the window for a soft landing narrowed? Do you still think it's possible? Has the narrowed? Yes. Is it still possible? Yes. I think, we've always said it was going to be difficult, but I think to the extent rates have to go higher and stay higher for longer, it becomes harder to, to see the path. It's, it's narrowed. I would say the path is narrowed over the course of the last year, really. Has the narrowed? Yes. Is it still possible? Yes. I think, we've always said it was going to be difficult, but I think to the extent rates have to go higher and stay higher for longer, it becomes harder to, to see the path. It's, it's narrowed. I would say the path is narrowed over the course of the last year, really. Hard to say, hard to say. You know, again, I would say that the sort of array of data in the labor market is highly unusual and to many economists, there is a path to, there's your ordinarily that there is a relationship to GP going down and vacancies declining, translating into unemployment or there's Ocons law. Hard to say, hard to say. You know, again, I would say that the sort of array of data in the labor market is highly unusual and to many economists, there is a path to, there's your ordinarily that there is a relationship to GP going down and vacancies declining, translating into unemployment or there's Ocons law. And so all those things are relationships that are in the data and they're very real. There is a little bit different this time though because you have this tremendously high level of vacancies and we think on a very steep part of the beverage curve, all I would say is that the, the law, the job losses may turn out to be less than would be indicated by those traditional measures because, because job openings are so elevated and because the labor market is so strong. And so all those things are relationships that are in the data and they're very real. There is a little bit different this time though because you have this tremendously high level of vacancies and we think on a very steep part of the beverage curve, all I would say is that the, the law, the job losses may turn out to be less than would be indicated by those traditional measures because, because job openings are so elevated and because the labor market is so strong. Again, that's going to be something we discover empirically. I think no one knows whether there's going to be a recession or not and if so, how bad that recession would be. And, you know, our job is to restore price stability so that we can have a strong labor market that benefits all over time and that's what we're going to do. Again, that's going to be something we discover empirically. I think no one knows whether there's going to be a recession or not and if so, how bad that recession would be. And, you know, our job is to restore price stability so that we can have a strong labor market that benefits all over time and that's what we're going to do. But just real quickly, why do you feel like the window is narrowed? Because we haven't seen inflation coming down. The implication of inflation not coming down. And what we would expect by now to have seen is that as the, really as a supply side problems had resolved themselves, we would have expected goods inflation to come down by now, long since by now. But just real quickly, why do you feel like the window is narrowed? Because we haven't seen inflation coming down. The implication of inflation not coming down. And what we would expect by now to have seen is that as the, really as a supply side problems had resolved themselves, we would have expected goods inflation to come down by now, long since by now. And what we really have until though it's, it's, it actually it has come down, but it's not to the extent we had hoped. At the same time, now you see services inflation, core services inflation moving up. And I just think that the inflation picture has become more and more challenging over the course of this year without question. That means that we have to have policy be more restrictive and that narrows the path to a soft landing, I would say. Thanks very much. And what we really have until though it's, it's, it actually it has come down, but it's not to the extent we had hoped. At the same time, now you see services inflation, core services inflation moving up. And I just think that the inflation picture has become more and more challenging over the course of this year without question. That means that we have to have policy be more restrictive and that narrows the path to a soft landing, I would say. Thanks very much.\""
            ]
          },
          "execution_count": 18,
          "metadata": {},
          "output_type": "execute_result"
        }
      ],
      "source": [
        "output['text']"
      ]
    },
    {
      "cell_type": "code",
      "execution_count": null,
      "metadata": {
        "colab": {
          "base_uri": "https://localhost:8080/"
        },
        "id": "-WORTIC2Uswe",
        "outputId": "27e2f066-03f0-445d-b97b-5880642f0c12"
      },
      "outputs": [],
      "source": [
        "for segment in output['segments']:\n",
        "  print(segment)\n",
        "  second = int(segment['start'])\n",
        "  second = second - (second % 5)\n",
        "  print(second)"
      ]
    },
    {
      "cell_type": "markdown",
      "metadata": {
        "id": "JxPRKr3qUDE0"
      },
      "source": [
        "## Combining Speech Data with Price Data\n",
        "\n",
        "Now that we have this speech and the associated timestamps, we can go further by merging these segments into a dataframe containing price data. Let's see how the speech maps to the price of the S&P 500. I have retrieved 5 second OHLCV data for SPY using Interactive Brokers. A copy of this data and the code used to retrieve it are located on the website. We can upload spy.csv to Colab and process it using pandas."
      ]
    },
    {
      "cell_type": "code",
      "execution_count": 20,
      "metadata": {
        "id": "2fD5sVWDYYeN"
      },
      "outputs": [],
      "source": [
        "import pandas as pd"
      ]
    },
    {
      "cell_type": "code",
      "execution_count": 21,
      "metadata": {
        "id": "FybmpYkITOZv"
      },
      "outputs": [],
      "source": [
        "spy = pd.read_csv(\"spy.csv\")"
      ]
    },
    {
      "cell_type": "markdown",
      "metadata": {
        "id": "pqZclyMCVR7U"
      },
      "source": [
        "In the dataframe below, you can see the open, high, low, and close for each 5 second time period that occurred during the speech. "
      ]
    },
    {
      "cell_type": "code",
      "execution_count": 22,
      "metadata": {
        "colab": {
          "base_uri": "https://localhost:8080/",
          "height": 424
        },
        "id": "m91-_PrKTUiv",
        "outputId": "aee1a77d-4051-432e-bd59-1324dbcd2da8"
      },
      "outputs": [
        {
          "data": {
            "text/html": [
              "<div>\n",
              "<style scoped>\n",
              "    .dataframe tbody tr th:only-of-type {\n",
              "        vertical-align: middle;\n",
              "    }\n",
              "\n",
              "    .dataframe tbody tr th {\n",
              "        vertical-align: top;\n",
              "    }\n",
              "\n",
              "    .dataframe thead th {\n",
              "        text-align: right;\n",
              "    }\n",
              "</style>\n",
              "<table border=\"1\" class=\"dataframe\">\n",
              "  <thead>\n",
              "    <tr style=\"text-align: right;\">\n",
              "      <th></th>\n",
              "      <th>date</th>\n",
              "      <th>open</th>\n",
              "      <th>high</th>\n",
              "      <th>low</th>\n",
              "      <th>close</th>\n",
              "      <th>volume</th>\n",
              "      <th>average</th>\n",
              "      <th>barCount</th>\n",
              "    </tr>\n",
              "  </thead>\n",
              "  <tbody>\n",
              "    <tr>\n",
              "      <th>0</th>\n",
              "      <td>2022-11-02 14:31:15</td>\n",
              "      <td>387.13</td>\n",
              "      <td>387.17</td>\n",
              "      <td>386.75</td>\n",
              "      <td>386.83</td>\n",
              "      <td>82173.0</td>\n",
              "      <td>386.884</td>\n",
              "      <td>444</td>\n",
              "    </tr>\n",
              "    <tr>\n",
              "      <th>1</th>\n",
              "      <td>2022-11-02 14:31:20</td>\n",
              "      <td>386.80</td>\n",
              "      <td>387.00</td>\n",
              "      <td>386.80</td>\n",
              "      <td>386.91</td>\n",
              "      <td>38918.0</td>\n",
              "      <td>386.913</td>\n",
              "      <td>234</td>\n",
              "    </tr>\n",
              "    <tr>\n",
              "      <th>2</th>\n",
              "      <td>2022-11-02 14:31:25</td>\n",
              "      <td>386.94</td>\n",
              "      <td>386.96</td>\n",
              "      <td>386.55</td>\n",
              "      <td>386.64</td>\n",
              "      <td>48165.0</td>\n",
              "      <td>386.749</td>\n",
              "      <td>232</td>\n",
              "    </tr>\n",
              "    <tr>\n",
              "      <th>3</th>\n",
              "      <td>2022-11-02 14:31:30</td>\n",
              "      <td>386.64</td>\n",
              "      <td>386.95</td>\n",
              "      <td>386.59</td>\n",
              "      <td>386.86</td>\n",
              "      <td>30688.0</td>\n",
              "      <td>386.760</td>\n",
              "      <td>190</td>\n",
              "    </tr>\n",
              "    <tr>\n",
              "      <th>4</th>\n",
              "      <td>2022-11-02 14:31:35</td>\n",
              "      <td>386.91</td>\n",
              "      <td>386.92</td>\n",
              "      <td>386.81</td>\n",
              "      <td>386.87</td>\n",
              "      <td>22270.0</td>\n",
              "      <td>386.862</td>\n",
              "      <td>130</td>\n",
              "    </tr>\n",
              "    <tr>\n",
              "      <th>...</th>\n",
              "      <td>...</td>\n",
              "      <td>...</td>\n",
              "      <td>...</td>\n",
              "      <td>...</td>\n",
              "      <td>...</td>\n",
              "      <td>...</td>\n",
              "      <td>...</td>\n",
              "      <td>...</td>\n",
              "    </tr>\n",
              "    <tr>\n",
              "      <th>538</th>\n",
              "      <td>2022-11-02 15:16:05</td>\n",
              "      <td>380.30</td>\n",
              "      <td>380.48</td>\n",
              "      <td>380.30</td>\n",
              "      <td>380.39</td>\n",
              "      <td>40401.0</td>\n",
              "      <td>380.418</td>\n",
              "      <td>265</td>\n",
              "    </tr>\n",
              "    <tr>\n",
              "      <th>539</th>\n",
              "      <td>2022-11-02 15:16:10</td>\n",
              "      <td>380.37</td>\n",
              "      <td>380.49</td>\n",
              "      <td>380.24</td>\n",
              "      <td>380.45</td>\n",
              "      <td>40709.0</td>\n",
              "      <td>380.378</td>\n",
              "      <td>221</td>\n",
              "    </tr>\n",
              "    <tr>\n",
              "      <th>540</th>\n",
              "      <td>2022-11-02 15:16:15</td>\n",
              "      <td>380.45</td>\n",
              "      <td>380.48</td>\n",
              "      <td>380.38</td>\n",
              "      <td>380.39</td>\n",
              "      <td>12465.0</td>\n",
              "      <td>380.425</td>\n",
              "      <td>69</td>\n",
              "    </tr>\n",
              "    <tr>\n",
              "      <th>541</th>\n",
              "      <td>2022-11-02 15:16:20</td>\n",
              "      <td>380.38</td>\n",
              "      <td>380.38</td>\n",
              "      <td>380.28</td>\n",
              "      <td>380.36</td>\n",
              "      <td>24107.0</td>\n",
              "      <td>380.324</td>\n",
              "      <td>139</td>\n",
              "    </tr>\n",
              "    <tr>\n",
              "      <th>542</th>\n",
              "      <td>2022-11-02 15:16:25</td>\n",
              "      <td>380.35</td>\n",
              "      <td>380.36</td>\n",
              "      <td>380.28</td>\n",
              "      <td>380.34</td>\n",
              "      <td>12428.0</td>\n",
              "      <td>380.311</td>\n",
              "      <td>91</td>\n",
              "    </tr>\n",
              "  </tbody>\n",
              "</table>\n",
              "<p>543 rows × 8 columns</p>\n",
              "</div>"
            ],
            "text/plain": [
              "                    date    open    high     low   close   volume  average  \\\n",
              "0    2022-11-02 14:31:15  387.13  387.17  386.75  386.83  82173.0  386.884   \n",
              "1    2022-11-02 14:31:20  386.80  387.00  386.80  386.91  38918.0  386.913   \n",
              "2    2022-11-02 14:31:25  386.94  386.96  386.55  386.64  48165.0  386.749   \n",
              "3    2022-11-02 14:31:30  386.64  386.95  386.59  386.86  30688.0  386.760   \n",
              "4    2022-11-02 14:31:35  386.91  386.92  386.81  386.87  22270.0  386.862   \n",
              "..                   ...     ...     ...     ...     ...      ...      ...   \n",
              "538  2022-11-02 15:16:05  380.30  380.48  380.30  380.39  40401.0  380.418   \n",
              "539  2022-11-02 15:16:10  380.37  380.49  380.24  380.45  40709.0  380.378   \n",
              "540  2022-11-02 15:16:15  380.45  380.48  380.38  380.39  12465.0  380.425   \n",
              "541  2022-11-02 15:16:20  380.38  380.38  380.28  380.36  24107.0  380.324   \n",
              "542  2022-11-02 15:16:25  380.35  380.36  380.28  380.34  12428.0  380.311   \n",
              "\n",
              "     barCount  \n",
              "0         444  \n",
              "1         234  \n",
              "2         232  \n",
              "3         190  \n",
              "4         130  \n",
              "..        ...  \n",
              "538       265  \n",
              "539       221  \n",
              "540        69  \n",
              "541       139  \n",
              "542        91  \n",
              "\n",
              "[543 rows x 8 columns]"
            ]
          },
          "execution_count": 22,
          "metadata": {},
          "output_type": "execute_result"
        }
      ],
      "source": [
        "spy"
      ]
    },
    {
      "cell_type": "markdown",
      "metadata": {
        "id": "RL9FtQW2VeJv"
      },
      "source": [
        "Since we already have the segments of the speech and their start and end times in seconds, we can add a new column containing the text that was spoken during each 5 second bar."
      ]
    },
    {
      "cell_type": "code",
      "execution_count": 23,
      "metadata": {
        "colab": {
          "base_uri": "https://localhost:8080/",
          "height": 424
        },
        "id": "aVieWVZQTUw_",
        "outputId": "51b98243-b762-4bf3-bad0-61309bc40bec"
      },
      "outputs": [
        {
          "data": {
            "text/html": [
              "<div>\n",
              "<style scoped>\n",
              "    .dataframe tbody tr th:only-of-type {\n",
              "        vertical-align: middle;\n",
              "    }\n",
              "\n",
              "    .dataframe tbody tr th {\n",
              "        vertical-align: top;\n",
              "    }\n",
              "\n",
              "    .dataframe thead th {\n",
              "        text-align: right;\n",
              "    }\n",
              "</style>\n",
              "<table border=\"1\" class=\"dataframe\">\n",
              "  <thead>\n",
              "    <tr style=\"text-align: right;\">\n",
              "      <th></th>\n",
              "      <th>date</th>\n",
              "      <th>open</th>\n",
              "      <th>high</th>\n",
              "      <th>low</th>\n",
              "      <th>close</th>\n",
              "      <th>volume</th>\n",
              "      <th>average</th>\n",
              "      <th>barCount</th>\n",
              "      <th>text</th>\n",
              "    </tr>\n",
              "  </thead>\n",
              "  <tbody>\n",
              "    <tr>\n",
              "      <th>0</th>\n",
              "      <td>2022-11-02 14:31:15</td>\n",
              "      <td>387.13</td>\n",
              "      <td>387.17</td>\n",
              "      <td>386.75</td>\n",
              "      <td>386.83</td>\n",
              "      <td>82173.0</td>\n",
              "      <td>386.884</td>\n",
              "      <td>444</td>\n",
              "      <td>Good afternoon. My colleagues and I are stron...</td>\n",
              "    </tr>\n",
              "    <tr>\n",
              "      <th>1</th>\n",
              "      <td>2022-11-02 14:31:20</td>\n",
              "      <td>386.80</td>\n",
              "      <td>387.00</td>\n",
              "      <td>386.80</td>\n",
              "      <td>386.91</td>\n",
              "      <td>38918.0</td>\n",
              "      <td>386.913</td>\n",
              "      <td>234</td>\n",
              "      <td>We have both the tools that we need and the r...</td>\n",
              "    </tr>\n",
              "    <tr>\n",
              "      <th>2</th>\n",
              "      <td>2022-11-02 14:31:25</td>\n",
              "      <td>386.94</td>\n",
              "      <td>386.96</td>\n",
              "      <td>386.55</td>\n",
              "      <td>386.64</td>\n",
              "      <td>48165.0</td>\n",
              "      <td>386.749</td>\n",
              "      <td>232</td>\n",
              "      <td>NaN</td>\n",
              "    </tr>\n",
              "    <tr>\n",
              "      <th>3</th>\n",
              "      <td>2022-11-02 14:31:30</td>\n",
              "      <td>386.64</td>\n",
              "      <td>386.95</td>\n",
              "      <td>386.59</td>\n",
              "      <td>386.86</td>\n",
              "      <td>30688.0</td>\n",
              "      <td>386.760</td>\n",
              "      <td>190</td>\n",
              "      <td>Price stability is the responsibility of the ...</td>\n",
              "    </tr>\n",
              "    <tr>\n",
              "      <th>4</th>\n",
              "      <td>2022-11-02 14:31:35</td>\n",
              "      <td>386.91</td>\n",
              "      <td>386.92</td>\n",
              "      <td>386.81</td>\n",
              "      <td>386.87</td>\n",
              "      <td>22270.0</td>\n",
              "      <td>386.862</td>\n",
              "      <td>130</td>\n",
              "      <td>Without price stability, the economy does not...</td>\n",
              "    </tr>\n",
              "    <tr>\n",
              "      <th>...</th>\n",
              "      <td>...</td>\n",
              "      <td>...</td>\n",
              "      <td>...</td>\n",
              "      <td>...</td>\n",
              "      <td>...</td>\n",
              "      <td>...</td>\n",
              "      <td>...</td>\n",
              "      <td>...</td>\n",
              "      <td>...</td>\n",
              "    </tr>\n",
              "    <tr>\n",
              "      <th>538</th>\n",
              "      <td>2022-11-02 15:16:05</td>\n",
              "      <td>380.30</td>\n",
              "      <td>380.48</td>\n",
              "      <td>380.30</td>\n",
              "      <td>380.39</td>\n",
              "      <td>40401.0</td>\n",
              "      <td>380.418</td>\n",
              "      <td>265</td>\n",
              "      <td>At the same time, now you see services inflat...</td>\n",
              "    </tr>\n",
              "    <tr>\n",
              "      <th>539</th>\n",
              "      <td>2022-11-02 15:16:10</td>\n",
              "      <td>380.37</td>\n",
              "      <td>380.49</td>\n",
              "      <td>380.24</td>\n",
              "      <td>380.45</td>\n",
              "      <td>40709.0</td>\n",
              "      <td>380.378</td>\n",
              "      <td>221</td>\n",
              "      <td>And I just think that the inflation picture h...</td>\n",
              "    </tr>\n",
              "    <tr>\n",
              "      <th>540</th>\n",
              "      <td>2022-11-02 15:16:15</td>\n",
              "      <td>380.45</td>\n",
              "      <td>380.48</td>\n",
              "      <td>380.38</td>\n",
              "      <td>380.39</td>\n",
              "      <td>12465.0</td>\n",
              "      <td>380.425</td>\n",
              "      <td>69</td>\n",
              "      <td>NaN</td>\n",
              "    </tr>\n",
              "    <tr>\n",
              "      <th>541</th>\n",
              "      <td>2022-11-02 15:16:20</td>\n",
              "      <td>380.38</td>\n",
              "      <td>380.38</td>\n",
              "      <td>380.28</td>\n",
              "      <td>380.36</td>\n",
              "      <td>24107.0</td>\n",
              "      <td>380.324</td>\n",
              "      <td>139</td>\n",
              "      <td>That means that we have to have policy be mor...</td>\n",
              "    </tr>\n",
              "    <tr>\n",
              "      <th>542</th>\n",
              "      <td>2022-11-02 15:16:25</td>\n",
              "      <td>380.35</td>\n",
              "      <td>380.36</td>\n",
              "      <td>380.28</td>\n",
              "      <td>380.34</td>\n",
              "      <td>12428.0</td>\n",
              "      <td>380.311</td>\n",
              "      <td>91</td>\n",
              "      <td>Thanks very much.</td>\n",
              "    </tr>\n",
              "  </tbody>\n",
              "</table>\n",
              "<p>543 rows × 9 columns</p>\n",
              "</div>"
            ],
            "text/plain": [
              "                    date    open    high     low   close   volume  average  \\\n",
              "0    2022-11-02 14:31:15  387.13  387.17  386.75  386.83  82173.0  386.884   \n",
              "1    2022-11-02 14:31:20  386.80  387.00  386.80  386.91  38918.0  386.913   \n",
              "2    2022-11-02 14:31:25  386.94  386.96  386.55  386.64  48165.0  386.749   \n",
              "3    2022-11-02 14:31:30  386.64  386.95  386.59  386.86  30688.0  386.760   \n",
              "4    2022-11-02 14:31:35  386.91  386.92  386.81  386.87  22270.0  386.862   \n",
              "..                   ...     ...     ...     ...     ...      ...      ...   \n",
              "538  2022-11-02 15:16:05  380.30  380.48  380.30  380.39  40401.0  380.418   \n",
              "539  2022-11-02 15:16:10  380.37  380.49  380.24  380.45  40709.0  380.378   \n",
              "540  2022-11-02 15:16:15  380.45  380.48  380.38  380.39  12465.0  380.425   \n",
              "541  2022-11-02 15:16:20  380.38  380.38  380.28  380.36  24107.0  380.324   \n",
              "542  2022-11-02 15:16:25  380.35  380.36  380.28  380.34  12428.0  380.311   \n",
              "\n",
              "     barCount                                               text  \n",
              "0         444   Good afternoon. My colleagues and I are stron...  \n",
              "1         234   We have both the tools that we need and the r...  \n",
              "2         232                                                NaN  \n",
              "3         190   Price stability is the responsibility of the ...  \n",
              "4         130   Without price stability, the economy does not...  \n",
              "..        ...                                                ...  \n",
              "538       265   At the same time, now you see services inflat...  \n",
              "539       221   And I just think that the inflation picture h...  \n",
              "540        69                                                NaN  \n",
              "541       139   That means that we have to have policy be mor...  \n",
              "542        91                                  Thanks very much.  \n",
              "\n",
              "[543 rows x 9 columns]"
            ]
          },
          "execution_count": 23,
          "metadata": {},
          "output_type": "execute_result"
        }
      ],
      "source": [
        "for segment in output['segments']:\n",
        "   second = int(segment['start'])\n",
        "   second = second - (second % 5)\n",
        "   spy.loc[second / 5, 'text'] = segment['text']\n",
        "\n",
        "spy"
      ]
    },
    {
      "cell_type": "markdown",
      "metadata": {
        "id": "Wd-f_g2EV5FA"
      },
      "source": [
        "Let's also create a new column called *percent* that stores the percent the price moved during the 5 second period."
      ]
    },
    {
      "cell_type": "code",
      "execution_count": 24,
      "metadata": {
        "id": "e2p3tC_qu4NG"
      },
      "outputs": [],
      "source": [
        "spy['percent'] = ((spy['close'] - spy['open']) / spy['open']) * 100"
      ]
    },
    {
      "cell_type": "code",
      "execution_count": 25,
      "metadata": {
        "colab": {
          "base_uri": "https://localhost:8080/",
          "height": 424
        },
        "id": "_fA0pThKvVpa",
        "outputId": "b662c94a-21a4-4735-b41d-b8cbc8731a3d"
      },
      "outputs": [
        {
          "data": {
            "text/html": [
              "<div>\n",
              "<style scoped>\n",
              "    .dataframe tbody tr th:only-of-type {\n",
              "        vertical-align: middle;\n",
              "    }\n",
              "\n",
              "    .dataframe tbody tr th {\n",
              "        vertical-align: top;\n",
              "    }\n",
              "\n",
              "    .dataframe thead th {\n",
              "        text-align: right;\n",
              "    }\n",
              "</style>\n",
              "<table border=\"1\" class=\"dataframe\">\n",
              "  <thead>\n",
              "    <tr style=\"text-align: right;\">\n",
              "      <th></th>\n",
              "      <th>date</th>\n",
              "      <th>open</th>\n",
              "      <th>high</th>\n",
              "      <th>low</th>\n",
              "      <th>close</th>\n",
              "      <th>volume</th>\n",
              "      <th>average</th>\n",
              "      <th>barCount</th>\n",
              "      <th>text</th>\n",
              "      <th>percent</th>\n",
              "    </tr>\n",
              "  </thead>\n",
              "  <tbody>\n",
              "    <tr>\n",
              "      <th>0</th>\n",
              "      <td>2022-11-02 14:31:15</td>\n",
              "      <td>387.13</td>\n",
              "      <td>387.17</td>\n",
              "      <td>386.75</td>\n",
              "      <td>386.83</td>\n",
              "      <td>82173.0</td>\n",
              "      <td>386.884</td>\n",
              "      <td>444</td>\n",
              "      <td>Good afternoon. My colleagues and I are stron...</td>\n",
              "      <td>-0.077493</td>\n",
              "    </tr>\n",
              "    <tr>\n",
              "      <th>1</th>\n",
              "      <td>2022-11-02 14:31:20</td>\n",
              "      <td>386.80</td>\n",
              "      <td>387.00</td>\n",
              "      <td>386.80</td>\n",
              "      <td>386.91</td>\n",
              "      <td>38918.0</td>\n",
              "      <td>386.913</td>\n",
              "      <td>234</td>\n",
              "      <td>We have both the tools that we need and the r...</td>\n",
              "      <td>0.028438</td>\n",
              "    </tr>\n",
              "    <tr>\n",
              "      <th>2</th>\n",
              "      <td>2022-11-02 14:31:25</td>\n",
              "      <td>386.94</td>\n",
              "      <td>386.96</td>\n",
              "      <td>386.55</td>\n",
              "      <td>386.64</td>\n",
              "      <td>48165.0</td>\n",
              "      <td>386.749</td>\n",
              "      <td>232</td>\n",
              "      <td>NaN</td>\n",
              "      <td>-0.077531</td>\n",
              "    </tr>\n",
              "    <tr>\n",
              "      <th>3</th>\n",
              "      <td>2022-11-02 14:31:30</td>\n",
              "      <td>386.64</td>\n",
              "      <td>386.95</td>\n",
              "      <td>386.59</td>\n",
              "      <td>386.86</td>\n",
              "      <td>30688.0</td>\n",
              "      <td>386.760</td>\n",
              "      <td>190</td>\n",
              "      <td>Price stability is the responsibility of the ...</td>\n",
              "      <td>0.056900</td>\n",
              "    </tr>\n",
              "    <tr>\n",
              "      <th>4</th>\n",
              "      <td>2022-11-02 14:31:35</td>\n",
              "      <td>386.91</td>\n",
              "      <td>386.92</td>\n",
              "      <td>386.81</td>\n",
              "      <td>386.87</td>\n",
              "      <td>22270.0</td>\n",
              "      <td>386.862</td>\n",
              "      <td>130</td>\n",
              "      <td>Without price stability, the economy does not...</td>\n",
              "      <td>-0.010338</td>\n",
              "    </tr>\n",
              "    <tr>\n",
              "      <th>...</th>\n",
              "      <td>...</td>\n",
              "      <td>...</td>\n",
              "      <td>...</td>\n",
              "      <td>...</td>\n",
              "      <td>...</td>\n",
              "      <td>...</td>\n",
              "      <td>...</td>\n",
              "      <td>...</td>\n",
              "      <td>...</td>\n",
              "      <td>...</td>\n",
              "    </tr>\n",
              "    <tr>\n",
              "      <th>538</th>\n",
              "      <td>2022-11-02 15:16:05</td>\n",
              "      <td>380.30</td>\n",
              "      <td>380.48</td>\n",
              "      <td>380.30</td>\n",
              "      <td>380.39</td>\n",
              "      <td>40401.0</td>\n",
              "      <td>380.418</td>\n",
              "      <td>265</td>\n",
              "      <td>At the same time, now you see services inflat...</td>\n",
              "      <td>0.023666</td>\n",
              "    </tr>\n",
              "    <tr>\n",
              "      <th>539</th>\n",
              "      <td>2022-11-02 15:16:10</td>\n",
              "      <td>380.37</td>\n",
              "      <td>380.49</td>\n",
              "      <td>380.24</td>\n",
              "      <td>380.45</td>\n",
              "      <td>40709.0</td>\n",
              "      <td>380.378</td>\n",
              "      <td>221</td>\n",
              "      <td>And I just think that the inflation picture h...</td>\n",
              "      <td>0.021032</td>\n",
              "    </tr>\n",
              "    <tr>\n",
              "      <th>540</th>\n",
              "      <td>2022-11-02 15:16:15</td>\n",
              "      <td>380.45</td>\n",
              "      <td>380.48</td>\n",
              "      <td>380.38</td>\n",
              "      <td>380.39</td>\n",
              "      <td>12465.0</td>\n",
              "      <td>380.425</td>\n",
              "      <td>69</td>\n",
              "      <td>NaN</td>\n",
              "      <td>-0.015771</td>\n",
              "    </tr>\n",
              "    <tr>\n",
              "      <th>541</th>\n",
              "      <td>2022-11-02 15:16:20</td>\n",
              "      <td>380.38</td>\n",
              "      <td>380.38</td>\n",
              "      <td>380.28</td>\n",
              "      <td>380.36</td>\n",
              "      <td>24107.0</td>\n",
              "      <td>380.324</td>\n",
              "      <td>139</td>\n",
              "      <td>That means that we have to have policy be mor...</td>\n",
              "      <td>-0.005258</td>\n",
              "    </tr>\n",
              "    <tr>\n",
              "      <th>542</th>\n",
              "      <td>2022-11-02 15:16:25</td>\n",
              "      <td>380.35</td>\n",
              "      <td>380.36</td>\n",
              "      <td>380.28</td>\n",
              "      <td>380.34</td>\n",
              "      <td>12428.0</td>\n",
              "      <td>380.311</td>\n",
              "      <td>91</td>\n",
              "      <td>Thanks very much.</td>\n",
              "      <td>-0.002629</td>\n",
              "    </tr>\n",
              "  </tbody>\n",
              "</table>\n",
              "<p>543 rows × 10 columns</p>\n",
              "</div>"
            ],
            "text/plain": [
              "                    date    open    high     low   close   volume  average  \\\n",
              "0    2022-11-02 14:31:15  387.13  387.17  386.75  386.83  82173.0  386.884   \n",
              "1    2022-11-02 14:31:20  386.80  387.00  386.80  386.91  38918.0  386.913   \n",
              "2    2022-11-02 14:31:25  386.94  386.96  386.55  386.64  48165.0  386.749   \n",
              "3    2022-11-02 14:31:30  386.64  386.95  386.59  386.86  30688.0  386.760   \n",
              "4    2022-11-02 14:31:35  386.91  386.92  386.81  386.87  22270.0  386.862   \n",
              "..                   ...     ...     ...     ...     ...      ...      ...   \n",
              "538  2022-11-02 15:16:05  380.30  380.48  380.30  380.39  40401.0  380.418   \n",
              "539  2022-11-02 15:16:10  380.37  380.49  380.24  380.45  40709.0  380.378   \n",
              "540  2022-11-02 15:16:15  380.45  380.48  380.38  380.39  12465.0  380.425   \n",
              "541  2022-11-02 15:16:20  380.38  380.38  380.28  380.36  24107.0  380.324   \n",
              "542  2022-11-02 15:16:25  380.35  380.36  380.28  380.34  12428.0  380.311   \n",
              "\n",
              "     barCount                                               text   percent  \n",
              "0         444   Good afternoon. My colleagues and I are stron... -0.077493  \n",
              "1         234   We have both the tools that we need and the r...  0.028438  \n",
              "2         232                                                NaN -0.077531  \n",
              "3         190   Price stability is the responsibility of the ...  0.056900  \n",
              "4         130   Without price stability, the economy does not... -0.010338  \n",
              "..        ...                                                ...       ...  \n",
              "538       265   At the same time, now you see services inflat...  0.023666  \n",
              "539       221   And I just think that the inflation picture h...  0.021032  \n",
              "540        69                                                NaN -0.015771  \n",
              "541       139   That means that we have to have policy be mor... -0.005258  \n",
              "542        91                                  Thanks very much. -0.002629  \n",
              "\n",
              "[543 rows x 10 columns]"
            ]
          },
          "execution_count": 25,
          "metadata": {},
          "output_type": "execute_result"
        }
      ],
      "source": [
        "spy"
      ]
    },
    {
      "cell_type": "markdown",
      "metadata": {
        "id": "8z08GRfvWB0f"
      },
      "source": [
        "We can now filter our dataframe to show bars where the price moved more than a certain percentage. To see where price moved down substantially in a 5 second period, we can filter like so:"
      ]
    },
    {
      "cell_type": "code",
      "execution_count": 26,
      "metadata": {
        "id": "FWoetpHVvDBl"
      },
      "outputs": [],
      "source": [
        "big_downmoves = spy[spy.percent < -0.2]"
      ]
    },
    {
      "cell_type": "code",
      "execution_count": 27,
      "metadata": {
        "colab": {
          "base_uri": "https://localhost:8080/",
          "height": 206
        },
        "id": "Y83NuTvHvEfi",
        "outputId": "fb3cb9f1-3fb5-4bdd-835a-870109232a1a"
      },
      "outputs": [
        {
          "data": {
            "text/html": [
              "<div>\n",
              "<style scoped>\n",
              "    .dataframe tbody tr th:only-of-type {\n",
              "        vertical-align: middle;\n",
              "    }\n",
              "\n",
              "    .dataframe tbody tr th {\n",
              "        vertical-align: top;\n",
              "    }\n",
              "\n",
              "    .dataframe thead th {\n",
              "        text-align: right;\n",
              "    }\n",
              "</style>\n",
              "<table border=\"1\" class=\"dataframe\">\n",
              "  <thead>\n",
              "    <tr style=\"text-align: right;\">\n",
              "      <th></th>\n",
              "      <th>date</th>\n",
              "      <th>open</th>\n",
              "      <th>high</th>\n",
              "      <th>low</th>\n",
              "      <th>close</th>\n",
              "      <th>volume</th>\n",
              "      <th>average</th>\n",
              "      <th>barCount</th>\n",
              "      <th>text</th>\n",
              "      <th>percent</th>\n",
              "    </tr>\n",
              "  </thead>\n",
              "  <tbody>\n",
              "    <tr>\n",
              "      <th>61</th>\n",
              "      <td>2022-11-02 14:36:20</td>\n",
              "      <td>387.74</td>\n",
              "      <td>387.84</td>\n",
              "      <td>386.42</td>\n",
              "      <td>386.45</td>\n",
              "      <td>214600.0</td>\n",
              "      <td>387.037</td>\n",
              "      <td>1225</td>\n",
              "      <td>NaN</td>\n",
              "      <td>-0.332697</td>\n",
              "    </tr>\n",
              "    <tr>\n",
              "      <th>62</th>\n",
              "      <td>2022-11-02 14:36:25</td>\n",
              "      <td>386.40</td>\n",
              "      <td>386.44</td>\n",
              "      <td>385.36</td>\n",
              "      <td>385.52</td>\n",
              "      <td>289403.0</td>\n",
              "      <td>385.919</td>\n",
              "      <td>1731</td>\n",
              "      <td>At some point, as I've said in the last two p...</td>\n",
              "      <td>-0.227743</td>\n",
              "    </tr>\n",
              "    <tr>\n",
              "      <th>78</th>\n",
              "      <td>2022-11-02 14:37:45</td>\n",
              "      <td>383.70</td>\n",
              "      <td>383.70</td>\n",
              "      <td>382.90</td>\n",
              "      <td>382.93</td>\n",
              "      <td>152778.0</td>\n",
              "      <td>383.279</td>\n",
              "      <td>805</td>\n",
              "      <td>To conclude, we understand that our actions a...</td>\n",
              "      <td>-0.200678</td>\n",
              "    </tr>\n",
              "    <tr>\n",
              "      <th>93</th>\n",
              "      <td>2022-11-02 14:39:00</td>\n",
              "      <td>383.67</td>\n",
              "      <td>383.69</td>\n",
              "      <td>382.82</td>\n",
              "      <td>382.83</td>\n",
              "      <td>64429.0</td>\n",
              "      <td>383.275</td>\n",
              "      <td>405</td>\n",
              "      <td>How will we know that we've reached that level?</td>\n",
              "      <td>-0.218938</td>\n",
              "    </tr>\n",
              "    <tr>\n",
              "      <th>154</th>\n",
              "      <td>2022-11-02 14:44:05</td>\n",
              "      <td>385.86</td>\n",
              "      <td>385.87</td>\n",
              "      <td>385.07</td>\n",
              "      <td>385.08</td>\n",
              "      <td>73029.0</td>\n",
              "      <td>385.440</td>\n",
              "      <td>486</td>\n",
              "      <td>NaN</td>\n",
              "      <td>-0.202146</td>\n",
              "    </tr>\n",
              "  </tbody>\n",
              "</table>\n",
              "</div>"
            ],
            "text/plain": [
              "                    date    open    high     low   close    volume  average  \\\n",
              "61   2022-11-02 14:36:20  387.74  387.84  386.42  386.45  214600.0  387.037   \n",
              "62   2022-11-02 14:36:25  386.40  386.44  385.36  385.52  289403.0  385.919   \n",
              "78   2022-11-02 14:37:45  383.70  383.70  382.90  382.93  152778.0  383.279   \n",
              "93   2022-11-02 14:39:00  383.67  383.69  382.82  382.83   64429.0  383.275   \n",
              "154  2022-11-02 14:44:05  385.86  385.87  385.07  385.08   73029.0  385.440   \n",
              "\n",
              "     barCount                                               text   percent  \n",
              "61       1225                                                NaN -0.332697  \n",
              "62       1731   At some point, as I've said in the last two p... -0.227743  \n",
              "78        805   To conclude, we understand that our actions a... -0.200678  \n",
              "93        405    How will we know that we've reached that level? -0.218938  \n",
              "154       486                                                NaN -0.202146  "
            ]
          },
          "execution_count": 27,
          "metadata": {},
          "output_type": "execute_result"
        }
      ],
      "source": [
        "big_downmoves"
      ]
    },
    {
      "cell_type": "markdown",
      "metadata": {
        "id": "xy_suVlvaTLG"
      },
      "source": [
        "Let's quickly visualize this and zoom in on 14:36 using mplfinance:"
      ]
    },
    {
      "cell_type": "code",
      "execution_count": 28,
      "metadata": {
        "colab": {
          "base_uri": "https://localhost:8080/",
          "height": 484
        },
        "id": "a7T-LvOxW_eq",
        "outputId": "ac6ff7d1-fc1a-4066-fdab-fe1720aac361"
      },
      "outputs": [
        {
          "data": {
            "image/png": "[encoded data removed]",
            "text/plain": [
              "<Figure size 576x414 with 2 Axes>"
            ]
          },
          "metadata": {
            "needs_background": "light"
          },
          "output_type": "display_data"
        }
      ],
      "source": [
        "# !pip install mplfinance -q\n",
        "import mplfinance as mpf\n",
        "\n",
        "df = spy\n",
        "df.index = pd.DatetimeIndex(df['date'])\n",
        "\n",
        "mpf.plot(df['2022-11-02 14:36':'2022-11-02 14:39'],type='candle')"
      ]
    },
    {
      "cell_type": "markdown",
      "metadata": {
        "id": "svie0bT-WTaJ"
      },
      "source": [
        "As we can see above, price moved significantly starting at 14:36 (row 61), so we can see the words spoken that led up to this:"
      ]
    },
    {
      "cell_type": "code",
      "execution_count": 29,
      "metadata": {
        "colab": {
          "base_uri": "https://localhost:8080/",
          "height": 868
        },
        "id": "xUot3GYB64tv",
        "outputId": "c02b8e32-bb60-4c09-df39-af2d957f7f14"
      },
      "outputs": [
        {
          "data": {
            "text/html": [
              "<div>\n",
              "<style scoped>\n",
              "    .dataframe tbody tr th:only-of-type {\n",
              "        vertical-align: middle;\n",
              "    }\n",
              "\n",
              "    .dataframe tbody tr th {\n",
              "        vertical-align: top;\n",
              "    }\n",
              "\n",
              "    .dataframe thead th {\n",
              "        text-align: right;\n",
              "    }\n",
              "</style>\n",
              "<table border=\"1\" class=\"dataframe\">\n",
              "  <thead>\n",
              "    <tr style=\"text-align: right;\">\n",
              "      <th></th>\n",
              "      <th>date</th>\n",
              "      <th>open</th>\n",
              "      <th>high</th>\n",
              "      <th>low</th>\n",
              "      <th>close</th>\n",
              "      <th>volume</th>\n",
              "      <th>average</th>\n",
              "      <th>barCount</th>\n",
              "      <th>text</th>\n",
              "      <th>percent</th>\n",
              "    </tr>\n",
              "    <tr>\n",
              "      <th>date</th>\n",
              "      <th></th>\n",
              "      <th></th>\n",
              "      <th></th>\n",
              "      <th></th>\n",
              "      <th></th>\n",
              "      <th></th>\n",
              "      <th></th>\n",
              "      <th></th>\n",
              "      <th></th>\n",
              "      <th></th>\n",
              "    </tr>\n",
              "  </thead>\n",
              "  <tbody>\n",
              "    <tr>\n",
              "      <th>2022-11-02 14:35:25</th>\n",
              "      <td>2022-11-02 14:35:25</td>\n",
              "      <td>386.91</td>\n",
              "      <td>387.24</td>\n",
              "      <td>386.88</td>\n",
              "      <td>387.19</td>\n",
              "      <td>24625.0</td>\n",
              "      <td>387.125</td>\n",
              "      <td>181</td>\n",
              "      <td>NaN</td>\n",
              "      <td>0.072368</td>\n",
              "    </tr>\n",
              "    <tr>\n",
              "      <th>2022-11-02 14:35:30</th>\n",
              "      <td>2022-11-02 14:35:30</td>\n",
              "      <td>387.21</td>\n",
              "      <td>387.81</td>\n",
              "      <td>387.20</td>\n",
              "      <td>387.77</td>\n",
              "      <td>97840.0</td>\n",
              "      <td>387.514</td>\n",
              "      <td>688</td>\n",
              "      <td>NaN</td>\n",
              "      <td>0.144624</td>\n",
              "    </tr>\n",
              "    <tr>\n",
              "      <th>2022-11-02 14:35:35</th>\n",
              "      <td>2022-11-02 14:35:35</td>\n",
              "      <td>387.73</td>\n",
              "      <td>387.93</td>\n",
              "      <td>387.63</td>\n",
              "      <td>387.65</td>\n",
              "      <td>95192.0</td>\n",
              "      <td>387.808</td>\n",
              "      <td>475</td>\n",
              "      <td>With today's action, we've raised interest ra...</td>\n",
              "      <td>-0.020633</td>\n",
              "    </tr>\n",
              "    <tr>\n",
              "      <th>2022-11-02 14:35:40</th>\n",
              "      <td>2022-11-02 14:35:40</td>\n",
              "      <td>387.64</td>\n",
              "      <td>387.76</td>\n",
              "      <td>387.52</td>\n",
              "      <td>387.55</td>\n",
              "      <td>30898.0</td>\n",
              "      <td>387.617</td>\n",
              "      <td>162</td>\n",
              "      <td>We anticipate that ongoing increases in the t...</td>\n",
              "      <td>-0.023217</td>\n",
              "    </tr>\n",
              "    <tr>\n",
              "      <th>2022-11-02 14:35:45</th>\n",
              "      <td>2022-11-02 14:35:45</td>\n",
              "      <td>387.56</td>\n",
              "      <td>388.19</td>\n",
              "      <td>387.56</td>\n",
              "      <td>388.16</td>\n",
              "      <td>148005.0</td>\n",
              "      <td>388.015</td>\n",
              "      <td>823</td>\n",
              "      <td>NaN</td>\n",
              "      <td>0.154815</td>\n",
              "    </tr>\n",
              "    <tr>\n",
              "      <th>2022-11-02 14:35:50</th>\n",
              "      <td>2022-11-02 14:35:50</td>\n",
              "      <td>388.15</td>\n",
              "      <td>388.63</td>\n",
              "      <td>388.14</td>\n",
              "      <td>388.22</td>\n",
              "      <td>154486.0</td>\n",
              "      <td>388.446</td>\n",
              "      <td>883</td>\n",
              "      <td>NaN</td>\n",
              "      <td>0.018034</td>\n",
              "    </tr>\n",
              "    <tr>\n",
              "      <th>2022-11-02 14:35:55</th>\n",
              "      <td>2022-11-02 14:35:55</td>\n",
              "      <td>388.25</td>\n",
              "      <td>388.46</td>\n",
              "      <td>388.02</td>\n",
              "      <td>388.42</td>\n",
              "      <td>51105.0</td>\n",
              "      <td>388.253</td>\n",
              "      <td>320</td>\n",
              "      <td>Financial conditions have tightened significa...</td>\n",
              "      <td>0.043786</td>\n",
              "    </tr>\n",
              "    <tr>\n",
              "      <th>2022-11-02 14:36:00</th>\n",
              "      <td>2022-11-02 14:36:00</td>\n",
              "      <td>388.46</td>\n",
              "      <td>388.47</td>\n",
              "      <td>388.02</td>\n",
              "      <td>388.23</td>\n",
              "      <td>61893.0</td>\n",
              "      <td>388.204</td>\n",
              "      <td>368</td>\n",
              "      <td>NaN</td>\n",
              "      <td>-0.059208</td>\n",
              "    </tr>\n",
              "    <tr>\n",
              "      <th>2022-11-02 14:36:05</th>\n",
              "      <td>2022-11-02 14:36:05</td>\n",
              "      <td>388.24</td>\n",
              "      <td>388.34</td>\n",
              "      <td>387.58</td>\n",
              "      <td>387.69</td>\n",
              "      <td>93311.0</td>\n",
              "      <td>387.940</td>\n",
              "      <td>520</td>\n",
              "      <td>It will take time, however, for the full effe...</td>\n",
              "      <td>-0.141665</td>\n",
              "    </tr>\n",
              "    <tr>\n",
              "      <th>2022-11-02 14:36:10</th>\n",
              "      <td>2022-11-02 14:36:10</td>\n",
              "      <td>387.69</td>\n",
              "      <td>388.12</td>\n",
              "      <td>387.69</td>\n",
              "      <td>388.10</td>\n",
              "      <td>65169.0</td>\n",
              "      <td>387.898</td>\n",
              "      <td>304</td>\n",
              "      <td>That's why we say in our statement that in de...</td>\n",
              "      <td>0.105755</td>\n",
              "    </tr>\n",
              "    <tr>\n",
              "      <th>2022-11-02 14:36:15</th>\n",
              "      <td>2022-11-02 14:36:15</td>\n",
              "      <td>388.11</td>\n",
              "      <td>388.28</td>\n",
              "      <td>387.66</td>\n",
              "      <td>387.74</td>\n",
              "      <td>68404.0</td>\n",
              "      <td>387.931</td>\n",
              "      <td>465</td>\n",
              "      <td>NaN</td>\n",
              "      <td>-0.095334</td>\n",
              "    </tr>\n",
              "    <tr>\n",
              "      <th>2022-11-02 14:36:20</th>\n",
              "      <td>2022-11-02 14:36:20</td>\n",
              "      <td>387.74</td>\n",
              "      <td>387.84</td>\n",
              "      <td>386.42</td>\n",
              "      <td>386.45</td>\n",
              "      <td>214600.0</td>\n",
              "      <td>387.037</td>\n",
              "      <td>1225</td>\n",
              "      <td>NaN</td>\n",
              "      <td>-0.332697</td>\n",
              "    </tr>\n",
              "    <tr>\n",
              "      <th>2022-11-02 14:36:25</th>\n",
              "      <td>2022-11-02 14:36:25</td>\n",
              "      <td>386.40</td>\n",
              "      <td>386.44</td>\n",
              "      <td>385.36</td>\n",
              "      <td>385.52</td>\n",
              "      <td>289403.0</td>\n",
              "      <td>385.919</td>\n",
              "      <td>1731</td>\n",
              "      <td>At some point, as I've said in the last two p...</td>\n",
              "      <td>-0.227743</td>\n",
              "    </tr>\n",
              "    <tr>\n",
              "      <th>2022-11-02 14:36:30</th>\n",
              "      <td>2022-11-02 14:36:30</td>\n",
              "      <td>385.56</td>\n",
              "      <td>385.97</td>\n",
              "      <td>385.23</td>\n",
              "      <td>385.96</td>\n",
              "      <td>182330.0</td>\n",
              "      <td>385.537</td>\n",
              "      <td>896</td>\n",
              "      <td>NaN</td>\n",
              "      <td>0.103745</td>\n",
              "    </tr>\n",
              "    <tr>\n",
              "      <th>2022-11-02 14:36:35</th>\n",
              "      <td>2022-11-02 14:36:35</td>\n",
              "      <td>385.92</td>\n",
              "      <td>385.94</td>\n",
              "      <td>385.27</td>\n",
              "      <td>385.27</td>\n",
              "      <td>155739.0</td>\n",
              "      <td>385.522</td>\n",
              "      <td>906</td>\n",
              "      <td>NaN</td>\n",
              "      <td>-0.168429</td>\n",
              "    </tr>\n",
              "    <tr>\n",
              "      <th>2022-11-02 14:36:40</th>\n",
              "      <td>2022-11-02 14:36:40</td>\n",
              "      <td>385.29</td>\n",
              "      <td>385.37</td>\n",
              "      <td>384.83</td>\n",
              "      <td>384.89</td>\n",
              "      <td>174910.0</td>\n",
              "      <td>385.113</td>\n",
              "      <td>1080</td>\n",
              "      <td>There is significant uncertainty around that ...</td>\n",
              "      <td>-0.103818</td>\n",
              "    </tr>\n",
              "    <tr>\n",
              "      <th>2022-11-02 14:36:45</th>\n",
              "      <td>2022-11-02 14:36:45</td>\n",
              "      <td>384.95</td>\n",
              "      <td>384.97</td>\n",
              "      <td>384.42</td>\n",
              "      <td>384.63</td>\n",
              "      <td>134028.0</td>\n",
              "      <td>384.617</td>\n",
              "      <td>836</td>\n",
              "      <td>And incoming data, since our last meeting, su...</td>\n",
              "      <td>-0.083128</td>\n",
              "    </tr>\n",
              "    <tr>\n",
              "      <th>2022-11-02 14:36:50</th>\n",
              "      <td>2022-11-02 14:36:50</td>\n",
              "      <td>384.65</td>\n",
              "      <td>384.84</td>\n",
              "      <td>384.22</td>\n",
              "      <td>384.33</td>\n",
              "      <td>144259.0</td>\n",
              "      <td>384.539</td>\n",
              "      <td>694</td>\n",
              "      <td>NaN</td>\n",
              "      <td>-0.083193</td>\n",
              "    </tr>\n",
              "    <tr>\n",
              "      <th>2022-11-02 14:36:55</th>\n",
              "      <td>2022-11-02 14:36:55</td>\n",
              "      <td>384.30</td>\n",
              "      <td>384.30</td>\n",
              "      <td>383.90</td>\n",
              "      <td>383.99</td>\n",
              "      <td>138305.0</td>\n",
              "      <td>384.063</td>\n",
              "      <td>765</td>\n",
              "      <td>Our decisions will depend on the totality of ...</td>\n",
              "      <td>-0.080666</td>\n",
              "    </tr>\n",
              "    <tr>\n",
              "      <th>2022-11-02 14:37:00</th>\n",
              "      <td>2022-11-02 14:37:00</td>\n",
              "      <td>383.94</td>\n",
              "      <td>384.66</td>\n",
              "      <td>383.87</td>\n",
              "      <td>384.66</td>\n",
              "      <td>158312.0</td>\n",
              "      <td>384.183</td>\n",
              "      <td>856</td>\n",
              "      <td>We will continue to make our decisions meetin...</td>\n",
              "      <td>0.187529</td>\n",
              "    </tr>\n",
              "  </tbody>\n",
              "</table>\n",
              "</div>"
            ],
            "text/plain": [
              "                                    date    open    high     low   close  \\\n",
              "date                                                                       \n",
              "2022-11-02 14:35:25  2022-11-02 14:35:25  386.91  387.24  386.88  387.19   \n",
              "2022-11-02 14:35:30  2022-11-02 14:35:30  387.21  387.81  387.20  387.77   \n",
              "2022-11-02 14:35:35  2022-11-02 14:35:35  387.73  387.93  387.63  387.65   \n",
              "2022-11-02 14:35:40  2022-11-02 14:35:40  387.64  387.76  387.52  387.55   \n",
              "2022-11-02 14:35:45  2022-11-02 14:35:45  387.56  388.19  387.56  388.16   \n",
              "2022-11-02 14:35:50  2022-11-02 14:35:50  388.15  388.63  388.14  388.22   \n",
              "2022-11-02 14:35:55  2022-11-02 14:35:55  388.25  388.46  388.02  388.42   \n",
              "2022-11-02 14:36:00  2022-11-02 14:36:00  388.46  388.47  388.02  388.23   \n",
              "2022-11-02 14:36:05  2022-11-02 14:36:05  388.24  388.34  387.58  387.69   \n",
              "2022-11-02 14:36:10  2022-11-02 14:36:10  387.69  388.12  387.69  388.10   \n",
              "2022-11-02 14:36:15  2022-11-02 14:36:15  388.11  388.28  387.66  387.74   \n",
              "2022-11-02 14:36:20  2022-11-02 14:36:20  387.74  387.84  386.42  386.45   \n",
              "2022-11-02 14:36:25  2022-11-02 14:36:25  386.40  386.44  385.36  385.52   \n",
              "2022-11-02 14:36:30  2022-11-02 14:36:30  385.56  385.97  385.23  385.96   \n",
              "2022-11-02 14:36:35  2022-11-02 14:36:35  385.92  385.94  385.27  385.27   \n",
              "2022-11-02 14:36:40  2022-11-02 14:36:40  385.29  385.37  384.83  384.89   \n",
              "2022-11-02 14:36:45  2022-11-02 14:36:45  384.95  384.97  384.42  384.63   \n",
              "2022-11-02 14:36:50  2022-11-02 14:36:50  384.65  384.84  384.22  384.33   \n",
              "2022-11-02 14:36:55  2022-11-02 14:36:55  384.30  384.30  383.90  383.99   \n",
              "2022-11-02 14:37:00  2022-11-02 14:37:00  383.94  384.66  383.87  384.66   \n",
              "\n",
              "                       volume  average  barCount  \\\n",
              "date                                               \n",
              "2022-11-02 14:35:25   24625.0  387.125       181   \n",
              "2022-11-02 14:35:30   97840.0  387.514       688   \n",
              "2022-11-02 14:35:35   95192.0  387.808       475   \n",
              "2022-11-02 14:35:40   30898.0  387.617       162   \n",
              "2022-11-02 14:35:45  148005.0  388.015       823   \n",
              "2022-11-02 14:35:50  154486.0  388.446       883   \n",
              "2022-11-02 14:35:55   51105.0  388.253       320   \n",
              "2022-11-02 14:36:00   61893.0  388.204       368   \n",
              "2022-11-02 14:36:05   93311.0  387.940       520   \n",
              "2022-11-02 14:36:10   65169.0  387.898       304   \n",
              "2022-11-02 14:36:15   68404.0  387.931       465   \n",
              "2022-11-02 14:36:20  214600.0  387.037      1225   \n",
              "2022-11-02 14:36:25  289403.0  385.919      1731   \n",
              "2022-11-02 14:36:30  182330.0  385.537       896   \n",
              "2022-11-02 14:36:35  155739.0  385.522       906   \n",
              "2022-11-02 14:36:40  174910.0  385.113      1080   \n",
              "2022-11-02 14:36:45  134028.0  384.617       836   \n",
              "2022-11-02 14:36:50  144259.0  384.539       694   \n",
              "2022-11-02 14:36:55  138305.0  384.063       765   \n",
              "2022-11-02 14:37:00  158312.0  384.183       856   \n",
              "\n",
              "                                                                  text  \\\n",
              "date                                                                     \n",
              "2022-11-02 14:35:25                                                NaN   \n",
              "2022-11-02 14:35:30                                                NaN   \n",
              "2022-11-02 14:35:35   With today's action, we've raised interest ra...   \n",
              "2022-11-02 14:35:40   We anticipate that ongoing increases in the t...   \n",
              "2022-11-02 14:35:45                                                NaN   \n",
              "2022-11-02 14:35:50                                                NaN   \n",
              "2022-11-02 14:35:55   Financial conditions have tightened significa...   \n",
              "2022-11-02 14:36:00                                                NaN   \n",
              "2022-11-02 14:36:05   It will take time, however, for the full effe...   \n",
              "2022-11-02 14:36:10   That's why we say in our statement that in de...   \n",
              "2022-11-02 14:36:15                                                NaN   \n",
              "2022-11-02 14:36:20                                                NaN   \n",
              "2022-11-02 14:36:25   At some point, as I've said in the last two p...   \n",
              "2022-11-02 14:36:30                                                NaN   \n",
              "2022-11-02 14:36:35                                                NaN   \n",
              "2022-11-02 14:36:40   There is significant uncertainty around that ...   \n",
              "2022-11-02 14:36:45   And incoming data, since our last meeting, su...   \n",
              "2022-11-02 14:36:50                                                NaN   \n",
              "2022-11-02 14:36:55   Our decisions will depend on the totality of ...   \n",
              "2022-11-02 14:37:00   We will continue to make our decisions meetin...   \n",
              "\n",
              "                      percent  \n",
              "date                           \n",
              "2022-11-02 14:35:25  0.072368  \n",
              "2022-11-02 14:35:30  0.144624  \n",
              "2022-11-02 14:35:35 -0.020633  \n",
              "2022-11-02 14:35:40 -0.023217  \n",
              "2022-11-02 14:35:45  0.154815  \n",
              "2022-11-02 14:35:50  0.018034  \n",
              "2022-11-02 14:35:55  0.043786  \n",
              "2022-11-02 14:36:00 -0.059208  \n",
              "2022-11-02 14:36:05 -0.141665  \n",
              "2022-11-02 14:36:10  0.105755  \n",
              "2022-11-02 14:36:15 -0.095334  \n",
              "2022-11-02 14:36:20 -0.332697  \n",
              "2022-11-02 14:36:25 -0.227743  \n",
              "2022-11-02 14:36:30  0.103745  \n",
              "2022-11-02 14:36:35 -0.168429  \n",
              "2022-11-02 14:36:40 -0.103818  \n",
              "2022-11-02 14:36:45 -0.083128  \n",
              "2022-11-02 14:36:50 -0.083193  \n",
              "2022-11-02 14:36:55 -0.080666  \n",
              "2022-11-02 14:37:00  0.187529  "
            ]
          },
          "execution_count": 29,
          "metadata": {},
          "output_type": "execute_result"
        }
      ],
      "source": [
        "spy[50:70]"
      ]
    }
  ],
  "metadata": {
    "accelerator": "GPU",
    "colab": {
      "provenance": []
    },
    "gpuClass": "premium",
    "kernelspec": {
      "display_name": "Python 3",
      "name": "python3"
    },
    "language_info": {
      "codemirror_mode": {
        "name": "ipython",
        "version": 3
      },
      "file_extension": ".py",
      "mimetype": "text/x-python",
      "name": "python",
      "nbconvert_exporter": "python",
      "pygments_lexer": "ipython3",
      "version": "3.10.0"
    }
  },
  "nbformat": 4,
  "nbformat_minor": 0
}
